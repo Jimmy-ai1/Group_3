{
  "nbformat": 4,
  "nbformat_minor": 0,
  "metadata": {
    "colab": {
      "provenance": [],
      "authorship_tag": "ABX9TyPYUO7IedcljlCQwBYYMCT4",
      "include_colab_link": true
    },
    "kernelspec": {
      "name": "python3",
      "display_name": "Python 3"
    },
    "language_info": {
      "name": "python"
    }
  },
  "cells": [
    {
      "cell_type": "markdown",
      "metadata": {
        "id": "view-in-github",
        "colab_type": "text"
      },
      "source": [
        "<a href=\"https://colab.research.google.com/github/Jimmy-ai1/Group_3/blob/main/Group_3_task.ipynb\" target=\"_parent\"><img src=\"https://colab.research.google.com/assets/colab-badge.svg\" alt=\"Open In Colab\"/></a>"
      ]
    },
    {
      "cell_type": "markdown",
      "source": [
        "Results of the research we undertook:"
      ],
      "metadata": {
        "id": "q_xXOlvRxMFA"
      }
    },
    {
      "cell_type": "code",
      "execution_count": null,
      "metadata": {
        "id": "KCYU7BZTuUEU"
      },
      "outputs": [],
      "source": [
        "# Saccos: Name of sacco, number of buses, fares (Rush hour, Low pick hours)\n",
        "# Routes: CBD - Mlolongo - Kitengela, CBD - Kawangware, CBD - Donholm, CBD - Ngong, Kasarani - CBD\n",
        "# Fares: 100, 80, 60"
      ]
    },
    {
      "cell_type": "code",
      "source": [
        "string = \"SuperMetro\" # Text\n",
        "integer = 110 # Numbers without decimal\n",
        "Float = 100.0 # Numbers with decimal/fractional part"
      ],
      "metadata": {
        "id": "pBnQ9iz92y_7"
      },
      "execution_count": null,
      "outputs": []
    },
    {
      "cell_type": "code",
      "source": [
        "Sacco_names =[\"SuperMetro\", \"Enabled\", \"Nangkis\", \"MTN\", \"Embassava\"]\n",
        "Popular_routes = [\"CBD - Mlolongo - Kitengela\", \"CBD - Kawangware\", \"CBD - Donholm\", \"CBD - Ngong\", \"Kasarani - CBD\"]\n",
        "Fares = [100, 80, 60]"
      ],
      "metadata": {
        "id": "if7uPQ2LxG_i"
      },
      "execution_count": null,
      "outputs": []
    },
    {
      "cell_type": "code",
      "source": [
        "# Trying out the sort function\n",
        "Sacco_names.sort()\n",
        "Sacco_names"
      ],
      "metadata": {
        "colab": {
          "base_uri": "https://localhost:8080/"
        },
        "id": "y_8rLdPo9DGB",
        "outputId": "e22b774f-78df-4f60-8449-aa0feccfc436"
      },
      "execution_count": null,
      "outputs": [
        {
          "output_type": "execute_result",
          "data": {
            "text/plain": [
              "['Embassava', 'Enabled', 'MTN', 'Nangkis', 'SuperMetro']"
            ]
          },
          "metadata": {},
          "execution_count": 6
        }
      ]
    },
    {
      "cell_type": "code",
      "source": [
        "# Printing one element from the Sacco_names list:\n",
        "Sacco_names[1]"
      ],
      "metadata": {
        "colab": {
          "base_uri": "https://localhost:8080/",
          "height": 35
        },
        "id": "9lORFqsCyeYm",
        "outputId": "fa984e25-931a-44b7-d6f9-dcdccdb19cde"
      },
      "execution_count": null,
      "outputs": [
        {
          "output_type": "execute_result",
          "data": {
            "text/plain": [
              "'Enabled'"
            ],
            "application/vnd.google.colaboratory.intrinsic+json": {
              "type": "string"
            }
          },
          "metadata": {},
          "execution_count": 7
        }
      ]
    },
    {
      "cell_type": "code",
      "source": [
        "# Adding an element to the list (Considering the difference between append and insert)\n",
        "Sacco_names.append(\"Nganya\")\n",
        "Sacco_names"
      ],
      "metadata": {
        "colab": {
          "base_uri": "https://localhost:8080/"
        },
        "id": "fZvgEWDYyuNx",
        "outputId": "fc232c2b-42b4-416f-c2a1-2c2b0cc1fd4e"
      },
      "execution_count": null,
      "outputs": [
        {
          "output_type": "execute_result",
          "data": {
            "text/plain": [
              "['Embassava', 'Enabled', 'MTN', 'Nangkis', 'SuperMetro', 'Nganya']"
            ]
          },
          "metadata": {},
          "execution_count": 8
        }
      ]
    },
    {
      "cell_type": "code",
      "source": [
        "Sacco_names.insert(1, \"Rembo\")"
      ],
      "metadata": {
        "id": "hVoB73csy-xf"
      },
      "execution_count": null,
      "outputs": []
    },
    {
      "cell_type": "code",
      "source": [
        "# Removing an element from a list\n",
        "Sacco_names.remove(\"Nganya\")\n",
        "Sacco_names"
      ],
      "metadata": {
        "colab": {
          "base_uri": "https://localhost:8080/"
        },
        "id": "_96g3S20zU1E",
        "outputId": "d0feab28-a5f3-47f6-ce00-42f900f9bd76"
      },
      "execution_count": null,
      "outputs": [
        {
          "output_type": "execute_result",
          "data": {
            "text/plain": [
              "['Embassava', 'Rembo', 'Enabled', 'MTN', 'Nangkis', 'SuperMetro']"
            ]
          },
          "metadata": {},
          "execution_count": 10
        }
      ]
    },
    {
      "cell_type": "code",
      "source": [
        "# Changing a list to a tuple\n",
        "Tuple_Saccos = tuple(Sacco_names)\n",
        "type(Tuple_Saccos)"
      ],
      "metadata": {
        "colab": {
          "base_uri": "https://localhost:8080/"
        },
        "id": "MIq-DIsY0QH0",
        "outputId": "c39fae4b-83e4-4459-a38c-aecb45f12875"
      },
      "execution_count": null,
      "outputs": [
        {
          "output_type": "execute_result",
          "data": {
            "text/plain": [
              "tuple"
            ]
          },
          "metadata": {},
          "execution_count": 11
        }
      ]
    },
    {
      "cell_type": "code",
      "source": [
        "# Changing a list to a set\n",
        "Sacco_set = set(Tuple_Saccos)\n",
        "type(Sacco_set)"
      ],
      "metadata": {
        "colab": {
          "base_uri": "https://localhost:8080/"
        },
        "id": "-KAtCLI51U5V",
        "outputId": "508f771f-0572-44ef-8329-d33b02a7ba49"
      },
      "execution_count": null,
      "outputs": [
        {
          "output_type": "execute_result",
          "data": {
            "text/plain": [
              "set"
            ]
          },
          "metadata": {},
          "execution_count": 12
        }
      ]
    },
    {
      "cell_type": "code",
      "source": [
        "# Sacco name, route it takes, fares it charges\n",
        "Individual_Sacco = {\n",
        "    \"SuperMetro\" : {\n",
        "        \"Name\": \"SuperMetro\",\n",
        "        \"Route\": [\"CBD - Mlolongo - Kitengela\", \"CBD - Kawangware\"],\n",
        "        \"Fare\": 100\n",
        "    },\n",
        "    \"Enabled\" : {\n",
        "        \"Name\": \"Enabled\",\n",
        "        \"Route\": \"CBD - Kawangware\",\n",
        "        \"Fare\": 80\n",
        "    },\n",
        "    \"Nangkis\" : {\n",
        "        \"Name\": \"Nangkis\",\n",
        "        \"Route\": \"CBD - Donholm\",\n",
        "        \"Fare\": 60\n",
        "    },\n",
        "    \"MTN\" : {\n",
        "        \"Name\": \"MTN\",\n",
        "        \"Route\": \"CBD - Ngong\",\n",
        "        \"Fare\": 100\n",
        "    },\n",
        "    \"Embassava\" : {\n",
        "        \"Name\": \"Embassava\",\n",
        "        \"Route\": \"Kasarani - CBD\",\n",
        "        \"Fare\": 80\n",
        "    }\n",
        "}\n",
        "Individual_Sacco"
      ],
      "metadata": {
        "colab": {
          "base_uri": "https://localhost:8080/"
        },
        "id": "NGasuXTh2As2",
        "outputId": "62b7ba10-fada-460c-88e2-f9b022e3bd68"
      },
      "execution_count": null,
      "outputs": [
        {
          "output_type": "execute_result",
          "data": {
            "text/plain": [
              "{'SuperMetro': {'Name': 'SuperMetro',\n",
              "  'Route': ['CBD - Mlolongo - Kitengela', 'CBD - Kawangware'],\n",
              "  'Fare': 100},\n",
              " 'Enabled': {'Name': 'Enabled', 'Route': 'CBD - Kawangware', 'Fare': 80},\n",
              " 'Nangkis': {'Name': 'Nangkis', 'Route': 'CBD - Donholm', 'Fare': 60},\n",
              " 'MTN': {'Name': 'MTN', 'Route': 'CBD - Ngong', 'Fare': 100},\n",
              " 'Embassava': {'Name': 'Embassava', 'Route': 'Kasarani - CBD', 'Fare': 80}}"
            ]
          },
          "metadata": {},
          "execution_count": 43
        }
      ]
    },
    {
      "cell_type": "code",
      "source": [
        "# Printing an element from a dictionary\n",
        "Individual_Sacco[\"Enabled\"]"
      ],
      "metadata": {
        "colab": {
          "base_uri": "https://localhost:8080/"
        },
        "id": "x4B-tGCo3M-B",
        "outputId": "c9300bbb-7f4f-43eb-da34-c70ab8523547"
      },
      "execution_count": null,
      "outputs": [
        {
          "output_type": "execute_result",
          "data": {
            "text/plain": [
              "{'Name': 'Enabled', 'Route': 'CBD - Kawangware', 'Fare': 80}"
            ]
          },
          "metadata": {},
          "execution_count": 40
        }
      ]
    },
    {
      "cell_type": "markdown",
      "source": [
        "# WEEK 4\n",
        "Loops, If statement and functions"
      ],
      "metadata": {
        "id": "xUJ3JHxA0hkn"
      }
    },
    {
      "cell_type": "code",
      "source": [
        "Sacco_names =[\"SuperMetro\", \"Enabled\", \"Nangkis\", \"MTN\", \"Embassava\"]\n",
        "Popular_routes = [\"CBD - Mlolongo - Kitengela\", \"CBD - Kawangware\", \"CBD - Donholm\", \"CBD - Ngong\", \"Kasarani - CBD\"]\n",
        "Fares = [100, 80, 60]"
      ],
      "metadata": {
        "id": "kGtXpVI10jQj"
      },
      "execution_count": null,
      "outputs": []
    },
    {
      "cell_type": "code",
      "source": [
        "# If statement - pick and off-pick hours\n",
        "# for loop - retrieve data from dictionary\n",
        "# Prompt the customer to enter their route and outputs the fare and the sacco\n",
        "# Timing - for specific saccos and differing costs\n",
        "# functions to compare costs"
      ],
      "metadata": {
        "id": "b6C9inig0pxm"
      },
      "execution_count": null,
      "outputs": []
    },
    {
      "cell_type": "code",
      "source": [
        "# Prompts the customer to enter the current time and the sacco and outputs the cost\n",
        "time = int(input(\"What is the current time? : \"))\n",
        "sacco_entered = input(\"Enter the sacco you want to board: \")\n",
        "if time < 1200 and time > 0000:\n",
        "  if sacco_entered == \"supermetro\":\n",
        "    fare = 100\n",
        "  else:\n",
        "    fare = 80\n",
        "elif time >= 1200 and time <= 1600:\n",
        "  if sacco_entered == \"supermetro\":\n",
        "    fare = 80\n",
        "  else:\n",
        "    fare = 60\n",
        "else:\n",
        "  if sacco_entered == \"supermetro\":\n",
        "    fare = 120\n",
        "  else:\n",
        "    fare = 100\n",
        "\n",
        "print(f\"It's currently rush hour. Please hurry up!!! The current fare is {fare}\")"
      ],
      "metadata": {
        "colab": {
          "base_uri": "https://localhost:8080/"
        },
        "id": "hebD9jR91I0e",
        "outputId": "1997740e-245f-456b-9083-166594bca12d"
      },
      "execution_count": 5,
      "outputs": [
        {
          "output_type": "stream",
          "name": "stdout",
          "text": [
            "What is the current time? : 0500\n",
            "Enter the sacco you want to board: enabled\n",
            "It's currently rush hour. Please hurry up!!! The current fare is 80\n"
          ]
        }
      ]
    },
    {
      "cell_type": "code",
      "source": [
        "Saccos = {\n",
        "    \"SuperMetro\" : {\n",
        "        \"Name\": \"SuperMetro\",\n",
        "        \"Route\": [\"CBD - Mlolongo - Kitengela\", \"CBD - Kawangware\"],\n",
        "        \"Fare\": 100\n",
        "    },\n",
        "    \"Enabled\" : {\n",
        "        \"Name\": \"Enabled\",\n",
        "        \"Route\": [\"CBD - Kawangware\", \"CBD - Ngong\"],\n",
        "        \"Fare\": 80\n",
        "    },\n",
        "    \"Nangkis\" : {\n",
        "        \"Name\": \"Nangkis\",\n",
        "        \"Route\": [\"CBD - Donholm\", \"CBD - Westlands\"],\n",
        "        \"Fare\": 60\n",
        "    }\n",
        "}"
      ],
      "metadata": {
        "id": "z6UiqIxS6fpw"
      },
      "execution_count": 11,
      "outputs": []
    },
    {
      "cell_type": "code",
      "source": [
        "# for loop to retrieve the routes that each sacco go to\n",
        "for i in Saccos:\n",
        "  name = Saccos[i][\"Name\"]\n",
        "  route = Saccos[i][\"Route\"]\n",
        "  print(f\"The routes for {name} are {route}\")\n"
      ],
      "metadata": {
        "colab": {
          "base_uri": "https://localhost:8080/"
        },
        "id": "jRl1prUJ7Uyg",
        "outputId": "f5e68b66-091a-4660-f5e9-0da83e333ed9"
      },
      "execution_count": 20,
      "outputs": [
        {
          "output_type": "stream",
          "name": "stdout",
          "text": [
            "The routes for SuperMetro are ['CBD - Mlolongo - Kitengela', 'CBD - Kawangware']\n",
            "The routes for Enabled are ['CBD - Kawangware', 'CBD - Ngong']\n",
            "The routes for Nangkis are ['CBD - Donholm', 'CBD - Westlands']\n"
          ]
        }
      ]
    },
    {
      "cell_type": "code",
      "source": [
        "# While loop to reduce the number of empty seats in a matatu\n",
        "Empty_seats = 12\n",
        "while Empty_seats > 0:\n",
        "  Empty_seats -= 1\n",
        "  print(f\"The remaining passengers are {Empty_seats}\")\n",
        "  if Empty_seats == 2:\n",
        "    break\n",
        "print(\"The remaining seats are for the Driver and Conductor\")\n",
        "print(\"The bus is full, we can now leave\")"
      ],
      "metadata": {
        "colab": {
          "base_uri": "https://localhost:8080/"
        },
        "id": "3azRu_KK_x0I",
        "outputId": "7ab85805-15e3-4ed1-d36b-fd9f64eea2d5"
      },
      "execution_count": 26,
      "outputs": [
        {
          "output_type": "stream",
          "name": "stdout",
          "text": [
            "The remaining passengers are 11\n",
            "The remaining passengers are 10\n",
            "The remaining passengers are 9\n",
            "The remaining passengers are 8\n",
            "The remaining passengers are 7\n",
            "The remaining passengers are 6\n",
            "The remaining passengers are 5\n",
            "The remaining passengers are 4\n",
            "The remaining passengers are 3\n",
            "The remaining passengers are 2\n",
            "The remaining seats are for the Driver and Conductor\n",
            "The bus is full, we can now leave\n"
          ]
        }
      ]
    },
    {
      "cell_type": "code",
      "source": [
        "def determine_price(time, sacco):\n",
        "    if time < 1200 and time > 0000:\n",
        "      if sacco_entered == \"supermetro\":\n",
        "        fare = 100\n",
        "      else:\n",
        "        fare = 80\n",
        "    elif time >= 1200 and time <= 1600:\n",
        "      if sacco_entered == \"supermetro\":\n",
        "        fare = 80\n",
        "      else:\n",
        "        fare = 60\n",
        "    else:\n",
        "      if sacco_entered == \"supermetro\":\n",
        "        fare = 120\n",
        "      else:\n",
        "        fare = 100\n",
        "    return(fare)"
      ],
      "metadata": {
        "id": "OCeJHvfSGUA0"
      },
      "execution_count": 40,
      "outputs": []
    },
    {
      "cell_type": "code",
      "source": [
        "# While loop\n",
        "empty_seats = 21\n",
        "muda = 0\n",
        "while empty_seats > 0:\n",
        "  empty_seats -= 1\n",
        "  muda += 3\n",
        "  print(f\" empty seats = {empty_seats}\")\n",
        "  print(f\" muda = {muda}\")\n",
        "  print()\n",
        "  if muda == 15:\n",
        "    print(\"Too much time has elapsed. The bus will leave regardless of the number of passengers\")\n",
        "    print(f\"Full seats = {21 - empty_seats}\")\n",
        "    break"
      ],
      "metadata": {
        "colab": {
          "base_uri": "https://localhost:8080/"
        },
        "id": "qShPjWccJGB2",
        "outputId": "184601fa-dc53-4ce4-e397-7c627382eb0d"
      },
      "execution_count": 50,
      "outputs": [
        {
          "output_type": "stream",
          "name": "stdout",
          "text": [
            " empty seats = 20\n",
            " muda = 3\n",
            "\n",
            " empty seats = 19\n",
            " muda = 6\n",
            "\n",
            " empty seats = 18\n",
            " muda = 9\n",
            "\n",
            " empty seats = 17\n",
            " muda = 12\n",
            "\n",
            " empty seats = 16\n",
            " muda = 15\n",
            "\n",
            "Too much time has elapsed. The bus will leave regardless of the number of passengers\n",
            "Full seats = 5\n"
          ]
        }
      ]
    },
    {
      "cell_type": "code",
      "source": [
        "# function to calculate the total earnings in one trip\n",
        "def calculate_earnings(time, sacco, num_of_people):\n",
        "  determine_price(time, sacco)\n",
        "  total = num_of_people * fare\n",
        "  return(total)"
      ],
      "metadata": {
        "id": "8qfATt05CT9b"
      },
      "execution_count": 44,
      "outputs": []
    },
    {
      "cell_type": "code",
      "source": [
        "calculate_earnings(1600, \"supermetro\", 20)"
      ],
      "metadata": {
        "colab": {
          "base_uri": "https://localhost:8080/"
        },
        "id": "qUC6w09cDVEt",
        "outputId": "f513c0fe-c8eb-4a3f-fd59-350db37ac5da"
      },
      "execution_count": 45,
      "outputs": [
        {
          "output_type": "execute_result",
          "data": {
            "text/plain": [
              "1600"
            ]
          },
          "metadata": {},
          "execution_count": 45
        }
      ]
    }
  ]
}