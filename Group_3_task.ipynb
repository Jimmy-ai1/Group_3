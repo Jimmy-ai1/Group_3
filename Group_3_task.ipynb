{
  "nbformat": 4,
  "nbformat_minor": 0,
  "metadata": {
    "colab": {
      "provenance": [],
      "collapsed_sections": [
        "Y5kulUSOSyU6"
      ],
      "authorship_tag": "ABX9TyNE/PWwppBsfwedZxyzkeS1",
      "include_colab_link": true
    },
    "kernelspec": {
      "name": "python3",
      "display_name": "Python 3"
    },
    "language_info": {
      "name": "python"
    }
  },
  "cells": [
    {
      "cell_type": "markdown",
      "metadata": {
        "id": "view-in-github",
        "colab_type": "text"
      },
      "source": [
        "<a href=\"https://colab.research.google.com/github/Jimmy-ai1/Group_3/blob/main/Group_3_task.ipynb\" target=\"_parent\"><img src=\"https://colab.research.google.com/assets/colab-badge.svg\" alt=\"Open In Colab\"/></a>"
      ]
    },
    {
      "cell_type": "markdown",
      "source": [
        "#Week 3\n",
        "Investgating the Different Datatypes"
      ],
      "metadata": {
        "id": "Y5kulUSOSyU6"
      }
    },
    {
      "cell_type": "code",
      "execution_count": null,
      "metadata": {
        "id": "KCYU7BZTuUEU"
      },
      "outputs": [],
      "source": [
        "# Saccos: Name of sacco, number of buses, fares (Rush hour, Low pick hours)\n",
        "# Routes: CBD - Mlolongo - Kitengela, CBD - Kawangware, CBD - Donholm, CBD - Ngong, Kasarani - CBD\n",
        "# Fares: 100, 80, 60"
      ]
    },
    {
      "cell_type": "code",
      "source": [
        "string = \"SuperMetro\" # Text\n",
        "integer = 110 # Numbers without decimal\n",
        "Float = 100.0 # Numbers with decimal/fractional part"
      ],
      "metadata": {
        "id": "pBnQ9iz92y_7"
      },
      "execution_count": null,
      "outputs": []
    },
    {
      "cell_type": "code",
      "source": [
        "Sacco_names =[\"SuperMetro\", \"Enabled\", \"Nangkis\", \"MTN\", \"Embassava\"]\n",
        "Popular_routes = [\"CBD - Mlolongo - Kitengela\", \"CBD - Kawangware\", \"CBD - Donholm\", \"CBD - Ngong\", \"Kasarani - CBD\"]\n",
        "Fares = [100, 80, 60]"
      ],
      "metadata": {
        "id": "if7uPQ2LxG_i"
      },
      "execution_count": null,
      "outputs": []
    },
    {
      "cell_type": "code",
      "source": [
        "# Trying out the sort function\n",
        "Sacco_names.sort()\n",
        "Sacco_names"
      ],
      "metadata": {
        "colab": {
          "base_uri": "https://localhost:8080/"
        },
        "id": "y_8rLdPo9DGB",
        "outputId": "e22b774f-78df-4f60-8449-aa0feccfc436"
      },
      "execution_count": null,
      "outputs": [
        {
          "output_type": "execute_result",
          "data": {
            "text/plain": [
              "['Embassava', 'Enabled', 'MTN', 'Nangkis', 'SuperMetro']"
            ]
          },
          "metadata": {},
          "execution_count": 6
        }
      ]
    },
    {
      "cell_type": "code",
      "source": [
        "# Printing one element from the Sacco_names list:\n",
        "Sacco_names[1]"
      ],
      "metadata": {
        "colab": {
          "base_uri": "https://localhost:8080/",
          "height": 35
        },
        "id": "9lORFqsCyeYm",
        "outputId": "fa984e25-931a-44b7-d6f9-dcdccdb19cde"
      },
      "execution_count": null,
      "outputs": [
        {
          "output_type": "execute_result",
          "data": {
            "text/plain": [
              "'Enabled'"
            ],
            "application/vnd.google.colaboratory.intrinsic+json": {
              "type": "string"
            }
          },
          "metadata": {},
          "execution_count": 7
        }
      ]
    },
    {
      "cell_type": "code",
      "source": [
        "# Adding an element to the list (Considering the difference between append and insert)\n",
        "Sacco_names.append(\"Nganya\")\n",
        "Sacco_names"
      ],
      "metadata": {
        "colab": {
          "base_uri": "https://localhost:8080/"
        },
        "id": "fZvgEWDYyuNx",
        "outputId": "fc232c2b-42b4-416f-c2a1-2c2b0cc1fd4e"
      },
      "execution_count": null,
      "outputs": [
        {
          "output_type": "execute_result",
          "data": {
            "text/plain": [
              "['Embassava', 'Enabled', 'MTN', 'Nangkis', 'SuperMetro', 'Nganya']"
            ]
          },
          "metadata": {},
          "execution_count": 8
        }
      ]
    },
    {
      "cell_type": "code",
      "source": [
        "Sacco_names.insert(1, \"Rembo\")"
      ],
      "metadata": {
        "id": "hVoB73csy-xf"
      },
      "execution_count": null,
      "outputs": []
    },
    {
      "cell_type": "code",
      "source": [
        "# Removing an element from a list\n",
        "Sacco_names.remove(\"Nganya\")\n",
        "Sacco_names"
      ],
      "metadata": {
        "colab": {
          "base_uri": "https://localhost:8080/"
        },
        "id": "_96g3S20zU1E",
        "outputId": "d0feab28-a5f3-47f6-ce00-42f900f9bd76"
      },
      "execution_count": null,
      "outputs": [
        {
          "output_type": "execute_result",
          "data": {
            "text/plain": [
              "['Embassava', 'Rembo', 'Enabled', 'MTN', 'Nangkis', 'SuperMetro']"
            ]
          },
          "metadata": {},
          "execution_count": 10
        }
      ]
    },
    {
      "cell_type": "code",
      "source": [
        "# Changing a list to a tuple\n",
        "Tuple_Saccos = tuple(Sacco_names)\n",
        "type(Tuple_Saccos)"
      ],
      "metadata": {
        "colab": {
          "base_uri": "https://localhost:8080/"
        },
        "id": "MIq-DIsY0QH0",
        "outputId": "c39fae4b-83e4-4459-a38c-aecb45f12875"
      },
      "execution_count": null,
      "outputs": [
        {
          "output_type": "execute_result",
          "data": {
            "text/plain": [
              "tuple"
            ]
          },
          "metadata": {},
          "execution_count": 11
        }
      ]
    },
    {
      "cell_type": "code",
      "source": [
        "# Changing a list to a set\n",
        "Sacco_set = set(Tuple_Saccos)\n",
        "type(Sacco_set)"
      ],
      "metadata": {
        "colab": {
          "base_uri": "https://localhost:8080/"
        },
        "id": "-KAtCLI51U5V",
        "outputId": "508f771f-0572-44ef-8329-d33b02a7ba49"
      },
      "execution_count": null,
      "outputs": [
        {
          "output_type": "execute_result",
          "data": {
            "text/plain": [
              "set"
            ]
          },
          "metadata": {},
          "execution_count": 12
        }
      ]
    },
    {
      "cell_type": "code",
      "source": [
        "# Sacco name, route it takes, fares it charges\n",
        "Individual_Sacco = {\n",
        "    \"SuperMetro\" : {\n",
        "        \"Name\": \"SuperMetro\",\n",
        "        \"Route\": [\"CBD - Mlolongo - Kitengela\", \"CBD - Kawangware\"],\n",
        "        \"Fare\": 100\n",
        "    },\n",
        "    \"Enabled\" : {\n",
        "        \"Name\": \"Enabled\",\n",
        "        \"Route\": \"CBD - Kawangware\",\n",
        "        \"Fare\": 80\n",
        "    },\n",
        "    \"Nangkis\" : {\n",
        "        \"Name\": \"Nangkis\",\n",
        "        \"Route\": \"CBD - Donholm\",\n",
        "        \"Fare\": 60\n",
        "    },\n",
        "    \"MTN\" : {\n",
        "        \"Name\": \"MTN\",\n",
        "        \"Route\": \"CBD - Ngong\",\n",
        "        \"Fare\": 100\n",
        "    },\n",
        "    \"Embassava\" : {\n",
        "        \"Name\": \"Embassava\",\n",
        "        \"Route\": \"Kasarani - CBD\",\n",
        "        \"Fare\": 80\n",
        "    }\n",
        "}\n",
        "Individual_Sacco"
      ],
      "metadata": {
        "colab": {
          "base_uri": "https://localhost:8080/"
        },
        "id": "NGasuXTh2As2",
        "outputId": "62b7ba10-fada-460c-88e2-f9b022e3bd68"
      },
      "execution_count": null,
      "outputs": [
        {
          "output_type": "execute_result",
          "data": {
            "text/plain": [
              "{'SuperMetro': {'Name': 'SuperMetro',\n",
              "  'Route': ['CBD - Mlolongo - Kitengela', 'CBD - Kawangware'],\n",
              "  'Fare': 100},\n",
              " 'Enabled': {'Name': 'Enabled', 'Route': 'CBD - Kawangware', 'Fare': 80},\n",
              " 'Nangkis': {'Name': 'Nangkis', 'Route': 'CBD - Donholm', 'Fare': 60},\n",
              " 'MTN': {'Name': 'MTN', 'Route': 'CBD - Ngong', 'Fare': 100},\n",
              " 'Embassava': {'Name': 'Embassava', 'Route': 'Kasarani - CBD', 'Fare': 80}}"
            ]
          },
          "metadata": {},
          "execution_count": 43
        }
      ]
    },
    {
      "cell_type": "code",
      "source": [
        "# Printing an element from a dictionary\n",
        "Individual_Sacco[\"Enabled\"]"
      ],
      "metadata": {
        "colab": {
          "base_uri": "https://localhost:8080/"
        },
        "id": "x4B-tGCo3M-B",
        "outputId": "c9300bbb-7f4f-43eb-da34-c70ab8523547"
      },
      "execution_count": null,
      "outputs": [
        {
          "output_type": "execute_result",
          "data": {
            "text/plain": [
              "{'Name': 'Enabled', 'Route': 'CBD - Kawangware', 'Fare': 80}"
            ]
          },
          "metadata": {},
          "execution_count": 40
        }
      ]
    },
    {
      "cell_type": "markdown",
      "source": [
        "# WEEK 4\n",
        "Loops, If statement and functions"
      ],
      "metadata": {
        "id": "xUJ3JHxA0hkn"
      }
    },
    {
      "cell_type": "code",
      "source": [
        "Sacco_names =[\"SuperMetro\", \"Enabled\", \"Nangkis\", \"MTN\", \"Embassava\"]\n",
        "Popular_routes = [\"CBD - Mlolongo - Kitengela\", \"CBD - Kawangware\", \"CBD - Donholm\", \"CBD - Ngong\", \"Kasarani - CBD\"]\n",
        "Fares = [100, 80, 60]"
      ],
      "metadata": {
        "id": "kGtXpVI10jQj"
      },
      "execution_count": null,
      "outputs": []
    },
    {
      "cell_type": "code",
      "source": [
        "# If statement - pick and off-pick hours\n",
        "# for loop - retrieve data from dictionary\n",
        "# Prompt the customer to enter their route and outputs the fare and the sacco\n",
        "# Timing - for specific saccos and differing costs\n",
        "# functions to compare costs"
      ],
      "metadata": {
        "id": "b6C9inig0pxm"
      },
      "execution_count": null,
      "outputs": []
    },
    {
      "cell_type": "code",
      "source": [
        "# Prompts the customer to enter the current time and the sacco and outputs the cost\n",
        "time = int(input(\"What is the current time? : \"))\n",
        "sacco_entered = input(\"Enter the sacco you want to board: \")\n",
        "if time < 1200 and time > 0000:\n",
        "  hour = \"morning\"\n",
        "  if sacco_entered == \"supermetro\":\n",
        "    fare = 100\n",
        "  else:\n",
        "    fare = 80\n",
        "elif time >= 1200 and time <= 1600:\n",
        "  hour = \"afternoon\"\n",
        "  if sacco_entered == \"supermetro\":\n",
        "    fare = 80\n",
        "  else:\n",
        "    fare = 60\n",
        "else:\n",
        "  hour = \"evening\"\n",
        "  if sacco_entered == \"supermetro\":\n",
        "    fare = 120\n",
        "  else:\n",
        "    fare = 100\n",
        "\n",
        "print(f\"It's currently {hour}. Please hurry up!!! The current fare is {fare}\")"
      ],
      "metadata": {
        "colab": {
          "base_uri": "https://localhost:8080/"
        },
        "id": "hebD9jR91I0e",
        "outputId": "b123d004-c9a2-4644-8cee-8f3b2d336bf3"
      },
      "execution_count": null,
      "outputs": [
        {
          "output_type": "stream",
          "name": "stdout",
          "text": [
            "What is the current time? : 1700\n",
            "Enter the sacco you want to board: supermetro\n",
            "It's currently evening. Please hurry up!!! The current fare is 120\n"
          ]
        }
      ]
    },
    {
      "cell_type": "code",
      "source": [
        "Saccos = {\n",
        "    \"SuperMetro\" : {\n",
        "        \"Name\": \"SuperMetro\",\n",
        "        \"Route\": [\"CBD - Mlolongo - Kitengela\", \"CBD - Kawangware\"],\n",
        "        \"Fare\": 100\n",
        "    },\n",
        "    \"Enabled\" : {\n",
        "        \"Name\": \"Enabled\",\n",
        "        \"Route\": [\"CBD - Kawangware\", \"CBD - Ngong\"],\n",
        "        \"Fare\": 80\n",
        "    },\n",
        "    \"Nangkis\" : {\n",
        "        \"Name\": \"Nangkis\",\n",
        "        \"Route\": [\"CBD - Donholm\", \"CBD - Westlands\"],\n",
        "        \"Fare\": 60\n",
        "    }\n",
        "}"
      ],
      "metadata": {
        "id": "z6UiqIxS6fpw"
      },
      "execution_count": null,
      "outputs": []
    },
    {
      "cell_type": "code",
      "source": [
        "# for loop to retrieve the routes that each sacco go to\n",
        "for i in Saccos:\n",
        "  name = Saccos[i][\"Name\"]\n",
        "  route = Saccos[i][\"Route\"]\n",
        "  print(f\"The routes for {name} are {route}\")\n",
        "  print()"
      ],
      "metadata": {
        "colab": {
          "base_uri": "https://localhost:8080/"
        },
        "id": "jRl1prUJ7Uyg",
        "outputId": "b0459ff9-39ea-473e-a53b-1db29e932faa"
      },
      "execution_count": null,
      "outputs": [
        {
          "output_type": "stream",
          "name": "stdout",
          "text": [
            "The routes for SuperMetro are ['CBD - Mlolongo - Kitengela', 'CBD - Kawangware']\n",
            "\n",
            "The routes for Enabled are ['CBD - Kawangware', 'CBD - Ngong']\n",
            "\n",
            "The routes for Nangkis are ['CBD - Donholm', 'CBD - Westlands']\n",
            "\n"
          ]
        }
      ]
    },
    {
      "cell_type": "code",
      "source": [
        "# While loop to reduce the number of empty seats in a matatu\n",
        "Empty_seats = 12\n",
        "while Empty_seats > 0:\n",
        "  Empty_seats -= 1\n",
        "  print(f\"The remaining empty seats are {Empty_seats}\")\n",
        "  if Empty_seats == 2:\n",
        "    break\n",
        "print()\n",
        "print(\"The remaining seats are for the Driver and Conductor\")\n",
        "print(\"The bus is full, we can now leave\")"
      ],
      "metadata": {
        "colab": {
          "base_uri": "https://localhost:8080/"
        },
        "id": "3azRu_KK_x0I",
        "outputId": "bec86af1-8b97-4a39-b970-8a8587e952ba"
      },
      "execution_count": null,
      "outputs": [
        {
          "output_type": "stream",
          "name": "stdout",
          "text": [
            "The remaining empty seats are 11\n",
            "The remaining empty seats are 10\n",
            "The remaining empty seats are 9\n",
            "The remaining empty seats are 8\n",
            "The remaining empty seats are 7\n",
            "The remaining empty seats are 6\n",
            "The remaining empty seats are 5\n",
            "The remaining empty seats are 4\n",
            "The remaining empty seats are 3\n",
            "The remaining empty seats are 2\n",
            "\n",
            "The remaining seats are for the Driver and Conductor\n",
            "The bus is full, we can now leave\n"
          ]
        }
      ]
    },
    {
      "cell_type": "code",
      "source": [
        "# While loop that reduces the number of empty seats in a bus within a specific time period\n",
        "empty_seats = 21\n",
        "muda = 0\n",
        "while empty_seats > 0:\n",
        "  empty_seats -= 1\n",
        "  muda += 3\n",
        "  print(f\" empty seats = {empty_seats}\")\n",
        "  print(f\" muda_uliopita = {muda}\")\n",
        "  print()\n",
        "  if muda == 15:\n",
        "    print(\"Too much time has elapsed. The bus will leave regardless of the number of passengers\")\n",
        "    print(f\"Full seats = {21 - empty_seats}\")\n",
        "    break"
      ],
      "metadata": {
        "colab": {
          "base_uri": "https://localhost:8080/"
        },
        "id": "qShPjWccJGB2",
        "outputId": "78610f94-ee25-4a69-9b08-5fed025fe28d"
      },
      "execution_count": null,
      "outputs": [
        {
          "output_type": "stream",
          "name": "stdout",
          "text": [
            " empty seats = 20\n",
            " muda_uliopita = 3\n",
            "\n",
            " empty seats = 19\n",
            " muda_uliopita = 6\n",
            "\n",
            " empty seats = 18\n",
            " muda_uliopita = 9\n",
            "\n",
            " empty seats = 17\n",
            " muda_uliopita = 12\n",
            "\n",
            " empty seats = 16\n",
            " muda_uliopita = 15\n",
            "\n",
            "Too much time has elapsed. The bus will leave regardless of the number of passengers\n",
            "Full seats = 5\n"
          ]
        }
      ]
    },
    {
      "cell_type": "code",
      "source": [
        "# function to determine the fare at a specific timelines\n",
        "def determine_price(time, sacco):\n",
        "    if time < 1200 and time > 0000:\n",
        "      if sacco_entered == \"supermetro\":\n",
        "        fare = 100\n",
        "      else:\n",
        "        fare = 80\n",
        "    elif time >= 1200 and time <= 1600:\n",
        "      if sacco_entered == \"supermetro\":\n",
        "        fare = 80\n",
        "      else:\n",
        "        fare = 60\n",
        "    else:\n",
        "      if sacco_entered == \"supermetro\":\n",
        "        fare = 120\n",
        "      else:\n",
        "        fare = 100\n",
        "    return(fare)"
      ],
      "metadata": {
        "id": "OCeJHvfSGUA0"
      },
      "execution_count": null,
      "outputs": []
    },
    {
      "cell_type": "code",
      "source": [
        "# function to calculate the total earnings in one trip\n",
        "def calculate_earnings(time, sacco, num_of_people):\n",
        "  determine_price(time, sacco)\n",
        "  total = num_of_people * fare\n",
        "  return(total)"
      ],
      "metadata": {
        "id": "8qfATt05CT9b"
      },
      "execution_count": null,
      "outputs": []
    },
    {
      "cell_type": "code",
      "source": [
        "calculate_earnings(1600, \"supermetro\", 20)"
      ],
      "metadata": {
        "colab": {
          "base_uri": "https://localhost:8080/"
        },
        "id": "qUC6w09cDVEt",
        "outputId": "cdeac5fd-2a75-4a58-f8d0-5fb8d335992b"
      },
      "execution_count": null,
      "outputs": [
        {
          "output_type": "execute_result",
          "data": {
            "text/plain": [
              "1600"
            ]
          },
          "metadata": {},
          "execution_count": 24
        }
      ]
    },
    {
      "cell_type": "markdown",
      "source": [
        "# WEEK 5"
      ],
      "metadata": {
        "id": "hzV4ArtPFb75"
      }
    },
    {
      "cell_type": "code",
      "source": [
        "# Importing required libraries\n",
        "import numpy as np\n",
        "from scipy import stats\n",
        "import matplotlib.pyplot as plt"
      ],
      "metadata": {
        "id": "23ndhCwPyzf3"
      },
      "execution_count": null,
      "outputs": []
    },
    {
      "cell_type": "code",
      "source": [
        "# Fare prices for the route: CBD to Rongai for 10 unnamed saccos\n",
        "fare_prices = [80, 100, 100, 90, 120, 110, 100, 90, 95, 85]\n",
        "\n",
        "# Distance per route in kilometres\n",
        "route_distance = [12.5, 14.0, 11.3, 13.7, 15.2, 10.5, 16.0, 14.8, 13.0, 12.0]\n",
        "\n",
        "# Estimated travel times for each route in minutes\n",
        "travel_times = [45, 50, 47, 55, 60, 43, 52, 49, 46, 44]"
      ],
      "metadata": {
        "id": "EpdGb4cAFqNX"
      },
      "execution_count": null,
      "outputs": []
    },
    {
      "cell_type": "code",
      "source": [
        "# Histogram visualization\n",
        "fare_prices = [80, 100, 100, 90, 120, 110, 100, 90, 95, 85]\n",
        "plt.hist(fare_prices, edgecolor = \"black\", color = \"red\")\n",
        "plt.xlabel(\"fare price\")\n",
        "plt.ylabel(\"frequency\")\n",
        "plt.show\n",
        "\n",
        "print(np.mean(fare_prices))\n",
        "print(np.median(fare_prices))\n",
        "print(stats.mode(fare_prices))"
      ],
      "metadata": {
        "colab": {
          "base_uri": "https://localhost:8080/",
          "height": 508
        },
        "id": "1GQ9OUv6Epl0",
        "outputId": "02a12736-4746-4fb8-a5b8-17d7def4611f"
      },
      "execution_count": null,
      "outputs": [
        {
          "output_type": "stream",
          "name": "stdout",
          "text": [
            "97.0\n",
            "97.5\n",
            "ModeResult(mode=np.int64(100), count=np.int64(3))\n"
          ]
        },
        {
          "output_type": "display_data",
          "data": {
            "text/plain": [
              "<Figure size 640x480 with 1 Axes>"
            ],
            "image/png": "[encoded data removed]"
          },
          "metadata": {}
        }
      ]
    },
    {
      "cell_type": "code",
      "source": [
        "# boxplot for fare_prices\n",
        "iqr = np.percentile(fare_prices, 75) - np.percentile(fare_prices, 25)\n",
        "print(iqr)\n",
        "plt.boxplot(fare_prices, showfliers=True)\n",
        "plt.style.use('ggplot')\n",
        "plt.show()"
      ],
      "metadata": {
        "colab": {
          "base_uri": "https://localhost:8080/",
          "height": 448
        },
        "id": "LUgqjG0hKmcF",
        "outputId": "35bfcd40-d27b-4927-b88d-91ea94419f79"
      },
      "execution_count": null,
      "outputs": [
        {
          "output_type": "stream",
          "name": "stdout",
          "text": [
            "10.0\n"
          ]
        },
        {
          "output_type": "display_data",
          "data": {
            "text/plain": [
              "<Figure size 640x480 with 1 Axes>"
            ],
            "image/png": "[encoded data removed]"
          },
          "metadata": {}
        }
      ]
    },
    {
      "cell_type": "code",
      "source": [
        "# Q1: What is the common fare price I would expect if I randomly pick any matatu from CBD to Rongai\n",
        "mode = stats.mode(fare_prices).mode\n",
        "print(f\"The common fare price that you would expect is {mode}\")"
      ],
      "metadata": {
        "colab": {
          "base_uri": "https://localhost:8080/"
        },
        "id": "htRRKC5MxeGk",
        "outputId": "5a2ca098-95a9-40e6-af92-8c42b372c954"
      },
      "execution_count": null,
      "outputs": [
        {
          "output_type": "stream",
          "name": "stdout",
          "text": [
            "The common fare price that you would expect is 100\n"
          ]
        }
      ]
    },
    {
      "cell_type": "code",
      "source": [
        "# Q2: Are most matatus charging fair prices, or are some overpriced\n",
        "overcharged = []\n",
        "for fare in fare_prices:\n",
        "  if fare > mode:\n",
        "    overcharged.append(fare)\n",
        "count = len(overcharged)\n",
        "print(count)\n",
        "print(f\"Yes, most matatus are charging fair prices with only {count} overpricing\")"
      ],
      "metadata": {
        "colab": {
          "base_uri": "https://localhost:8080/"
        },
        "id": "hFarrYVkzFgS",
        "outputId": "a34aecf8-309a-433c-d07d-c0b616493671"
      },
      "execution_count": null,
      "outputs": [
        {
          "output_type": "stream",
          "name": "stdout",
          "text": [
            "2\n",
            "Yes, most matatus are charging fair prices with only 2 overpricing\n"
          ]
        }
      ]
    },
    {
      "cell_type": "code",
      "source": [
        "# Q3: How consistent are the fare prices among different saccos\n",
        "stddev = np.std(fare_prices)\n",
        "print(f\"The fare prices are not consistent because the standard deviation, {stddev}, is considerably high\")"
      ],
      "metadata": {
        "colab": {
          "base_uri": "https://localhost:8080/"
        },
        "id": "L3z9pfGA2mbK",
        "outputId": "bea6f973-74ad-4715-da19-aeb848f1b2d6"
      },
      "execution_count": null,
      "outputs": [
        {
          "output_type": "stream",
          "name": "stdout",
          "text": [
            "The fare prices are not consistent because the standard deviation, 11.224972160321824, is considerably high\n"
          ]
        }
      ]
    },
    {
      "cell_type": "code",
      "source": [
        "# Q4: Do saccos that cover longer routes tend to take more time on average\n",
        "# matrix : (route_distance, route_distance) (route_distance, travel_times) (travel_time, route_distance) (travel_time, travel_time)\n",
        "covariance = np.cov(route_distance, travel_times)[0, 1]\n",
        "print(covariance)\n",
        "if covariance > 0:\n",
        "  print(\"Yes, the average travel time increases as the route distance increases \")\n",
        "else:\n",
        "  print(\"No, the average travel time decreases as the route distance increases\")"
      ],
      "metadata": {
        "colab": {
          "base_uri": "https://localhost:8080/"
        },
        "id": "kleGTJPd3cF7",
        "outputId": "22039f99-aeef-44dc-945c-3a98c56b09f1"
      },
      "execution_count": null,
      "outputs": [
        {
          "output_type": "stream",
          "name": "stdout",
          "text": [
            "Yes, the average travel time increases as the route distance increases \n"
          ]
        }
      ]
    },
    {
      "cell_type": "code",
      "source": [
        "# Q5: Is there a strong relationship between fare prices and route distance\n",
        "corr_1 = np.corrcoef(fare_prices, route_distance)[0, 1]\n",
        "print(\"\"\"\n",
        "No, they don't have a strong relationship, therefore,\n",
        "a change in fare prices does not gurrantee a change in route distance\n",
        "\n",
        "\"\"\")\n",
        "print(corr_1)"
      ],
      "metadata": {
        "colab": {
          "base_uri": "https://localhost:8080/"
        },
        "id": "wLdcQpIC307H",
        "outputId": "7eb50c48-253e-446d-c9f7-6f2cc7d10a13"
      },
      "execution_count": null,
      "outputs": [
        {
          "output_type": "stream",
          "name": "stdout",
          "text": [
            "\n",
            "No, they don't have a strong relationship, therefore, \n",
            "a change in fare prices does not gurrantee a change in route distance\n",
            "\n",
            "\n",
            "0.14891173559269308\n"
          ]
        }
      ]
    },
    {
      "cell_type": "code",
      "source": [
        "plt.scatter(fare_prices, route_distance)\n",
        "plt.show()"
      ],
      "metadata": {
        "colab": {
          "base_uri": "https://localhost:8080/",
          "height": 430
        },
        "id": "iTZBdVW-JrnM",
        "outputId": "b03b2fdf-3bf4-466e-81e3-0ffdd994268d"
      },
      "execution_count": null,
      "outputs": [
        {
          "output_type": "display_data",
          "data": {
            "text/plain": [
              "<Figure size 640x480 with 1 Axes>"
            ],
            "image/png": "[encoded data removed]"
          },
          "metadata": {}
        }
      ]
    },
    {
      "cell_type": "code",
      "source": [
        "# Q6: Does a higher cost guarantee a shorter travel time\n",
        "corr_2 = np.corrcoef(fare_prices, travel_times)[0, 1]\n",
        "print(\"There is no gurantee that the travel time will be shorter\")\n",
        "print(corr_2)"
      ],
      "metadata": {
        "colab": {
          "base_uri": "https://localhost:8080/"
        },
        "id": "wf0EVvc28aTp",
        "outputId": "2727c0d2-d1cf-41c8-a538-d078dafbf6ef"
      },
      "execution_count": null,
      "outputs": [
        {
          "output_type": "stream",
          "name": "stdout",
          "text": [
            "There is no gurantee that the travel time will be shorter\n",
            "0.47983875584161545\n"
          ]
        }
      ]
    },
    {
      "cell_type": "code",
      "source": [
        "plt.scatter(fare_prices, travel_times)\n",
        "plt.show()"
      ],
      "metadata": {
        "colab": {
          "base_uri": "https://localhost:8080/",
          "height": 430
        },
        "id": "Y0R1aIs3KGc_",
        "outputId": "858d2344-7bd5-431a-e015-000565b7ecd3"
      },
      "execution_count": null,
      "outputs": [
        {
          "output_type": "display_data",
          "data": {
            "text/plain": [
              "<Figure size 640x480 with 1 Axes>"
            ],
            "image/png": "[encoded data removed]"
          },
          "metadata": {}
        }
      ]
    },
    {
      "cell_type": "code",
      "source": [
        "fig, (ax1, ax2) = plt.subplots(ncols=2, figsize=(10, 5), sharey=True)\n",
        "\n",
        "ax1.scatter(route_distance, fare_prices)\n",
        "ax2.scatter(travel_times, fare_prices)\n",
        "\n",
        "ax1.set_xlabel(\"Route Distance\")\n",
        "ax1.set_title(\"Corr of fare prices and route distance\")\n",
        "ax2.set_xlabel(\"Travel Time\")\n",
        "ax2.set_title(\"Corr of fare prices and route distance\")\n",
        "\n",
        "ax1.set_ylabel(\"Fare Prices\")\n",
        "fig.set_\n",
        "fig.set_gid(True)\n",
        "\n",
        "fig.show()"
      ],
      "metadata": {
        "colab": {
          "base_uri": "https://localhost:8080/",
          "height": 492
        },
        "id": "hNKKidvFB2uw",
        "outputId": "c74cef16-5749-4937-ad95-940c197d5a56"
      },
      "execution_count": null,
      "outputs": [
        {
          "output_type": "display_data",
          "data": {
            "text/plain": [
              "<Figure size 1000x500 with 2 Axes>"
            ],
            "image/png": "[encoded data removed]"
          },
          "metadata": {}
        }
      ]
    },
    {
      "cell_type": "markdown",
      "source": [
        "# Week 6"
      ],
      "metadata": {
        "id": "e5jT91Hn1H3v"
      }
    },
    {
      "cell_type": "code",
      "source": [
        "import pandas as pd\n",
        "import numpy as np"
      ],
      "metadata": {
        "id": "FP290pyx1M-U"
      },
      "execution_count": null,
      "outputs": []
    },
    {
      "cell_type": "code",
      "source": [
        "# Reading the file\n",
        "df = pd.read_csv(\"turnstile_180901.txt\")\n",
        "df.tail()"
      ],
      "metadata": {
        "colab": {
          "base_uri": "https://localhost:8080/",
          "height": 206
        },
        "id": "1GG95L_B7VQU",
        "outputId": "0abe2cb3-f00f-4f76-9022-27a898f055a0"
      },
      "execution_count": null,
      "outputs": [
        {
          "output_type": "execute_result",
          "data": {
            "text/plain": [
              "          C/A  UNIT       SCP        STATION LINENAME DIVISION        DATE  \\\n",
              "197620  TRAM2  R469  00-05-01  RIT-ROOSEVELT        R      RIT  08/31/2018   \n",
              "197621  TRAM2  R469  00-05-01  RIT-ROOSEVELT        R      RIT  08/31/2018   \n",
              "197622  TRAM2  R469  00-05-01  RIT-ROOSEVELT        R      RIT  08/31/2018   \n",
              "197623  TRAM2  R469  00-05-01  RIT-ROOSEVELT        R      RIT  08/31/2018   \n",
              "197624  TRAM2  R469  00-05-01  RIT-ROOSEVELT        R      RIT  08/31/2018   \n",
              "\n",
              "            TIME     DESC  ENTRIES  \\\n",
              "197620  05:00:00  REGULAR     5554   \n",
              "197621  09:00:00  REGULAR     5554   \n",
              "197622  13:00:00  REGULAR     5554   \n",
              "197623  17:00:00  REGULAR     5554   \n",
              "197624  21:00:00  REGULAR     5554   \n",
              "\n",
              "        EXITS                                                                 \n",
              "197620                                                348                     \n",
              "197621                                                348                     \n",
              "197622                                                348                     \n",
              "197623                                                348                     \n",
              "197624                                                348                     "
            ],
            "text/html": [
              "\n",
              "  <div id=\"df-6813e25d-1e51-4f3b-9a00-457813f38c1d\" class=\"colab-df-container\">\n",
              "    <div>\n",
              "<style scoped>\n",
              "    .dataframe tbody tr th:only-of-type {\n",
              "        vertical-align: middle;\n",
              "    }\n",
              "\n",
              "    .dataframe tbody tr th {\n",
              "        vertical-align: top;\n",
              "    }\n",
              "\n",
              "    .dataframe thead th {\n",
              "        text-align: right;\n",
              "    }\n",
              "</style>\n",
              "<table border=\"1\" class=\"dataframe\">\n",
              "  <thead>\n",
              "    <tr style=\"text-align: right;\">\n",
              "      <th></th>\n",
              "      <th>C/A</th>\n",
              "      <th>UNIT</th>\n",
              "      <th>SCP</th>\n",
              "      <th>STATION</th>\n",
              "      <th>LINENAME</th>\n",
              "      <th>DIVISION</th>\n",
              "      <th>DATE</th>\n",
              "      <th>TIME</th>\n",
              "      <th>DESC</th>\n",
              "      <th>ENTRIES</th>\n",
              "      <th>EXITS</th>\n",
              "    </tr>\n",
              "  </thead>\n",
              "  <tbody>\n",
              "    <tr>\n",
              "      <th>197620</th>\n",
              "      <td>TRAM2</td>\n",
              "      <td>R469</td>\n",
              "      <td>00-05-01</td>\n",
              "      <td>RIT-ROOSEVELT</td>\n",
              "      <td>R</td>\n",
              "      <td>RIT</td>\n",
              "      <td>08/31/2018</td>\n",
              "      <td>05:00:00</td>\n",
              "      <td>REGULAR</td>\n",
              "      <td>5554</td>\n",
              "      <td>348</td>\n",
              "    </tr>\n",
              "    <tr>\n",
              "      <th>197621</th>\n",
              "      <td>TRAM2</td>\n",
              "      <td>R469</td>\n",
              "      <td>00-05-01</td>\n",
              "      <td>RIT-ROOSEVELT</td>\n",
              "      <td>R</td>\n",
              "      <td>RIT</td>\n",
              "      <td>08/31/2018</td>\n",
              "      <td>09:00:00</td>\n",
              "      <td>REGULAR</td>\n",
              "      <td>5554</td>\n",
              "      <td>348</td>\n",
              "    </tr>\n",
              "    <tr>\n",
              "      <th>197622</th>\n",
              "      <td>TRAM2</td>\n",
              "      <td>R469</td>\n",
              "      <td>00-05-01</td>\n",
              "      <td>RIT-ROOSEVELT</td>\n",
              "      <td>R</td>\n",
              "      <td>RIT</td>\n",
              "      <td>08/31/2018</td>\n",
              "      <td>13:00:00</td>\n",
              "      <td>REGULAR</td>\n",
              "      <td>5554</td>\n",
              "      <td>348</td>\n",
              "    </tr>\n",
              "    <tr>\n",
              "      <th>197623</th>\n",
              "      <td>TRAM2</td>\n",
              "      <td>R469</td>\n",
              "      <td>00-05-01</td>\n",
              "      <td>RIT-ROOSEVELT</td>\n",
              "      <td>R</td>\n",
              "      <td>RIT</td>\n",
              "      <td>08/31/2018</td>\n",
              "      <td>17:00:00</td>\n",
              "      <td>REGULAR</td>\n",
              "      <td>5554</td>\n",
              "      <td>348</td>\n",
              "    </tr>\n",
              "    <tr>\n",
              "      <th>197624</th>\n",
              "      <td>TRAM2</td>\n",
              "      <td>R469</td>\n",
              "      <td>00-05-01</td>\n",
              "      <td>RIT-ROOSEVELT</td>\n",
              "      <td>R</td>\n",
              "      <td>RIT</td>\n",
              "      <td>08/31/2018</td>\n",
              "      <td>21:00:00</td>\n",
              "      <td>REGULAR</td>\n",
              "      <td>5554</td>\n",
              "      <td>348</td>\n",
              "    </tr>\n",
              "  </tbody>\n",
              "</table>\n",
              "</div>\n",
              "    <div class=\"colab-df-buttons\">\n",
              "\n",
              "  <div class=\"colab-df-container\">\n",
              "    <button class=\"colab-df-convert\" onclick=\"convertToInteractive('df-6813e25d-1e51-4f3b-9a00-457813f38c1d')\"\n",
              "            title=\"Convert this dataframe to an interactive table.\"\n",
              "            style=\"display:none;\">\n",
              "\n",
              "  <svg xmlns=\"http://www.w3.org/2000/svg\" height=\"24px\" viewBox=\"0 -960 960 960\">\n",
              "    <path d=\"M120-120v-720h720v720H120Zm60-500h600v-160H180v160Zm220 220h160v-160H400v160Zm0 220h160v-160H400v160ZM180-400h160v-160H180v160Zm440 0h160v-160H620v160ZM180-180h160v-160H180v160Zm440 0h160v-160H620v160Z\"/>\n",
              "  </svg>\n",
              "    </button>\n",
              "\n",
              "  <style>\n",
              "    .colab-df-container {\n",
              "      display:flex;\n",
              "      gap: 12px;\n",
              "    }\n",
              "\n",
              "    .colab-df-convert {\n",
              "      background-color: #E8F0FE;\n",
              "      border: none;\n",
              "      border-radius: 50%;\n",
              "      cursor: pointer;\n",
              "      display: none;\n",
              "      fill: #1967D2;\n",
              "      height: 32px;\n",
              "      padding: 0 0 0 0;\n",
              "      width: 32px;\n",
              "    }\n",
              "\n",
              "    .colab-df-convert:hover {\n",
              "      background-color: #E2EBFA;\n",
              "      box-shadow: 0px 1px 2px rgba(60, 64, 67, 0.3), 0px 1px 3px 1px rgba(60, 64, 67, 0.15);\n",
              "      fill: #174EA6;\n",
              "    }\n",
              "\n",
              "    .colab-df-buttons div {\n",
              "      margin-bottom: 4px;\n",
              "    }\n",
              "\n",
              "    [theme=dark] .colab-df-convert {\n",
              "      background-color: #3B4455;\n",
              "      fill: #D2E3FC;\n",
              "    }\n",
              "\n",
              "    [theme=dark] .colab-df-convert:hover {\n",
              "      background-color: #434B5C;\n",
              "      box-shadow: 0px 1px 3px 1px rgba(0, 0, 0, 0.15);\n",
              "      filter: drop-shadow(0px 1px 2px rgba(0, 0, 0, 0.3));\n",
              "      fill: #FFFFFF;\n",
              "    }\n",
              "  </style>\n",
              "\n",
              "    <script>\n",
              "      const buttonEl =\n",
              "        document.querySelector('#df-6813e25d-1e51-4f3b-9a00-457813f38c1d button.colab-df-convert');\n",
              "      buttonEl.style.display =\n",
              "        google.colab.kernel.accessAllowed ? 'block' : 'none';\n",
              "\n",
              "      async function convertToInteractive(key) {\n",
              "        const element = document.querySelector('#df-6813e25d-1e51-4f3b-9a00-457813f38c1d');\n",
              "        const dataTable =\n",
              "          await google.colab.kernel.invokeFunction('convertToInteractive',\n",
              "                                                    [key], {});\n",
              "        if (!dataTable) return;\n",
              "\n",
              "        const docLinkHtml = 'Like what you see? Visit the ' +\n",
              "          '<a target=\"_blank\" href=https://colab.research.google.com/notebooks/data_table.ipynb>data table notebook</a>'\n",
              "          + ' to learn more about interactive tables.';\n",
              "        element.innerHTML = '';\n",
              "        dataTable['output_type'] = 'display_data';\n",
              "        await google.colab.output.renderOutput(dataTable, element);\n",
              "        const docLink = document.createElement('div');\n",
              "        docLink.innerHTML = docLinkHtml;\n",
              "        element.appendChild(docLink);\n",
              "      }\n",
              "    </script>\n",
              "  </div>\n",
              "\n",
              "\n",
              "    <div id=\"df-4813f2f1-3adf-40c3-800e-f96b6a6a08ad\">\n",
              "      <button class=\"colab-df-quickchart\" onclick=\"quickchart('df-4813f2f1-3adf-40c3-800e-f96b6a6a08ad')\"\n",
              "                title=\"Suggest charts\"\n",
              "                style=\"display:none;\">\n",
              "\n",
              "<svg xmlns=\"http://www.w3.org/2000/svg\" height=\"24px\"viewBox=\"0 0 24 24\"\n",
              "     width=\"24px\">\n",
              "    <g>\n",
              "        <path d=\"M19 3H5c-1.1 0-2 .9-2 2v14c0 1.1.9 2 2 2h14c1.1 0 2-.9 2-2V5c0-1.1-.9-2-2-2zM9 17H7v-7h2v7zm4 0h-2V7h2v10zm4 0h-2v-4h2v4z\"/>\n",
              "    </g>\n",
              "</svg>\n",
              "      </button>\n",
              "\n",
              "<style>\n",
              "  .colab-df-quickchart {\n",
              "      --bg-color: #E8F0FE;\n",
              "      --fill-color: #1967D2;\n",
              "      --hover-bg-color: #E2EBFA;\n",
              "      --hover-fill-color: #174EA6;\n",
              "      --disabled-fill-color: #AAA;\n",
              "      --disabled-bg-color: #DDD;\n",
              "  }\n",
              "\n",
              "  [theme=dark] .colab-df-quickchart {\n",
              "      --bg-color: #3B4455;\n",
              "      --fill-color: #D2E3FC;\n",
              "      --hover-bg-color: #434B5C;\n",
              "      --hover-fill-color: #FFFFFF;\n",
              "      --disabled-bg-color: #3B4455;\n",
              "      --disabled-fill-color: #666;\n",
              "  }\n",
              "\n",
              "  .colab-df-quickchart {\n",
              "    background-color: var(--bg-color);\n",
              "    border: none;\n",
              "    border-radius: 50%;\n",
              "    cursor: pointer;\n",
              "    display: none;\n",
              "    fill: var(--fill-color);\n",
              "    height: 32px;\n",
              "    padding: 0;\n",
              "    width: 32px;\n",
              "  }\n",
              "\n",
              "  .colab-df-quickchart:hover {\n",
              "    background-color: var(--hover-bg-color);\n",
              "    box-shadow: 0 1px 2px rgba(60, 64, 67, 0.3), 0 1px 3px 1px rgba(60, 64, 67, 0.15);\n",
              "    fill: var(--button-hover-fill-color);\n",
              "  }\n",
              "\n",
              "  .colab-df-quickchart-complete:disabled,\n",
              "  .colab-df-quickchart-complete:disabled:hover {\n",
              "    background-color: var(--disabled-bg-color);\n",
              "    fill: var(--disabled-fill-color);\n",
              "    box-shadow: none;\n",
              "  }\n",
              "\n",
              "  .colab-df-spinner {\n",
              "    border: 2px solid var(--fill-color);\n",
              "    border-color: transparent;\n",
              "    border-bottom-color: var(--fill-color);\n",
              "    animation:\n",
              "      spin 1s steps(1) infinite;\n",
              "  }\n",
              "\n",
              "  @keyframes spin {\n",
              "    0% {\n",
              "      border-color: transparent;\n",
              "      border-bottom-color: var(--fill-color);\n",
              "      border-left-color: var(--fill-color);\n",
              "    }\n",
              "    20% {\n",
              "      border-color: transparent;\n",
              "      border-left-color: var(--fill-color);\n",
              "      border-top-color: var(--fill-color);\n",
              "    }\n",
              "    30% {\n",
              "      border-color: transparent;\n",
              "      border-left-color: var(--fill-color);\n",
              "      border-top-color: var(--fill-color);\n",
              "      border-right-color: var(--fill-color);\n",
              "    }\n",
              "    40% {\n",
              "      border-color: transparent;\n",
              "      border-right-color: var(--fill-color);\n",
              "      border-top-color: var(--fill-color);\n",
              "    }\n",
              "    60% {\n",
              "      border-color: transparent;\n",
              "      border-right-color: var(--fill-color);\n",
              "    }\n",
              "    80% {\n",
              "      border-color: transparent;\n",
              "      border-right-color: var(--fill-color);\n",
              "      border-bottom-color: var(--fill-color);\n",
              "    }\n",
              "    90% {\n",
              "      border-color: transparent;\n",
              "      border-bottom-color: var(--fill-color);\n",
              "    }\n",
              "  }\n",
              "</style>\n",
              "\n",
              "      <script>\n",
              "        async function quickchart(key) {\n",
              "          const quickchartButtonEl =\n",
              "            document.querySelector('#' + key + ' button');\n",
              "          quickchartButtonEl.disabled = true;  // To prevent multiple clicks.\n",
              "          quickchartButtonEl.classList.add('colab-df-spinner');\n",
              "          try {\n",
              "            const charts = await google.colab.kernel.invokeFunction(\n",
              "                'suggestCharts', [key], {});\n",
              "          } catch (error) {\n",
              "            console.error('Error during call to suggestCharts:', error);\n",
              "          }\n",
              "          quickchartButtonEl.classList.remove('colab-df-spinner');\n",
              "          quickchartButtonEl.classList.add('colab-df-quickchart-complete');\n",
              "        }\n",
              "        (() => {\n",
              "          let quickchartButtonEl =\n",
              "            document.querySelector('#df-4813f2f1-3adf-40c3-800e-f96b6a6a08ad button');\n",
              "          quickchartButtonEl.style.display =\n",
              "            google.colab.kernel.accessAllowed ? 'block' : 'none';\n",
              "        })();\n",
              "      </script>\n",
              "    </div>\n",
              "\n",
              "    </div>\n",
              "  </div>\n"
            ],
            "application/vnd.google.colaboratory.intrinsic+json": {
              "type": "dataframe",
              "repr_error": "0"
            }
          },
          "metadata": {},
          "execution_count": 11
        }
      ]
    },
    {
      "cell_type": "code",
      "source": [
        "# Column names\n",
        "df.columns"
      ],
      "metadata": {
        "colab": {
          "base_uri": "https://localhost:8080/"
        },
        "id": "ddw1WUmN9Ow9",
        "outputId": "e5eebcd7-2443-4c6d-f66b-2bf5f2702751"
      },
      "execution_count": null,
      "outputs": [
        {
          "output_type": "execute_result",
          "data": {
            "text/plain": [
              "Index(['C/A', 'UNIT', 'SCP', 'STATION', 'LINENAME', 'DIVISION', 'DATE', 'TIME',\n",
              "       'DESC', 'ENTRIES',\n",
              "       'EXITS                                                               '],\n",
              "      dtype='object')"
            ]
          },
          "metadata": {},
          "execution_count": 7
        }
      ]
    },
    {
      "cell_type": "code",
      "source": [
        "df.shape"
      ],
      "metadata": {
        "colab": {
          "base_uri": "https://localhost:8080/"
        },
        "id": "88QhnT86ASmt",
        "outputId": "ec752f02-1137-49f9-d187-95666f26f9b8"
      },
      "execution_count": null,
      "outputs": [
        {
          "output_type": "execute_result",
          "data": {
            "text/plain": [
              "(197625, 11)"
            ]
          },
          "metadata": {},
          "execution_count": 23
        }
      ]
    },
    {
      "cell_type": "code",
      "source": [
        "# Summary of the dataset\n",
        "df.info()"
      ],
      "metadata": {
        "colab": {
          "base_uri": "https://localhost:8080/"
        },
        "id": "sp_c8-YW9a5p",
        "outputId": "b672b372-8c6a-4ee5-e449-b18de211b132"
      },
      "execution_count": null,
      "outputs": [
        {
          "output_type": "stream",
          "name": "stdout",
          "text": [
            "<class 'pandas.core.frame.DataFrame'>\n",
            "RangeIndex: 197625 entries, 0 to 197624\n",
            "Data columns (total 11 columns):\n",
            " #   Column                                                                Non-Null Count   Dtype \n",
            "---  ------                                                                --------------   ----- \n",
            " 0   C/A                                                                   197625 non-null  object\n",
            " 1   UNIT                                                                  197625 non-null  object\n",
            " 2   SCP                                                                   197625 non-null  object\n",
            " 3   STATION                                                               197625 non-null  object\n",
            " 4   LINENAME                                                              197625 non-null  object\n",
            " 5   DIVISION                                                              197625 non-null  object\n",
            " 6   DATE                                                                  197625 non-null  object\n",
            " 7   TIME                                                                  197625 non-null  object\n",
            " 8   DESC                                                                  197625 non-null  object\n",
            " 9   ENTRIES                                                               197625 non-null  int64 \n",
            " 10  EXITS                                                                 197625 non-null  int64 \n",
            "dtypes: int64(2), object(9)\n",
            "memory usage: 16.6+ MB\n"
          ]
        }
      ]
    },
    {
      "cell_type": "code",
      "source": [
        "# Summary for numerical values\n",
        "df.describe()"
      ],
      "metadata": {
        "colab": {
          "base_uri": "https://localhost:8080/",
          "height": 300
        },
        "id": "DUg1CAUa9gWr",
        "outputId": "f87194c7-92d0-45a3-e928-8c3c4562d6f4"
      },
      "execution_count": null,
      "outputs": [
        {
          "output_type": "execute_result",
          "data": {
            "text/plain": [
              "            ENTRIES  \\\n",
              "count  1.976250e+05   \n",
              "mean   4.008664e+07   \n",
              "std    2.071853e+08   \n",
              "min    0.000000e+00   \n",
              "25%    4.912700e+05   \n",
              "50%    2.507222e+06   \n",
              "75%    6.965458e+06   \n",
              "max    2.129771e+09   \n",
              "\n",
              "       EXITS                                                                 \n",
              "count                                       1.976250e+05                     \n",
              "mean                                        3.274210e+07                     \n",
              "std                                         1.907195e+08                     \n",
              "min                                         0.000000e+00                     \n",
              "25%                                         2.364400e+05                     \n",
              "50%                                         1.404800e+06                     \n",
              "75%                                         4.809089e+06                     \n",
              "max                                         2.062565e+09                     "
            ],
            "text/html": [
              "\n",
              "  <div id=\"df-2abd240c-13c2-48a2-83ed-564bb97d0d80\" class=\"colab-df-container\">\n",
              "    <div>\n",
              "<style scoped>\n",
              "    .dataframe tbody tr th:only-of-type {\n",
              "        vertical-align: middle;\n",
              "    }\n",
              "\n",
              "    .dataframe tbody tr th {\n",
              "        vertical-align: top;\n",
              "    }\n",
              "\n",
              "    .dataframe thead th {\n",
              "        text-align: right;\n",
              "    }\n",
              "</style>\n",
              "<table border=\"1\" class=\"dataframe\">\n",
              "  <thead>\n",
              "    <tr style=\"text-align: right;\">\n",
              "      <th></th>\n",
              "      <th>ENTRIES</th>\n",
              "      <th>EXITS</th>\n",
              "    </tr>\n",
              "  </thead>\n",
              "  <tbody>\n",
              "    <tr>\n",
              "      <th>count</th>\n",
              "      <td>1.976250e+05</td>\n",
              "      <td>1.976250e+05</td>\n",
              "    </tr>\n",
              "    <tr>\n",
              "      <th>mean</th>\n",
              "      <td>4.008664e+07</td>\n",
              "      <td>3.274210e+07</td>\n",
              "    </tr>\n",
              "    <tr>\n",
              "      <th>std</th>\n",
              "      <td>2.071853e+08</td>\n",
              "      <td>1.907195e+08</td>\n",
              "    </tr>\n",
              "    <tr>\n",
              "      <th>min</th>\n",
              "      <td>0.000000e+00</td>\n",
              "      <td>0.000000e+00</td>\n",
              "    </tr>\n",
              "    <tr>\n",
              "      <th>25%</th>\n",
              "      <td>4.912700e+05</td>\n",
              "      <td>2.364400e+05</td>\n",
              "    </tr>\n",
              "    <tr>\n",
              "      <th>50%</th>\n",
              "      <td>2.507222e+06</td>\n",
              "      <td>1.404800e+06</td>\n",
              "    </tr>\n",
              "    <tr>\n",
              "      <th>75%</th>\n",
              "      <td>6.965458e+06</td>\n",
              "      <td>4.809089e+06</td>\n",
              "    </tr>\n",
              "    <tr>\n",
              "      <th>max</th>\n",
              "      <td>2.129771e+09</td>\n",
              "      <td>2.062565e+09</td>\n",
              "    </tr>\n",
              "  </tbody>\n",
              "</table>\n",
              "</div>\n",
              "    <div class=\"colab-df-buttons\">\n",
              "\n",
              "  <div class=\"colab-df-container\">\n",
              "    <button class=\"colab-df-convert\" onclick=\"convertToInteractive('df-2abd240c-13c2-48a2-83ed-564bb97d0d80')\"\n",
              "            title=\"Convert this dataframe to an interactive table.\"\n",
              "            style=\"display:none;\">\n",
              "\n",
              "  <svg xmlns=\"http://www.w3.org/2000/svg\" height=\"24px\" viewBox=\"0 -960 960 960\">\n",
              "    <path d=\"M120-120v-720h720v720H120Zm60-500h600v-160H180v160Zm220 220h160v-160H400v160Zm0 220h160v-160H400v160ZM180-400h160v-160H180v160Zm440 0h160v-160H620v160ZM180-180h160v-160H180v160Zm440 0h160v-160H620v160Z\"/>\n",
              "  </svg>\n",
              "    </button>\n",
              "\n",
              "  <style>\n",
              "    .colab-df-container {\n",
              "      display:flex;\n",
              "      gap: 12px;\n",
              "    }\n",
              "\n",
              "    .colab-df-convert {\n",
              "      background-color: #E8F0FE;\n",
              "      border: none;\n",
              "      border-radius: 50%;\n",
              "      cursor: pointer;\n",
              "      display: none;\n",
              "      fill: #1967D2;\n",
              "      height: 32px;\n",
              "      padding: 0 0 0 0;\n",
              "      width: 32px;\n",
              "    }\n",
              "\n",
              "    .colab-df-convert:hover {\n",
              "      background-color: #E2EBFA;\n",
              "      box-shadow: 0px 1px 2px rgba(60, 64, 67, 0.3), 0px 1px 3px 1px rgba(60, 64, 67, 0.15);\n",
              "      fill: #174EA6;\n",
              "    }\n",
              "\n",
              "    .colab-df-buttons div {\n",
              "      margin-bottom: 4px;\n",
              "    }\n",
              "\n",
              "    [theme=dark] .colab-df-convert {\n",
              "      background-color: #3B4455;\n",
              "      fill: #D2E3FC;\n",
              "    }\n",
              "\n",
              "    [theme=dark] .colab-df-convert:hover {\n",
              "      background-color: #434B5C;\n",
              "      box-shadow: 0px 1px 3px 1px rgba(0, 0, 0, 0.15);\n",
              "      filter: drop-shadow(0px 1px 2px rgba(0, 0, 0, 0.3));\n",
              "      fill: #FFFFFF;\n",
              "    }\n",
              "  </style>\n",
              "\n",
              "    <script>\n",
              "      const buttonEl =\n",
              "        document.querySelector('#df-2abd240c-13c2-48a2-83ed-564bb97d0d80 button.colab-df-convert');\n",
              "      buttonEl.style.display =\n",
              "        google.colab.kernel.accessAllowed ? 'block' : 'none';\n",
              "\n",
              "      async function convertToInteractive(key) {\n",
              "        const element = document.querySelector('#df-2abd240c-13c2-48a2-83ed-564bb97d0d80');\n",
              "        const dataTable =\n",
              "          await google.colab.kernel.invokeFunction('convertToInteractive',\n",
              "                                                    [key], {});\n",
              "        if (!dataTable) return;\n",
              "\n",
              "        const docLinkHtml = 'Like what you see? Visit the ' +\n",
              "          '<a target=\"_blank\" href=https://colab.research.google.com/notebooks/data_table.ipynb>data table notebook</a>'\n",
              "          + ' to learn more about interactive tables.';\n",
              "        element.innerHTML = '';\n",
              "        dataTable['output_type'] = 'display_data';\n",
              "        await google.colab.output.renderOutput(dataTable, element);\n",
              "        const docLink = document.createElement('div');\n",
              "        docLink.innerHTML = docLinkHtml;\n",
              "        element.appendChild(docLink);\n",
              "      }\n",
              "    </script>\n",
              "  </div>\n",
              "\n",
              "\n",
              "    <div id=\"df-99730267-6f6d-4330-9cf5-233e44720518\">\n",
              "      <button class=\"colab-df-quickchart\" onclick=\"quickchart('df-99730267-6f6d-4330-9cf5-233e44720518')\"\n",
              "                title=\"Suggest charts\"\n",
              "                style=\"display:none;\">\n",
              "\n",
              "<svg xmlns=\"http://www.w3.org/2000/svg\" height=\"24px\"viewBox=\"0 0 24 24\"\n",
              "     width=\"24px\">\n",
              "    <g>\n",
              "        <path d=\"M19 3H5c-1.1 0-2 .9-2 2v14c0 1.1.9 2 2 2h14c1.1 0 2-.9 2-2V5c0-1.1-.9-2-2-2zM9 17H7v-7h2v7zm4 0h-2V7h2v10zm4 0h-2v-4h2v4z\"/>\n",
              "    </g>\n",
              "</svg>\n",
              "      </button>\n",
              "\n",
              "<style>\n",
              "  .colab-df-quickchart {\n",
              "      --bg-color: #E8F0FE;\n",
              "      --fill-color: #1967D2;\n",
              "      --hover-bg-color: #E2EBFA;\n",
              "      --hover-fill-color: #174EA6;\n",
              "      --disabled-fill-color: #AAA;\n",
              "      --disabled-bg-color: #DDD;\n",
              "  }\n",
              "\n",
              "  [theme=dark] .colab-df-quickchart {\n",
              "      --bg-color: #3B4455;\n",
              "      --fill-color: #D2E3FC;\n",
              "      --hover-bg-color: #434B5C;\n",
              "      --hover-fill-color: #FFFFFF;\n",
              "      --disabled-bg-color: #3B4455;\n",
              "      --disabled-fill-color: #666;\n",
              "  }\n",
              "\n",
              "  .colab-df-quickchart {\n",
              "    background-color: var(--bg-color);\n",
              "    border: none;\n",
              "    border-radius: 50%;\n",
              "    cursor: pointer;\n",
              "    display: none;\n",
              "    fill: var(--fill-color);\n",
              "    height: 32px;\n",
              "    padding: 0;\n",
              "    width: 32px;\n",
              "  }\n",
              "\n",
              "  .colab-df-quickchart:hover {\n",
              "    background-color: var(--hover-bg-color);\n",
              "    box-shadow: 0 1px 2px rgba(60, 64, 67, 0.3), 0 1px 3px 1px rgba(60, 64, 67, 0.15);\n",
              "    fill: var(--button-hover-fill-color);\n",
              "  }\n",
              "\n",
              "  .colab-df-quickchart-complete:disabled,\n",
              "  .colab-df-quickchart-complete:disabled:hover {\n",
              "    background-color: var(--disabled-bg-color);\n",
              "    fill: var(--disabled-fill-color);\n",
              "    box-shadow: none;\n",
              "  }\n",
              "\n",
              "  .colab-df-spinner {\n",
              "    border: 2px solid var(--fill-color);\n",
              "    border-color: transparent;\n",
              "    border-bottom-color: var(--fill-color);\n",
              "    animation:\n",
              "      spin 1s steps(1) infinite;\n",
              "  }\n",
              "\n",
              "  @keyframes spin {\n",
              "    0% {\n",
              "      border-color: transparent;\n",
              "      border-bottom-color: var(--fill-color);\n",
              "      border-left-color: var(--fill-color);\n",
              "    }\n",
              "    20% {\n",
              "      border-color: transparent;\n",
              "      border-left-color: var(--fill-color);\n",
              "      border-top-color: var(--fill-color);\n",
              "    }\n",
              "    30% {\n",
              "      border-color: transparent;\n",
              "      border-left-color: var(--fill-color);\n",
              "      border-top-color: var(--fill-color);\n",
              "      border-right-color: var(--fill-color);\n",
              "    }\n",
              "    40% {\n",
              "      border-color: transparent;\n",
              "      border-right-color: var(--fill-color);\n",
              "      border-top-color: var(--fill-color);\n",
              "    }\n",
              "    60% {\n",
              "      border-color: transparent;\n",
              "      border-right-color: var(--fill-color);\n",
              "    }\n",
              "    80% {\n",
              "      border-color: transparent;\n",
              "      border-right-color: var(--fill-color);\n",
              "      border-bottom-color: var(--fill-color);\n",
              "    }\n",
              "    90% {\n",
              "      border-color: transparent;\n",
              "      border-bottom-color: var(--fill-color);\n",
              "    }\n",
              "  }\n",
              "</style>\n",
              "\n",
              "      <script>\n",
              "        async function quickchart(key) {\n",
              "          const quickchartButtonEl =\n",
              "            document.querySelector('#' + key + ' button');\n",
              "          quickchartButtonEl.disabled = true;  // To prevent multiple clicks.\n",
              "          quickchartButtonEl.classList.add('colab-df-spinner');\n",
              "          try {\n",
              "            const charts = await google.colab.kernel.invokeFunction(\n",
              "                'suggestCharts', [key], {});\n",
              "          } catch (error) {\n",
              "            console.error('Error during call to suggestCharts:', error);\n",
              "          }\n",
              "          quickchartButtonEl.classList.remove('colab-df-spinner');\n",
              "          quickchartButtonEl.classList.add('colab-df-quickchart-complete');\n",
              "        }\n",
              "        (() => {\n",
              "          let quickchartButtonEl =\n",
              "            document.querySelector('#df-99730267-6f6d-4330-9cf5-233e44720518 button');\n",
              "          quickchartButtonEl.style.display =\n",
              "            google.colab.kernel.accessAllowed ? 'block' : 'none';\n",
              "        })();\n",
              "      </script>\n",
              "    </div>\n",
              "\n",
              "    </div>\n",
              "  </div>\n"
            ],
            "application/vnd.google.colaboratory.intrinsic+json": {
              "type": "dataframe",
              "summary": "{\n  \"name\": \"df\",\n  \"rows\": 8,\n  \"fields\": [\n    {\n      \"column\": \"ENTRIES\",\n      \"properties\": {\n        \"dtype\": \"number\",\n        \"std\": 743367701.2689768,\n        \"min\": 0.0,\n        \"max\": 2129770911.0,\n        \"num_unique_values\": 8,\n        \"samples\": [\n          40086638.71107906,\n          2507222.0,\n          197625.0\n        ],\n        \"semantic_type\": \"\",\n        \"description\": \"\"\n      }\n    },\n    {\n      \"column\": \"EXITS                                                               \",\n      \"properties\": {\n        \"dtype\": \"number\",\n        \"std\": 720575156.8588533,\n        \"min\": 0.0,\n        \"max\": 2062564696.0,\n        \"num_unique_values\": 8,\n        \"samples\": [\n          32742095.200804554,\n          1404800.0,\n          197625.0\n        ],\n        \"semantic_type\": \"\",\n        \"description\": \"\"\n      }\n    }\n  ]\n}"
            }
          },
          "metadata": {},
          "execution_count": 9
        }
      ]
    },
    {
      "cell_type": "code",
      "source": [
        "df['C/A'].unique()"
      ],
      "metadata": {
        "colab": {
          "base_uri": "https://localhost:8080/"
        },
        "id": "XL1_QnFDApqh",
        "outputId": "89773198-a6be-4d1b-ad49-823d7f246fcf"
      },
      "execution_count": null,
      "outputs": [
        {
          "output_type": "execute_result",
          "data": {
            "text/plain": [
              "array(['A002', 'A006', 'A007', 'A010', 'A011', 'A013', 'A014', 'A015',\n",
              "       'A016', 'A021', 'A022', 'A025', 'A027', 'A029', 'A030', 'A031',\n",
              "       'A033', 'A034', 'A035', 'A037', 'A038', 'A039', 'A041', 'A042',\n",
              "       'A043', 'A046', 'A047', 'A049', 'A050', 'A052', 'A053', 'A054',\n",
              "       'A055', 'A058', 'A060', 'A061', 'A064', 'A066', 'A069', 'A071',\n",
              "       'A077', 'A081', 'A082', 'A083', 'A084', 'A085', 'B004', 'B009',\n",
              "       'B010', 'B012', 'B013', 'B014', 'B015', 'B016', 'B017', 'B018',\n",
              "       'B019', 'B020', 'B021', 'B022', 'B023', 'B024', 'B024A', 'B025',\n",
              "       'B026', 'B027', 'B028', 'B029', 'B031', 'B032', 'B034', 'C001',\n",
              "       'C003', 'C004', 'C008', 'C009', 'C010', 'C011', 'C012', 'C014',\n",
              "       'C015', 'C016', 'C017', 'C018', 'C019', 'C020', 'C021', 'C022',\n",
              "       'C023', 'C024', 'C025', 'C026', 'C027', 'C028', 'D002', 'D004',\n",
              "       'D005', 'D006', 'D008', 'D009', 'D011', 'D012', 'D015', 'D016',\n",
              "       'E001', 'E003', 'E004', 'E005', 'E009', 'E011', 'E012', 'E013',\n",
              "       'E014', 'E015', 'E016', 'G001', 'G009', 'G011', 'G015', 'H001',\n",
              "       'H003', 'H005', 'H006', 'H007', 'H008', 'H009', 'H012', 'H013',\n",
              "       'H014', 'H015', 'H016', 'H017', 'H019', 'H022', 'H023', 'H026',\n",
              "       'H027', 'H028', 'H030', 'H032', 'H033', 'H035', 'H037', 'H038',\n",
              "       'H039', 'H040', 'H041', 'JFK01', 'JFK02', 'JFK03', 'J001', 'J002',\n",
              "       'J003', 'J005', 'J007', 'J009', 'J012', 'J013', 'J016', 'J017',\n",
              "       'J020', 'J021', 'J022', 'J023', 'J024', 'J025', 'J028', 'J030',\n",
              "       'J031', 'J032', 'J034', 'J035', 'J037', 'K017', 'K019', 'K022',\n",
              "       'K024', 'K025', 'K026', 'N001', 'N002A', 'N003', 'N006A', 'N007A',\n",
              "       'N009', 'N010', 'N011', 'N012', 'N013', 'N017', 'N019', 'N020',\n",
              "       'N022', 'N023', 'N024', 'N025', 'N026', 'N029', 'N030', 'N037',\n",
              "       'N039', 'N040', 'N044', 'N045', 'N049', 'N051', 'N056', 'N057',\n",
              "       'N060', 'N062', 'N062A', 'N063', 'N063A', 'N067', 'N068', 'N069',\n",
              "       'N070', 'N071', 'N072', 'N073', 'N075', 'N076', 'N077', 'N078',\n",
              "       'N080', 'N083', 'N086', 'N087', 'N089', 'N090', 'N091', 'N092',\n",
              "       'N094', 'N095', 'N095A', 'N098', 'N100', 'N101', 'N102', 'N103',\n",
              "       'N108', 'N110', 'N111', 'N112A', 'N113', 'N114', 'N116', 'N117',\n",
              "       'N118', 'N119', 'N120', 'N120A', 'N121B', 'N122', 'N123B', 'N124',\n",
              "       'N125', 'N126', 'N127', 'N128', 'N129', 'N130', 'N131', 'N133',\n",
              "       'N134', 'N135', 'N137', 'N138', 'N139', 'N141', 'N181', 'N181A',\n",
              "       'N182', 'N183', 'N184', 'N185', 'N186', 'N187', 'N191', 'N192',\n",
              "       'N193', 'N194', 'N195', 'N196', 'N202', 'N203', 'N205', 'N207',\n",
              "       'N208', 'N209', 'N213', 'N215', 'N217', 'N218', 'N220', 'N221',\n",
              "       'N222', 'N223', 'N224', 'N225', 'N300', 'N301', 'N303', 'N304',\n",
              "       'N305', 'N305A', 'N306', 'N307', 'N309A', 'N310', 'N311', 'N312',\n",
              "       'N314', 'N315', 'N316', 'N316A', 'N317', 'N318', 'N319', 'N322',\n",
              "       'N323', 'N324', 'N325A', 'N327', 'N329', 'N329A', 'N330', 'N330C',\n",
              "       'N331', 'N332', 'N333', 'N333A', 'N333B', 'N334B', 'N335', 'N336',\n",
              "       'N337', 'N338', 'N338B', 'N339', 'N339A', 'N340', 'N340A', 'N342',\n",
              "       'N343', 'N400A', 'N401', 'N405', 'N408A', 'N409', 'N412', 'N414',\n",
              "       'N414A', 'N415', 'N416', 'N417', 'N418', 'N419', 'N420B', 'N422',\n",
              "       'N500', 'N501', 'N501A', 'N502', 'N503', 'N504', 'N505', 'N506',\n",
              "       'N507', 'N510', 'N511', 'N512', 'N513', 'N519', 'N519A', 'N520',\n",
              "       'N521', 'N523', 'N525', 'N526', 'N528', 'N529', 'N530', 'N531',\n",
              "       'N532', 'N533', 'N534', 'N535', 'N536', 'N537', 'N539', 'N541',\n",
              "       'N542', 'N543', 'N544', 'N545', 'N546', 'N547', 'N548', 'N549',\n",
              "       'N550', 'N551', 'N553', 'N554', 'N555', 'N556', 'N557', 'N558',\n",
              "       'N559', 'N561', 'N562', 'N601', 'N601A', 'N602', 'N603', 'N604',\n",
              "       'N605', 'N606', 'N607', 'N700', 'N700A', 'N701', 'N701A', 'N702',\n",
              "       'N702A', 'OB01', 'PTH01', 'PTH02', 'PTH03', 'PTH04', 'PTH05',\n",
              "       'PTH06', 'PTH07', 'PTH09', 'PTH10', 'PTH11', 'PTH12', 'PTH13',\n",
              "       'PTH16', 'PTH17', 'PTH18', 'PTH19', 'PTH20', 'PTH21', 'PTH22',\n",
              "       'R101', 'R102', 'R103', 'R110', 'R111', 'R112', 'R113', 'R114',\n",
              "       'R115', 'R116', 'R117', 'R118', 'R119', 'R120', 'R121', 'R122',\n",
              "       'R123', 'R124', 'R125', 'R126', 'R127', 'R128', 'R129', 'R130',\n",
              "       'R131', 'R132', 'R133', 'R134', 'R135', 'R137', 'R138', 'R139',\n",
              "       'R141', 'R142', 'R143', 'R145', 'R147', 'R148', 'R151', 'R154',\n",
              "       'R155', 'R158', 'R159', 'R160', 'R160A', 'R161A', 'R161B', 'R162',\n",
              "       'R163', 'R164', 'R165', 'R166', 'R168A', 'R169', 'R170', 'R171',\n",
              "       'R172', 'R173', 'R174', 'R175', 'R176', 'R177', 'R178', 'R179',\n",
              "       'R180', 'R182', 'R183', 'R185', 'R186', 'R188', 'R190', 'R192',\n",
              "       'R194', 'R196', 'R197', 'R200A', 'R201', 'R202', 'R203', 'R203A',\n",
              "       'R204', 'R204A', 'R205A', 'R206', 'R208', 'R210', 'R210A', 'R215',\n",
              "       'R216', 'R217A', 'R219', 'R220', 'R221', 'R226', 'R226A', 'R227',\n",
              "       'R227A', 'R231', 'R231A', 'R232', 'R232A', 'R236', 'R237', 'R237B',\n",
              "       'R238', 'R238A', 'R240', 'R241A', 'R242', 'R242A', 'R243', 'R244',\n",
              "       'R244A', 'R245', 'R245A', 'R246', 'R247', 'R248', 'R249', 'R250',\n",
              "       'R251', 'R252', 'R253', 'R254', 'R256', 'R257', 'R258', 'R259',\n",
              "       'R260', 'R261', 'R262', 'R262A', 'R262B', 'R283', 'R284', 'R285',\n",
              "       'R286', 'R287', 'R288', 'R289', 'R290', 'R291', 'R293', 'R294',\n",
              "       'R301', 'R302', 'R303', 'R304', 'R305', 'R306', 'R307', 'R309',\n",
              "       'R310', 'R311', 'R312', 'R314', 'R315', 'R316', 'R317', 'R318',\n",
              "       'R319', 'R320', 'R321', 'R322', 'R323', 'R325', 'R326', 'R327',\n",
              "       'R328', 'R329', 'R330', 'R331', 'R332', 'R333', 'R334', 'R335',\n",
              "       'R336', 'R401', 'R402', 'R403', 'R404', 'R405', 'R406', 'R407',\n",
              "       'R408', 'R409', 'R410', 'R411', 'R412', 'R413', 'R414', 'R415',\n",
              "       'R416', 'R417', 'R418', 'R419', 'R420', 'R421', 'R422', 'R423',\n",
              "       'R501', 'R503', 'R504', 'R506', 'R507', 'R508', 'R509', 'R511',\n",
              "       'R513', 'R514', 'R515', 'R516', 'R517', 'R518', 'R519', 'R520',\n",
              "       'R521', 'R523', 'R524', 'R525', 'R526', 'R527', 'R528', 'R529',\n",
              "       'R530', 'R532', 'R532H', 'R533', 'R534', 'R550', 'R551', 'R600',\n",
              "       'R601A', 'R602', 'R604', 'R605', 'R606', 'R608', 'R609', 'R610',\n",
              "       'R612', 'R617', 'R618', 'R619', 'R621', 'R622', 'R623', 'R624',\n",
              "       'R625', 'R626', 'R627', 'R628', 'R629', 'R630', 'R632', 'R633',\n",
              "       'R634', 'R635', 'R636', 'R637', 'R639', 'R641', 'R643', 'R644',\n",
              "       'R645', 'R646', 'R647', 'R726', 'R727', 'R728', 'R729', 'R730',\n",
              "       'S101', 'S101A', 'S102', 'TRAM2'], dtype=object)"
            ]
          },
          "metadata": {},
          "execution_count": 24
        }
      ]
    },
    {
      "cell_type": "code",
      "source": [
        "# Value counts for column C/A\n",
        "df['C/A'].value_counts()"
      ],
      "metadata": {
        "colab": {
          "base_uri": "https://localhost:8080/",
          "height": 490
        },
        "id": "awdmL75t9wRO",
        "outputId": "bc70dfb7-ec65-4ea1-a6c9-200941a6101b"
      },
      "execution_count": null,
      "outputs": [
        {
          "output_type": "execute_result",
          "data": {
            "text/plain": [
              "C/A\n",
              "PTH22    1800\n",
              "PTH05    1005\n",
              "R610      945\n",
              "PTH07     920\n",
              "PTH16     909\n",
              "         ... \n",
              "H037       84\n",
              "D016       78\n",
              "N207       60\n",
              "A085       42\n",
              "D005       41\n",
              "Name: count, Length: 721, dtype: int64"
            ],
            "text/html": [
              "<div>\n",
              "<style scoped>\n",
              "    .dataframe tbody tr th:only-of-type {\n",
              "        vertical-align: middle;\n",
              "    }\n",
              "\n",
              "    .dataframe tbody tr th {\n",
              "        vertical-align: top;\n",
              "    }\n",
              "\n",
              "    .dataframe thead th {\n",
              "        text-align: right;\n",
              "    }\n",
              "</style>\n",
              "<table border=\"1\" class=\"dataframe\">\n",
              "  <thead>\n",
              "    <tr style=\"text-align: right;\">\n",
              "      <th></th>\n",
              "      <th>count</th>\n",
              "    </tr>\n",
              "    <tr>\n",
              "      <th>C/A</th>\n",
              "      <th></th>\n",
              "    </tr>\n",
              "  </thead>\n",
              "  <tbody>\n",
              "    <tr>\n",
              "      <th>PTH22</th>\n",
              "      <td>1800</td>\n",
              "    </tr>\n",
              "    <tr>\n",
              "      <th>PTH05</th>\n",
              "      <td>1005</td>\n",
              "    </tr>\n",
              "    <tr>\n",
              "      <th>R610</th>\n",
              "      <td>945</td>\n",
              "    </tr>\n",
              "    <tr>\n",
              "      <th>PTH07</th>\n",
              "      <td>920</td>\n",
              "    </tr>\n",
              "    <tr>\n",
              "      <th>PTH16</th>\n",
              "      <td>909</td>\n",
              "    </tr>\n",
              "    <tr>\n",
              "      <th>...</th>\n",
              "      <td>...</td>\n",
              "    </tr>\n",
              "    <tr>\n",
              "      <th>H037</th>\n",
              "      <td>84</td>\n",
              "    </tr>\n",
              "    <tr>\n",
              "      <th>D016</th>\n",
              "      <td>78</td>\n",
              "    </tr>\n",
              "    <tr>\n",
              "      <th>N207</th>\n",
              "      <td>60</td>\n",
              "    </tr>\n",
              "    <tr>\n",
              "      <th>A085</th>\n",
              "      <td>42</td>\n",
              "    </tr>\n",
              "    <tr>\n",
              "      <th>D005</th>\n",
              "      <td>41</td>\n",
              "    </tr>\n",
              "  </tbody>\n",
              "</table>\n",
              "<p>721 rows × 1 columns</p>\n",
              "</div><br><label><b>dtype:</b> int64</label>"
            ]
          },
          "metadata": {},
          "execution_count": 14
        }
      ]
    },
    {
      "cell_type": "code",
      "source": [
        "# df.loc -\n",
        "\n",
        "# df.iloc - Uses integral positions"
      ],
      "metadata": {
        "id": "eWrYE1T0-0Gk"
      },
      "execution_count": null,
      "outputs": []
    },
    {
      "cell_type": "code",
      "source": [
        "df.iloc[:, 1]"
      ],
      "metadata": {
        "colab": {
          "base_uri": "https://localhost:8080/",
          "height": 458
        },
        "id": "zNPD9ir__D5i",
        "outputId": "17157a62-244d-437e-d069-9fc9ea16dfa8"
      },
      "execution_count": null,
      "outputs": [
        {
          "output_type": "execute_result",
          "data": {
            "text/plain": [
              "0         R051\n",
              "1         R051\n",
              "2         R051\n",
              "3         R051\n",
              "4         R051\n",
              "          ... \n",
              "197620    R469\n",
              "197621    R469\n",
              "197622    R469\n",
              "197623    R469\n",
              "197624    R469\n",
              "Name: UNIT, Length: 197625, dtype: object"
            ],
            "text/html": [
              "<div>\n",
              "<style scoped>\n",
              "    .dataframe tbody tr th:only-of-type {\n",
              "        vertical-align: middle;\n",
              "    }\n",
              "\n",
              "    .dataframe tbody tr th {\n",
              "        vertical-align: top;\n",
              "    }\n",
              "\n",
              "    .dataframe thead th {\n",
              "        text-align: right;\n",
              "    }\n",
              "</style>\n",
              "<table border=\"1\" class=\"dataframe\">\n",
              "  <thead>\n",
              "    <tr style=\"text-align: right;\">\n",
              "      <th></th>\n",
              "      <th>UNIT</th>\n",
              "    </tr>\n",
              "  </thead>\n",
              "  <tbody>\n",
              "    <tr>\n",
              "      <th>0</th>\n",
              "      <td>R051</td>\n",
              "    </tr>\n",
              "    <tr>\n",
              "      <th>1</th>\n",
              "      <td>R051</td>\n",
              "    </tr>\n",
              "    <tr>\n",
              "      <th>2</th>\n",
              "      <td>R051</td>\n",
              "    </tr>\n",
              "    <tr>\n",
              "      <th>3</th>\n",
              "      <td>R051</td>\n",
              "    </tr>\n",
              "    <tr>\n",
              "      <th>4</th>\n",
              "      <td>R051</td>\n",
              "    </tr>\n",
              "    <tr>\n",
              "      <th>...</th>\n",
              "      <td>...</td>\n",
              "    </tr>\n",
              "    <tr>\n",
              "      <th>197620</th>\n",
              "      <td>R469</td>\n",
              "    </tr>\n",
              "    <tr>\n",
              "      <th>197621</th>\n",
              "      <td>R469</td>\n",
              "    </tr>\n",
              "    <tr>\n",
              "      <th>197622</th>\n",
              "      <td>R469</td>\n",
              "    </tr>\n",
              "    <tr>\n",
              "      <th>197623</th>\n",
              "      <td>R469</td>\n",
              "    </tr>\n",
              "    <tr>\n",
              "      <th>197624</th>\n",
              "      <td>R469</td>\n",
              "    </tr>\n",
              "  </tbody>\n",
              "</table>\n",
              "<p>197625 rows × 1 columns</p>\n",
              "</div><br><label><b>dtype:</b> object</label>"
            ]
          },
          "metadata": {},
          "execution_count": 22
        }
      ]
    },
    {
      "cell_type": "code",
      "source": [
        "df.columns"
      ],
      "metadata": {
        "colab": {
          "base_uri": "https://localhost:8080/"
        },
        "id": "F8Rfva-OBGPC",
        "outputId": "9fa5f605-fc3d-4eae-fbe8-c4cc1ac46cc6"
      },
      "execution_count": null,
      "outputs": [
        {
          "output_type": "execute_result",
          "data": {
            "text/plain": [
              "Index(['C/A', 'UNIT', 'SCP', 'STATION', 'LINENAME', 'DIVISION', 'DATE', 'TIME',\n",
              "       'DESC', 'ENTRIES',\n",
              "       'EXITS                                                               '],\n",
              "      dtype='object')"
            ]
          },
          "metadata": {},
          "execution_count": 25
        }
      ]
    },
    {
      "cell_type": "code",
      "source": [
        "# Creating a new column\n",
        "df['index'] = df['C/A']\n",
        "df.head()"
      ],
      "metadata": {
        "colab": {
          "base_uri": "https://localhost:8080/",
          "height": 206
        },
        "id": "dEDH1JvEANLx",
        "outputId": "c9ad8f32-c684-4861-cfd7-4d5657e18137"
      },
      "execution_count": null,
      "outputs": [
        {
          "output_type": "execute_result",
          "data": {
            "text/plain": [
              "    C/A  UNIT       SCP STATION LINENAME DIVISION        DATE      TIME  \\\n",
              "0  A002  R051  02-00-00   59 ST  NQR456W      BMT  08/25/2018  00:00:00   \n",
              "1  A002  R051  02-00-00   59 ST  NQR456W      BMT  08/25/2018  04:00:00   \n",
              "2  A002  R051  02-00-00   59 ST  NQR456W      BMT  08/25/2018  08:00:00   \n",
              "3  A002  R051  02-00-00   59 ST  NQR456W      BMT  08/25/2018  12:00:00   \n",
              "4  A002  R051  02-00-00   59 ST  NQR456W      BMT  08/25/2018  16:00:00   \n",
              "\n",
              "      DESC  ENTRIES  \\\n",
              "0  REGULAR  6736067   \n",
              "1  REGULAR  6736087   \n",
              "2  REGULAR  6736105   \n",
              "3  REGULAR  6736180   \n",
              "4  REGULAR  6736349   \n",
              "\n",
              "   EXITS                                                                index  \n",
              "0                                            2283184                     A002  \n",
              "1                                            2283188                     A002  \n",
              "2                                            2283229                     A002  \n",
              "3                                            2283314                     A002  \n",
              "4                                            2283384                     A002  "
            ],
            "text/html": [
              "\n",
              "  <div id=\"df-ae7de5e5-98da-4a9a-9eb8-d65131d4d4ec\" class=\"colab-df-container\">\n",
              "    <div>\n",
              "<style scoped>\n",
              "    .dataframe tbody tr th:only-of-type {\n",
              "        vertical-align: middle;\n",
              "    }\n",
              "\n",
              "    .dataframe tbody tr th {\n",
              "        vertical-align: top;\n",
              "    }\n",
              "\n",
              "    .dataframe thead th {\n",
              "        text-align: right;\n",
              "    }\n",
              "</style>\n",
              "<table border=\"1\" class=\"dataframe\">\n",
              "  <thead>\n",
              "    <tr style=\"text-align: right;\">\n",
              "      <th></th>\n",
              "      <th>C/A</th>\n",
              "      <th>UNIT</th>\n",
              "      <th>SCP</th>\n",
              "      <th>STATION</th>\n",
              "      <th>LINENAME</th>\n",
              "      <th>DIVISION</th>\n",
              "      <th>DATE</th>\n",
              "      <th>TIME</th>\n",
              "      <th>DESC</th>\n",
              "      <th>ENTRIES</th>\n",
              "      <th>EXITS</th>\n",
              "      <th>index</th>\n",
              "    </tr>\n",
              "  </thead>\n",
              "  <tbody>\n",
              "    <tr>\n",
              "      <th>0</th>\n",
              "      <td>A002</td>\n",
              "      <td>R051</td>\n",
              "      <td>02-00-00</td>\n",
              "      <td>59 ST</td>\n",
              "      <td>NQR456W</td>\n",
              "      <td>BMT</td>\n",
              "      <td>08/25/2018</td>\n",
              "      <td>00:00:00</td>\n",
              "      <td>REGULAR</td>\n",
              "      <td>6736067</td>\n",
              "      <td>2283184</td>\n",
              "      <td>A002</td>\n",
              "    </tr>\n",
              "    <tr>\n",
              "      <th>1</th>\n",
              "      <td>A002</td>\n",
              "      <td>R051</td>\n",
              "      <td>02-00-00</td>\n",
              "      <td>59 ST</td>\n",
              "      <td>NQR456W</td>\n",
              "      <td>BMT</td>\n",
              "      <td>08/25/2018</td>\n",
              "      <td>04:00:00</td>\n",
              "      <td>REGULAR</td>\n",
              "      <td>6736087</td>\n",
              "      <td>2283188</td>\n",
              "      <td>A002</td>\n",
              "    </tr>\n",
              "    <tr>\n",
              "      <th>2</th>\n",
              "      <td>A002</td>\n",
              "      <td>R051</td>\n",
              "      <td>02-00-00</td>\n",
              "      <td>59 ST</td>\n",
              "      <td>NQR456W</td>\n",
              "      <td>BMT</td>\n",
              "      <td>08/25/2018</td>\n",
              "      <td>08:00:00</td>\n",
              "      <td>REGULAR</td>\n",
              "      <td>6736105</td>\n",
              "      <td>2283229</td>\n",
              "      <td>A002</td>\n",
              "    </tr>\n",
              "    <tr>\n",
              "      <th>3</th>\n",
              "      <td>A002</td>\n",
              "      <td>R051</td>\n",
              "      <td>02-00-00</td>\n",
              "      <td>59 ST</td>\n",
              "      <td>NQR456W</td>\n",
              "      <td>BMT</td>\n",
              "      <td>08/25/2018</td>\n",
              "      <td>12:00:00</td>\n",
              "      <td>REGULAR</td>\n",
              "      <td>6736180</td>\n",
              "      <td>2283314</td>\n",
              "      <td>A002</td>\n",
              "    </tr>\n",
              "    <tr>\n",
              "      <th>4</th>\n",
              "      <td>A002</td>\n",
              "      <td>R051</td>\n",
              "      <td>02-00-00</td>\n",
              "      <td>59 ST</td>\n",
              "      <td>NQR456W</td>\n",
              "      <td>BMT</td>\n",
              "      <td>08/25/2018</td>\n",
              "      <td>16:00:00</td>\n",
              "      <td>REGULAR</td>\n",
              "      <td>6736349</td>\n",
              "      <td>2283384</td>\n",
              "      <td>A002</td>\n",
              "    </tr>\n",
              "  </tbody>\n",
              "</table>\n",
              "</div>\n",
              "    <div class=\"colab-df-buttons\">\n",
              "\n",
              "  <div class=\"colab-df-container\">\n",
              "    <button class=\"colab-df-convert\" onclick=\"convertToInteractive('df-ae7de5e5-98da-4a9a-9eb8-d65131d4d4ec')\"\n",
              "            title=\"Convert this dataframe to an interactive table.\"\n",
              "            style=\"display:none;\">\n",
              "\n",
              "  <svg xmlns=\"http://www.w3.org/2000/svg\" height=\"24px\" viewBox=\"0 -960 960 960\">\n",
              "    <path d=\"M120-120v-720h720v720H120Zm60-500h600v-160H180v160Zm220 220h160v-160H400v160Zm0 220h160v-160H400v160ZM180-400h160v-160H180v160Zm440 0h160v-160H620v160ZM180-180h160v-160H180v160Zm440 0h160v-160H620v160Z\"/>\n",
              "  </svg>\n",
              "    </button>\n",
              "\n",
              "  <style>\n",
              "    .colab-df-container {\n",
              "      display:flex;\n",
              "      gap: 12px;\n",
              "    }\n",
              "\n",
              "    .colab-df-convert {\n",
              "      background-color: #E8F0FE;\n",
              "      border: none;\n",
              "      border-radius: 50%;\n",
              "      cursor: pointer;\n",
              "      display: none;\n",
              "      fill: #1967D2;\n",
              "      height: 32px;\n",
              "      padding: 0 0 0 0;\n",
              "      width: 32px;\n",
              "    }\n",
              "\n",
              "    .colab-df-convert:hover {\n",
              "      background-color: #E2EBFA;\n",
              "      box-shadow: 0px 1px 2px rgba(60, 64, 67, 0.3), 0px 1px 3px 1px rgba(60, 64, 67, 0.15);\n",
              "      fill: #174EA6;\n",
              "    }\n",
              "\n",
              "    .colab-df-buttons div {\n",
              "      margin-bottom: 4px;\n",
              "    }\n",
              "\n",
              "    [theme=dark] .colab-df-convert {\n",
              "      background-color: #3B4455;\n",
              "      fill: #D2E3FC;\n",
              "    }\n",
              "\n",
              "    [theme=dark] .colab-df-convert:hover {\n",
              "      background-color: #434B5C;\n",
              "      box-shadow: 0px 1px 3px 1px rgba(0, 0, 0, 0.15);\n",
              "      filter: drop-shadow(0px 1px 2px rgba(0, 0, 0, 0.3));\n",
              "      fill: #FFFFFF;\n",
              "    }\n",
              "  </style>\n",
              "\n",
              "    <script>\n",
              "      const buttonEl =\n",
              "        document.querySelector('#df-ae7de5e5-98da-4a9a-9eb8-d65131d4d4ec button.colab-df-convert');\n",
              "      buttonEl.style.display =\n",
              "        google.colab.kernel.accessAllowed ? 'block' : 'none';\n",
              "\n",
              "      async function convertToInteractive(key) {\n",
              "        const element = document.querySelector('#df-ae7de5e5-98da-4a9a-9eb8-d65131d4d4ec');\n",
              "        const dataTable =\n",
              "          await google.colab.kernel.invokeFunction('convertToInteractive',\n",
              "                                                    [key], {});\n",
              "        if (!dataTable) return;\n",
              "\n",
              "        const docLinkHtml = 'Like what you see? Visit the ' +\n",
              "          '<a target=\"_blank\" href=https://colab.research.google.com/notebooks/data_table.ipynb>data table notebook</a>'\n",
              "          + ' to learn more about interactive tables.';\n",
              "        element.innerHTML = '';\n",
              "        dataTable['output_type'] = 'display_data';\n",
              "        await google.colab.output.renderOutput(dataTable, element);\n",
              "        const docLink = document.createElement('div');\n",
              "        docLink.innerHTML = docLinkHtml;\n",
              "        element.appendChild(docLink);\n",
              "      }\n",
              "    </script>\n",
              "  </div>\n",
              "\n",
              "\n",
              "    <div id=\"df-9dbd3cf8-45cc-4799-9494-dd7db663364f\">\n",
              "      <button class=\"colab-df-quickchart\" onclick=\"quickchart('df-9dbd3cf8-45cc-4799-9494-dd7db663364f')\"\n",
              "                title=\"Suggest charts\"\n",
              "                style=\"display:none;\">\n",
              "\n",
              "<svg xmlns=\"http://www.w3.org/2000/svg\" height=\"24px\"viewBox=\"0 0 24 24\"\n",
              "     width=\"24px\">\n",
              "    <g>\n",
              "        <path d=\"M19 3H5c-1.1 0-2 .9-2 2v14c0 1.1.9 2 2 2h14c1.1 0 2-.9 2-2V5c0-1.1-.9-2-2-2zM9 17H7v-7h2v7zm4 0h-2V7h2v10zm4 0h-2v-4h2v4z\"/>\n",
              "    </g>\n",
              "</svg>\n",
              "      </button>\n",
              "\n",
              "<style>\n",
              "  .colab-df-quickchart {\n",
              "      --bg-color: #E8F0FE;\n",
              "      --fill-color: #1967D2;\n",
              "      --hover-bg-color: #E2EBFA;\n",
              "      --hover-fill-color: #174EA6;\n",
              "      --disabled-fill-color: #AAA;\n",
              "      --disabled-bg-color: #DDD;\n",
              "  }\n",
              "\n",
              "  [theme=dark] .colab-df-quickchart {\n",
              "      --bg-color: #3B4455;\n",
              "      --fill-color: #D2E3FC;\n",
              "      --hover-bg-color: #434B5C;\n",
              "      --hover-fill-color: #FFFFFF;\n",
              "      --disabled-bg-color: #3B4455;\n",
              "      --disabled-fill-color: #666;\n",
              "  }\n",
              "\n",
              "  .colab-df-quickchart {\n",
              "    background-color: var(--bg-color);\n",
              "    border: none;\n",
              "    border-radius: 50%;\n",
              "    cursor: pointer;\n",
              "    display: none;\n",
              "    fill: var(--fill-color);\n",
              "    height: 32px;\n",
              "    padding: 0;\n",
              "    width: 32px;\n",
              "  }\n",
              "\n",
              "  .colab-df-quickchart:hover {\n",
              "    background-color: var(--hover-bg-color);\n",
              "    box-shadow: 0 1px 2px rgba(60, 64, 67, 0.3), 0 1px 3px 1px rgba(60, 64, 67, 0.15);\n",
              "    fill: var(--button-hover-fill-color);\n",
              "  }\n",
              "\n",
              "  .colab-df-quickchart-complete:disabled,\n",
              "  .colab-df-quickchart-complete:disabled:hover {\n",
              "    background-color: var(--disabled-bg-color);\n",
              "    fill: var(--disabled-fill-color);\n",
              "    box-shadow: none;\n",
              "  }\n",
              "\n",
              "  .colab-df-spinner {\n",
              "    border: 2px solid var(--fill-color);\n",
              "    border-color: transparent;\n",
              "    border-bottom-color: var(--fill-color);\n",
              "    animation:\n",
              "      spin 1s steps(1) infinite;\n",
              "  }\n",
              "\n",
              "  @keyframes spin {\n",
              "    0% {\n",
              "      border-color: transparent;\n",
              "      border-bottom-color: var(--fill-color);\n",
              "      border-left-color: var(--fill-color);\n",
              "    }\n",
              "    20% {\n",
              "      border-color: transparent;\n",
              "      border-left-color: var(--fill-color);\n",
              "      border-top-color: var(--fill-color);\n",
              "    }\n",
              "    30% {\n",
              "      border-color: transparent;\n",
              "      border-left-color: var(--fill-color);\n",
              "      border-top-color: var(--fill-color);\n",
              "      border-right-color: var(--fill-color);\n",
              "    }\n",
              "    40% {\n",
              "      border-color: transparent;\n",
              "      border-right-color: var(--fill-color);\n",
              "      border-top-color: var(--fill-color);\n",
              "    }\n",
              "    60% {\n",
              "      border-color: transparent;\n",
              "      border-right-color: var(--fill-color);\n",
              "    }\n",
              "    80% {\n",
              "      border-color: transparent;\n",
              "      border-right-color: var(--fill-color);\n",
              "      border-bottom-color: var(--fill-color);\n",
              "    }\n",
              "    90% {\n",
              "      border-color: transparent;\n",
              "      border-bottom-color: var(--fill-color);\n",
              "    }\n",
              "  }\n",
              "</style>\n",
              "\n",
              "      <script>\n",
              "        async function quickchart(key) {\n",
              "          const quickchartButtonEl =\n",
              "            document.querySelector('#' + key + ' button');\n",
              "          quickchartButtonEl.disabled = true;  // To prevent multiple clicks.\n",
              "          quickchartButtonEl.classList.add('colab-df-spinner');\n",
              "          try {\n",
              "            const charts = await google.colab.kernel.invokeFunction(\n",
              "                'suggestCharts', [key], {});\n",
              "          } catch (error) {\n",
              "            console.error('Error during call to suggestCharts:', error);\n",
              "          }\n",
              "          quickchartButtonEl.classList.remove('colab-df-spinner');\n",
              "          quickchartButtonEl.classList.add('colab-df-quickchart-complete');\n",
              "        }\n",
              "        (() => {\n",
              "          let quickchartButtonEl =\n",
              "            document.querySelector('#df-9dbd3cf8-45cc-4799-9494-dd7db663364f button');\n",
              "          quickchartButtonEl.style.display =\n",
              "            google.colab.kernel.accessAllowed ? 'block' : 'none';\n",
              "        })();\n",
              "      </script>\n",
              "    </div>\n",
              "\n",
              "    </div>\n",
              "  </div>\n"
            ],
            "application/vnd.google.colaboratory.intrinsic+json": {
              "type": "dataframe",
              "variable_name": "df"
            }
          },
          "metadata": {},
          "execution_count": 28
        }
      ]
    },
    {
      "cell_type": "code",
      "source": [
        "# Removing a column\n",
        "df.pop('index')\n",
        "df.columns"
      ],
      "metadata": {
        "colab": {
          "base_uri": "https://localhost:8080/"
        },
        "id": "xJqZzze_CliU",
        "outputId": "a69c0f53-bd6d-429f-c5c9-8dabcf106460"
      },
      "execution_count": null,
      "outputs": [
        {
          "output_type": "execute_result",
          "data": {
            "text/plain": [
              "Index(['C/A', 'UNIT', 'SCP', 'STATION', 'LINENAME', 'DIVISION', 'DATE', 'TIME',\n",
              "       'DESC', 'ENTRIES',\n",
              "       'EXITS                                                               '],\n",
              "      dtype='object')"
            ]
          },
          "metadata": {},
          "execution_count": 32
        }
      ]
    },
    {
      "cell_type": "code",
      "source": [
        "# Datatype for a column\n",
        "print(df['ENTRIES'].dtype)"
      ],
      "metadata": {
        "colab": {
          "base_uri": "https://localhost:8080/"
        },
        "id": "ps8VRnFPD3Ut",
        "outputId": "d14acd6c-33a8-48ae-94dd-ba323b8146f8"
      },
      "execution_count": null,
      "outputs": [
        {
          "output_type": "stream",
          "name": "stdout",
          "text": [
            "int64\n"
          ]
        }
      ]
    },
    {
      "cell_type": "code",
      "source": [
        "\n",
        "Entries = df['ENTRIES']\n",
        "type(Entries)"
      ],
      "metadata": {
        "colab": {
          "base_uri": "https://localhost:8080/",
          "height": 204
        },
        "id": "5D9EZhAjEZDY",
        "outputId": "db279c01-539e-412b-9d96-8eaac79556c1"
      },
      "execution_count": null,
      "outputs": [
        {
          "output_type": "execute_result",
          "data": {
            "text/plain": [
              "pandas.core.series.Series"
            ],
            "text/html": [
              "<div style=\"max-width:800px; border: 1px solid var(--colab-border-color);\"><style>\n",
              "      pre.function-repr-contents {\n",
              "        overflow-x: auto;\n",
              "        padding: 8px 12px;\n",
              "        max-height: 500px;\n",
              "      }\n",
              "\n",
              "      pre.function-repr-contents.function-repr-contents-collapsed {\n",
              "        cursor: pointer;\n",
              "        max-height: 100px;\n",
              "      }\n",
              "    </style>\n",
              "    <pre style=\"white-space: initial; background:\n",
              "         var(--colab-secondary-surface-color); padding: 8px 12px;\n",
              "         border-bottom: 1px solid var(--colab-border-color);\"><b>pandas.core.series.Series</b><br/>def __init__(data=None, index=None, dtype: Dtype | None=None, name=None, copy: bool | None=None, fastpath: bool | lib.NoDefault=lib.no_default) -&gt; None</pre><pre class=\"function-repr-contents function-repr-contents-collapsed\" style=\"\"><a class=\"filepath\" style=\"display:none\" href=\"#\">/usr/local/lib/python3.11/dist-packages/pandas/core/series.py</a>One-dimensional ndarray with axis labels (including time series).\n",
              "\n",
              "Labels need not be unique but must be a hashable type. The object\n",
              "supports both integer- and label-based indexing and provides a host of\n",
              "methods for performing operations involving the index. Statistical\n",
              "methods from ndarray have been overridden to automatically exclude\n",
              "missing data (currently represented as NaN).\n",
              "\n",
              "Operations between Series (+, -, /, \\*, \\*\\*) align values based on their\n",
              "associated index values-- they need not be the same length. The result\n",
              "index will be the sorted union of the two indexes.\n",
              "\n",
              "Parameters\n",
              "----------\n",
              "data : array-like, Iterable, dict, or scalar value\n",
              "    Contains data stored in Series. If data is a dict, argument order is\n",
              "    maintained.\n",
              "index : array-like or Index (1d)\n",
              "    Values must be hashable and have the same length as `data`.\n",
              "    Non-unique index values are allowed. Will default to\n",
              "    RangeIndex (0, 1, 2, ..., n) if not provided. If data is dict-like\n",
              "    and index is None, then the keys in the data are used as the index. If the\n",
              "    index is not None, the resulting Series is reindexed with the index values.\n",
              "dtype : str, numpy.dtype, or ExtensionDtype, optional\n",
              "    Data type for the output Series. If not specified, this will be\n",
              "    inferred from `data`.\n",
              "    See the :ref:`user guide &lt;basics.dtypes&gt;` for more usages.\n",
              "name : Hashable, default None\n",
              "    The name to give to the Series.\n",
              "copy : bool, default False\n",
              "    Copy input data. Only affects Series or 1d ndarray input. See examples.\n",
              "\n",
              "Notes\n",
              "-----\n",
              "Please reference the :ref:`User Guide &lt;basics.series&gt;` for more information.\n",
              "\n",
              "Examples\n",
              "--------\n",
              "Constructing Series from a dictionary with an Index specified\n",
              "\n",
              "&gt;&gt;&gt; d = {&#x27;a&#x27;: 1, &#x27;b&#x27;: 2, &#x27;c&#x27;: 3}\n",
              "&gt;&gt;&gt; ser = pd.Series(data=d, index=[&#x27;a&#x27;, &#x27;b&#x27;, &#x27;c&#x27;])\n",
              "&gt;&gt;&gt; ser\n",
              "a   1\n",
              "b   2\n",
              "c   3\n",
              "dtype: int64\n",
              "\n",
              "The keys of the dictionary match with the Index values, hence the Index\n",
              "values have no effect.\n",
              "\n",
              "&gt;&gt;&gt; d = {&#x27;a&#x27;: 1, &#x27;b&#x27;: 2, &#x27;c&#x27;: 3}\n",
              "&gt;&gt;&gt; ser = pd.Series(data=d, index=[&#x27;x&#x27;, &#x27;y&#x27;, &#x27;z&#x27;])\n",
              "&gt;&gt;&gt; ser\n",
              "x   NaN\n",
              "y   NaN\n",
              "z   NaN\n",
              "dtype: float64\n",
              "\n",
              "Note that the Index is first build with the keys from the dictionary.\n",
              "After this the Series is reindexed with the given Index values, hence we\n",
              "get all NaN as a result.\n",
              "\n",
              "Constructing Series from a list with `copy=False`.\n",
              "\n",
              "&gt;&gt;&gt; r = [1, 2]\n",
              "&gt;&gt;&gt; ser = pd.Series(r, copy=False)\n",
              "&gt;&gt;&gt; ser.iloc[0] = 999\n",
              "&gt;&gt;&gt; r\n",
              "[1, 2]\n",
              "&gt;&gt;&gt; ser\n",
              "0    999\n",
              "1      2\n",
              "dtype: int64\n",
              "\n",
              "Due to input data type the Series has a `copy` of\n",
              "the original data even though `copy=False`, so\n",
              "the data is unchanged.\n",
              "\n",
              "Constructing Series from a 1d ndarray with `copy=False`.\n",
              "\n",
              "&gt;&gt;&gt; r = np.array([1, 2])\n",
              "&gt;&gt;&gt; ser = pd.Series(r, copy=False)\n",
              "&gt;&gt;&gt; ser.iloc[0] = 999\n",
              "&gt;&gt;&gt; r\n",
              "array([999,   2])\n",
              "&gt;&gt;&gt; ser\n",
              "0    999\n",
              "1      2\n",
              "dtype: int64\n",
              "\n",
              "Due to input data type the Series has a `view` on\n",
              "the original data, so\n",
              "the data is changed as well.</pre>\n",
              "      <script>\n",
              "      if (google.colab.kernel.accessAllowed && google.colab.files && google.colab.files.view) {\n",
              "        for (const element of document.querySelectorAll('.filepath')) {\n",
              "          element.style.display = 'block'\n",
              "          element.onclick = (event) => {\n",
              "            event.preventDefault();\n",
              "            event.stopPropagation();\n",
              "            google.colab.files.view(element.textContent, 263);\n",
              "          };\n",
              "        }\n",
              "      }\n",
              "      for (const element of document.querySelectorAll('.function-repr-contents')) {\n",
              "        element.onclick = (event) => {\n",
              "          event.preventDefault();\n",
              "          event.stopPropagation();\n",
              "          element.classList.toggle('function-repr-contents-collapsed');\n",
              "        };\n",
              "      }\n",
              "      </script>\n",
              "      </div>"
            ]
          },
          "metadata": {},
          "execution_count": 39
        }
      ]
    },
    {
      "cell_type": "code",
      "source": [
        "Entries.median()"
      ],
      "metadata": {
        "colab": {
          "base_uri": "https://localhost:8080/"
        },
        "id": "Um5DTIXgFQY4",
        "outputId": "3b79dc60-38dc-4815-f068-36039f03d15d"
      },
      "execution_count": null,
      "outputs": [
        {
          "output_type": "execute_result",
          "data": {
            "text/plain": [
              "2507222.0"
            ]
          },
          "metadata": {},
          "execution_count": 41
        }
      ]
    },
    {
      "cell_type": "code",
      "source": [
        "df['EXITS                                                               '].dtype"
      ],
      "metadata": {
        "colab": {
          "base_uri": "https://localhost:8080/"
        },
        "id": "1zJaE3HBFrNZ",
        "outputId": "0ae4b1ef-9377-4d7b-c74e-6d2dfe2fc500"
      },
      "execution_count": null,
      "outputs": [
        {
          "output_type": "execute_result",
          "data": {
            "text/plain": [
              "dtype('int64')"
            ]
          },
          "metadata": {},
          "execution_count": 45
        }
      ]
    },
    {
      "cell_type": "code",
      "source": [
        "columns = df.columns\n",
        "for col in columns:\n",
        "  col.strip()"
      ],
      "metadata": {
        "id": "RTPqpHfYHqDc"
      },
      "execution_count": null,
      "outputs": []
    },
    {
      "cell_type": "code",
      "source": [
        "# For stripping\n",
        "columns = [col.strip() for col in df.columns]\n",
        "df.columns = columns\n",
        "df.columns"
      ],
      "metadata": {
        "colab": {
          "base_uri": "https://localhost:8080/"
        },
        "id": "fFf0to8tGSZY",
        "outputId": "f84d6a43-c409-4f24-82fd-96fa6a42a8f4"
      },
      "execution_count": null,
      "outputs": [
        {
          "output_type": "execute_result",
          "data": {
            "text/plain": [
              "Index(['C/A', 'UNIT', 'SCP', 'STATION', 'LINENAME', 'DIVISION', 'DATE', 'TIME',\n",
              "       'DESC', 'ENTRIES', 'EXITS'],\n",
              "      dtype='object')"
            ]
          },
          "metadata": {},
          "execution_count": 51
        }
      ]
    },
    {
      "cell_type": "code",
      "source": [
        "df.rename(columns={'DESC' : 'Description'}, inplace = True)\n",
        "df.columns"
      ],
      "metadata": {
        "colab": {
          "base_uri": "https://localhost:8080/"
        },
        "id": "1thQEXUqJBNi",
        "outputId": "438a2185-8ec3-459e-bc44-9908c3f3d260"
      },
      "execution_count": null,
      "outputs": [
        {
          "output_type": "execute_result",
          "data": {
            "text/plain": [
              "Index(['C/A', 'UNIT', 'SCP', 'STATION', 'LINENAME', 'DIVISION', 'DATE', 'TIME',\n",
              "       'Description', 'ENTRIES', 'EXITS'],\n",
              "      dtype='object')"
            ]
          },
          "metadata": {},
          "execution_count": 56
        }
      ]
    },
    {
      "cell_type": "code",
      "source": [
        "df.rename(columns={'C/A' : 'Control Area'}, inplace=True)\n",
        "df.head()"
      ],
      "metadata": {
        "colab": {
          "base_uri": "https://localhost:8080/",
          "height": 206
        },
        "id": "4bLSiuanJpvZ",
        "outputId": "20d05aec-007e-4475-f865-0fcd8865dc1e"
      },
      "execution_count": null,
      "outputs": [
        {
          "output_type": "execute_result",
          "data": {
            "text/plain": [
              "  Control Area  UNIT       SCP STATION LINENAME DIVISION        DATE  \\\n",
              "0         A002  R051  02-00-00   59 ST  NQR456W      BMT  08/25/2018   \n",
              "1         A002  R051  02-00-00   59 ST  NQR456W      BMT  08/25/2018   \n",
              "2         A002  R051  02-00-00   59 ST  NQR456W      BMT  08/25/2018   \n",
              "3         A002  R051  02-00-00   59 ST  NQR456W      BMT  08/25/2018   \n",
              "4         A002  R051  02-00-00   59 ST  NQR456W      BMT  08/25/2018   \n",
              "\n",
              "       TIME Description  ENTRIES    EXITS  \n",
              "0  00:00:00     REGULAR  6736067  2283184  \n",
              "1  04:00:00     REGULAR  6736087  2283188  \n",
              "2  08:00:00     REGULAR  6736105  2283229  \n",
              "3  12:00:00     REGULAR  6736180  2283314  \n",
              "4  16:00:00     REGULAR  6736349  2283384  "
            ],
            "text/html": [
              "\n",
              "  <div id=\"df-6f6d85cb-7b1c-4801-855d-adaebba3557f\" class=\"colab-df-container\">\n",
              "    <div>\n",
              "<style scoped>\n",
              "    .dataframe tbody tr th:only-of-type {\n",
              "        vertical-align: middle;\n",
              "    }\n",
              "\n",
              "    .dataframe tbody tr th {\n",
              "        vertical-align: top;\n",
              "    }\n",
              "\n",
              "    .dataframe thead th {\n",
              "        text-align: right;\n",
              "    }\n",
              "</style>\n",
              "<table border=\"1\" class=\"dataframe\">\n",
              "  <thead>\n",
              "    <tr style=\"text-align: right;\">\n",
              "      <th></th>\n",
              "      <th>Control Area</th>\n",
              "      <th>UNIT</th>\n",
              "      <th>SCP</th>\n",
              "      <th>STATION</th>\n",
              "      <th>LINENAME</th>\n",
              "      <th>DIVISION</th>\n",
              "      <th>DATE</th>\n",
              "      <th>TIME</th>\n",
              "      <th>Description</th>\n",
              "      <th>ENTRIES</th>\n",
              "      <th>EXITS</th>\n",
              "    </tr>\n",
              "  </thead>\n",
              "  <tbody>\n",
              "    <tr>\n",
              "      <th>0</th>\n",
              "      <td>A002</td>\n",
              "      <td>R051</td>\n",
              "      <td>02-00-00</td>\n",
              "      <td>59 ST</td>\n",
              "      <td>NQR456W</td>\n",
              "      <td>BMT</td>\n",
              "      <td>08/25/2018</td>\n",
              "      <td>00:00:00</td>\n",
              "      <td>REGULAR</td>\n",
              "      <td>6736067</td>\n",
              "      <td>2283184</td>\n",
              "    </tr>\n",
              "    <tr>\n",
              "      <th>1</th>\n",
              "      <td>A002</td>\n",
              "      <td>R051</td>\n",
              "      <td>02-00-00</td>\n",
              "      <td>59 ST</td>\n",
              "      <td>NQR456W</td>\n",
              "      <td>BMT</td>\n",
              "      <td>08/25/2018</td>\n",
              "      <td>04:00:00</td>\n",
              "      <td>REGULAR</td>\n",
              "      <td>6736087</td>\n",
              "      <td>2283188</td>\n",
              "    </tr>\n",
              "    <tr>\n",
              "      <th>2</th>\n",
              "      <td>A002</td>\n",
              "      <td>R051</td>\n",
              "      <td>02-00-00</td>\n",
              "      <td>59 ST</td>\n",
              "      <td>NQR456W</td>\n",
              "      <td>BMT</td>\n",
              "      <td>08/25/2018</td>\n",
              "      <td>08:00:00</td>\n",
              "      <td>REGULAR</td>\n",
              "      <td>6736105</td>\n",
              "      <td>2283229</td>\n",
              "    </tr>\n",
              "    <tr>\n",
              "      <th>3</th>\n",
              "      <td>A002</td>\n",
              "      <td>R051</td>\n",
              "      <td>02-00-00</td>\n",
              "      <td>59 ST</td>\n",
              "      <td>NQR456W</td>\n",
              "      <td>BMT</td>\n",
              "      <td>08/25/2018</td>\n",
              "      <td>12:00:00</td>\n",
              "      <td>REGULAR</td>\n",
              "      <td>6736180</td>\n",
              "      <td>2283314</td>\n",
              "    </tr>\n",
              "    <tr>\n",
              "      <th>4</th>\n",
              "      <td>A002</td>\n",
              "      <td>R051</td>\n",
              "      <td>02-00-00</td>\n",
              "      <td>59 ST</td>\n",
              "      <td>NQR456W</td>\n",
              "      <td>BMT</td>\n",
              "      <td>08/25/2018</td>\n",
              "      <td>16:00:00</td>\n",
              "      <td>REGULAR</td>\n",
              "      <td>6736349</td>\n",
              "      <td>2283384</td>\n",
              "    </tr>\n",
              "  </tbody>\n",
              "</table>\n",
              "</div>\n",
              "    <div class=\"colab-df-buttons\">\n",
              "\n",
              "  <div class=\"colab-df-container\">\n",
              "    <button class=\"colab-df-convert\" onclick=\"convertToInteractive('df-6f6d85cb-7b1c-4801-855d-adaebba3557f')\"\n",
              "            title=\"Convert this dataframe to an interactive table.\"\n",
              "            style=\"display:none;\">\n",
              "\n",
              "  <svg xmlns=\"http://www.w3.org/2000/svg\" height=\"24px\" viewBox=\"0 -960 960 960\">\n",
              "    <path d=\"M120-120v-720h720v720H120Zm60-500h600v-160H180v160Zm220 220h160v-160H400v160Zm0 220h160v-160H400v160ZM180-400h160v-160H180v160Zm440 0h160v-160H620v160ZM180-180h160v-160H180v160Zm440 0h160v-160H620v160Z\"/>\n",
              "  </svg>\n",
              "    </button>\n",
              "\n",
              "  <style>\n",
              "    .colab-df-container {\n",
              "      display:flex;\n",
              "      gap: 12px;\n",
              "    }\n",
              "\n",
              "    .colab-df-convert {\n",
              "      background-color: #E8F0FE;\n",
              "      border: none;\n",
              "      border-radius: 50%;\n",
              "      cursor: pointer;\n",
              "      display: none;\n",
              "      fill: #1967D2;\n",
              "      height: 32px;\n",
              "      padding: 0 0 0 0;\n",
              "      width: 32px;\n",
              "    }\n",
              "\n",
              "    .colab-df-convert:hover {\n",
              "      background-color: #E2EBFA;\n",
              "      box-shadow: 0px 1px 2px rgba(60, 64, 67, 0.3), 0px 1px 3px 1px rgba(60, 64, 67, 0.15);\n",
              "      fill: #174EA6;\n",
              "    }\n",
              "\n",
              "    .colab-df-buttons div {\n",
              "      margin-bottom: 4px;\n",
              "    }\n",
              "\n",
              "    [theme=dark] .colab-df-convert {\n",
              "      background-color: #3B4455;\n",
              "      fill: #D2E3FC;\n",
              "    }\n",
              "\n",
              "    [theme=dark] .colab-df-convert:hover {\n",
              "      background-color: #434B5C;\n",
              "      box-shadow: 0px 1px 3px 1px rgba(0, 0, 0, 0.15);\n",
              "      filter: drop-shadow(0px 1px 2px rgba(0, 0, 0, 0.3));\n",
              "      fill: #FFFFFF;\n",
              "    }\n",
              "  </style>\n",
              "\n",
              "    <script>\n",
              "      const buttonEl =\n",
              "        document.querySelector('#df-6f6d85cb-7b1c-4801-855d-adaebba3557f button.colab-df-convert');\n",
              "      buttonEl.style.display =\n",
              "        google.colab.kernel.accessAllowed ? 'block' : 'none';\n",
              "\n",
              "      async function convertToInteractive(key) {\n",
              "        const element = document.querySelector('#df-6f6d85cb-7b1c-4801-855d-adaebba3557f');\n",
              "        const dataTable =\n",
              "          await google.colab.kernel.invokeFunction('convertToInteractive',\n",
              "                                                    [key], {});\n",
              "        if (!dataTable) return;\n",
              "\n",
              "        const docLinkHtml = 'Like what you see? Visit the ' +\n",
              "          '<a target=\"_blank\" href=https://colab.research.google.com/notebooks/data_table.ipynb>data table notebook</a>'\n",
              "          + ' to learn more about interactive tables.';\n",
              "        element.innerHTML = '';\n",
              "        dataTable['output_type'] = 'display_data';\n",
              "        await google.colab.output.renderOutput(dataTable, element);\n",
              "        const docLink = document.createElement('div');\n",
              "        docLink.innerHTML = docLinkHtml;\n",
              "        element.appendChild(docLink);\n",
              "      }\n",
              "    </script>\n",
              "  </div>\n",
              "\n",
              "\n",
              "    <div id=\"df-9416c401-e346-475c-8193-20dc1cd4705d\">\n",
              "      <button class=\"colab-df-quickchart\" onclick=\"quickchart('df-9416c401-e346-475c-8193-20dc1cd4705d')\"\n",
              "                title=\"Suggest charts\"\n",
              "                style=\"display:none;\">\n",
              "\n",
              "<svg xmlns=\"http://www.w3.org/2000/svg\" height=\"24px\"viewBox=\"0 0 24 24\"\n",
              "     width=\"24px\">\n",
              "    <g>\n",
              "        <path d=\"M19 3H5c-1.1 0-2 .9-2 2v14c0 1.1.9 2 2 2h14c1.1 0 2-.9 2-2V5c0-1.1-.9-2-2-2zM9 17H7v-7h2v7zm4 0h-2V7h2v10zm4 0h-2v-4h2v4z\"/>\n",
              "    </g>\n",
              "</svg>\n",
              "      </button>\n",
              "\n",
              "<style>\n",
              "  .colab-df-quickchart {\n",
              "      --bg-color: #E8F0FE;\n",
              "      --fill-color: #1967D2;\n",
              "      --hover-bg-color: #E2EBFA;\n",
              "      --hover-fill-color: #174EA6;\n",
              "      --disabled-fill-color: #AAA;\n",
              "      --disabled-bg-color: #DDD;\n",
              "  }\n",
              "\n",
              "  [theme=dark] .colab-df-quickchart {\n",
              "      --bg-color: #3B4455;\n",
              "      --fill-color: #D2E3FC;\n",
              "      --hover-bg-color: #434B5C;\n",
              "      --hover-fill-color: #FFFFFF;\n",
              "      --disabled-bg-color: #3B4455;\n",
              "      --disabled-fill-color: #666;\n",
              "  }\n",
              "\n",
              "  .colab-df-quickchart {\n",
              "    background-color: var(--bg-color);\n",
              "    border: none;\n",
              "    border-radius: 50%;\n",
              "    cursor: pointer;\n",
              "    display: none;\n",
              "    fill: var(--fill-color);\n",
              "    height: 32px;\n",
              "    padding: 0;\n",
              "    width: 32px;\n",
              "  }\n",
              "\n",
              "  .colab-df-quickchart:hover {\n",
              "    background-color: var(--hover-bg-color);\n",
              "    box-shadow: 0 1px 2px rgba(60, 64, 67, 0.3), 0 1px 3px 1px rgba(60, 64, 67, 0.15);\n",
              "    fill: var(--button-hover-fill-color);\n",
              "  }\n",
              "\n",
              "  .colab-df-quickchart-complete:disabled,\n",
              "  .colab-df-quickchart-complete:disabled:hover {\n",
              "    background-color: var(--disabled-bg-color);\n",
              "    fill: var(--disabled-fill-color);\n",
              "    box-shadow: none;\n",
              "  }\n",
              "\n",
              "  .colab-df-spinner {\n",
              "    border: 2px solid var(--fill-color);\n",
              "    border-color: transparent;\n",
              "    border-bottom-color: var(--fill-color);\n",
              "    animation:\n",
              "      spin 1s steps(1) infinite;\n",
              "  }\n",
              "\n",
              "  @keyframes spin {\n",
              "    0% {\n",
              "      border-color: transparent;\n",
              "      border-bottom-color: var(--fill-color);\n",
              "      border-left-color: var(--fill-color);\n",
              "    }\n",
              "    20% {\n",
              "      border-color: transparent;\n",
              "      border-left-color: var(--fill-color);\n",
              "      border-top-color: var(--fill-color);\n",
              "    }\n",
              "    30% {\n",
              "      border-color: transparent;\n",
              "      border-left-color: var(--fill-color);\n",
              "      border-top-color: var(--fill-color);\n",
              "      border-right-color: var(--fill-color);\n",
              "    }\n",
              "    40% {\n",
              "      border-color: transparent;\n",
              "      border-right-color: var(--fill-color);\n",
              "      border-top-color: var(--fill-color);\n",
              "    }\n",
              "    60% {\n",
              "      border-color: transparent;\n",
              "      border-right-color: var(--fill-color);\n",
              "    }\n",
              "    80% {\n",
              "      border-color: transparent;\n",
              "      border-right-color: var(--fill-color);\n",
              "      border-bottom-color: var(--fill-color);\n",
              "    }\n",
              "    90% {\n",
              "      border-color: transparent;\n",
              "      border-bottom-color: var(--fill-color);\n",
              "    }\n",
              "  }\n",
              "</style>\n",
              "\n",
              "      <script>\n",
              "        async function quickchart(key) {\n",
              "          const quickchartButtonEl =\n",
              "            document.querySelector('#' + key + ' button');\n",
              "          quickchartButtonEl.disabled = true;  // To prevent multiple clicks.\n",
              "          quickchartButtonEl.classList.add('colab-df-spinner');\n",
              "          try {\n",
              "            const charts = await google.colab.kernel.invokeFunction(\n",
              "                'suggestCharts', [key], {});\n",
              "          } catch (error) {\n",
              "            console.error('Error during call to suggestCharts:', error);\n",
              "          }\n",
              "          quickchartButtonEl.classList.remove('colab-df-spinner');\n",
              "          quickchartButtonEl.classList.add('colab-df-quickchart-complete');\n",
              "        }\n",
              "        (() => {\n",
              "          let quickchartButtonEl =\n",
              "            document.querySelector('#df-9416c401-e346-475c-8193-20dc1cd4705d button');\n",
              "          quickchartButtonEl.style.display =\n",
              "            google.colab.kernel.accessAllowed ? 'block' : 'none';\n",
              "        })();\n",
              "      </script>\n",
              "    </div>\n",
              "\n",
              "    </div>\n",
              "  </div>\n"
            ],
            "application/vnd.google.colaboratory.intrinsic+json": {
              "type": "dataframe",
              "variable_name": "df"
            }
          },
          "metadata": {},
          "execution_count": 58
        }
      ]
    },
    {
      "cell_type": "code",
      "source": [
        "df.describe()"
      ],
      "metadata": {
        "colab": {
          "base_uri": "https://localhost:8080/",
          "height": 300
        },
        "id": "jyWBu_cTJyWl",
        "outputId": "e99a5285-f7d1-45f8-a69a-42d7ce39a21e"
      },
      "execution_count": null,
      "outputs": [
        {
          "output_type": "execute_result",
          "data": {
            "text/plain": [
              "            ENTRIES         EXITS\n",
              "count  1.976250e+05  1.976250e+05\n",
              "mean   4.008664e+07  3.274210e+07\n",
              "std    2.071853e+08  1.907195e+08\n",
              "min    0.000000e+00  0.000000e+00\n",
              "25%    4.912700e+05  2.364400e+05\n",
              "50%    2.507222e+06  1.404800e+06\n",
              "75%    6.965458e+06  4.809089e+06\n",
              "max    2.129771e+09  2.062565e+09"
            ],
            "text/html": [
              "\n",
              "  <div id=\"df-63bf1793-0f40-49bc-8f91-b51d8fc46181\" class=\"colab-df-container\">\n",
              "    <div>\n",
              "<style scoped>\n",
              "    .dataframe tbody tr th:only-of-type {\n",
              "        vertical-align: middle;\n",
              "    }\n",
              "\n",
              "    .dataframe tbody tr th {\n",
              "        vertical-align: top;\n",
              "    }\n",
              "\n",
              "    .dataframe thead th {\n",
              "        text-align: right;\n",
              "    }\n",
              "</style>\n",
              "<table border=\"1\" class=\"dataframe\">\n",
              "  <thead>\n",
              "    <tr style=\"text-align: right;\">\n",
              "      <th></th>\n",
              "      <th>ENTRIES</th>\n",
              "      <th>EXITS</th>\n",
              "    </tr>\n",
              "  </thead>\n",
              "  <tbody>\n",
              "    <tr>\n",
              "      <th>count</th>\n",
              "      <td>1.976250e+05</td>\n",
              "      <td>1.976250e+05</td>\n",
              "    </tr>\n",
              "    <tr>\n",
              "      <th>mean</th>\n",
              "      <td>4.008664e+07</td>\n",
              "      <td>3.274210e+07</td>\n",
              "    </tr>\n",
              "    <tr>\n",
              "      <th>std</th>\n",
              "      <td>2.071853e+08</td>\n",
              "      <td>1.907195e+08</td>\n",
              "    </tr>\n",
              "    <tr>\n",
              "      <th>min</th>\n",
              "      <td>0.000000e+00</td>\n",
              "      <td>0.000000e+00</td>\n",
              "    </tr>\n",
              "    <tr>\n",
              "      <th>25%</th>\n",
              "      <td>4.912700e+05</td>\n",
              "      <td>2.364400e+05</td>\n",
              "    </tr>\n",
              "    <tr>\n",
              "      <th>50%</th>\n",
              "      <td>2.507222e+06</td>\n",
              "      <td>1.404800e+06</td>\n",
              "    </tr>\n",
              "    <tr>\n",
              "      <th>75%</th>\n",
              "      <td>6.965458e+06</td>\n",
              "      <td>4.809089e+06</td>\n",
              "    </tr>\n",
              "    <tr>\n",
              "      <th>max</th>\n",
              "      <td>2.129771e+09</td>\n",
              "      <td>2.062565e+09</td>\n",
              "    </tr>\n",
              "  </tbody>\n",
              "</table>\n",
              "</div>\n",
              "    <div class=\"colab-df-buttons\">\n",
              "\n",
              "  <div class=\"colab-df-container\">\n",
              "    <button class=\"colab-df-convert\" onclick=\"convertToInteractive('df-63bf1793-0f40-49bc-8f91-b51d8fc46181')\"\n",
              "            title=\"Convert this dataframe to an interactive table.\"\n",
              "            style=\"display:none;\">\n",
              "\n",
              "  <svg xmlns=\"http://www.w3.org/2000/svg\" height=\"24px\" viewBox=\"0 -960 960 960\">\n",
              "    <path d=\"M120-120v-720h720v720H120Zm60-500h600v-160H180v160Zm220 220h160v-160H400v160Zm0 220h160v-160H400v160ZM180-400h160v-160H180v160Zm440 0h160v-160H620v160ZM180-180h160v-160H180v160Zm440 0h160v-160H620v160Z\"/>\n",
              "  </svg>\n",
              "    </button>\n",
              "\n",
              "  <style>\n",
              "    .colab-df-container {\n",
              "      display:flex;\n",
              "      gap: 12px;\n",
              "    }\n",
              "\n",
              "    .colab-df-convert {\n",
              "      background-color: #E8F0FE;\n",
              "      border: none;\n",
              "      border-radius: 50%;\n",
              "      cursor: pointer;\n",
              "      display: none;\n",
              "      fill: #1967D2;\n",
              "      height: 32px;\n",
              "      padding: 0 0 0 0;\n",
              "      width: 32px;\n",
              "    }\n",
              "\n",
              "    .colab-df-convert:hover {\n",
              "      background-color: #E2EBFA;\n",
              "      box-shadow: 0px 1px 2px rgba(60, 64, 67, 0.3), 0px 1px 3px 1px rgba(60, 64, 67, 0.15);\n",
              "      fill: #174EA6;\n",
              "    }\n",
              "\n",
              "    .colab-df-buttons div {\n",
              "      margin-bottom: 4px;\n",
              "    }\n",
              "\n",
              "    [theme=dark] .colab-df-convert {\n",
              "      background-color: #3B4455;\n",
              "      fill: #D2E3FC;\n",
              "    }\n",
              "\n",
              "    [theme=dark] .colab-df-convert:hover {\n",
              "      background-color: #434B5C;\n",
              "      box-shadow: 0px 1px 3px 1px rgba(0, 0, 0, 0.15);\n",
              "      filter: drop-shadow(0px 1px 2px rgba(0, 0, 0, 0.3));\n",
              "      fill: #FFFFFF;\n",
              "    }\n",
              "  </style>\n",
              "\n",
              "    <script>\n",
              "      const buttonEl =\n",
              "        document.querySelector('#df-63bf1793-0f40-49bc-8f91-b51d8fc46181 button.colab-df-convert');\n",
              "      buttonEl.style.display =\n",
              "        google.colab.kernel.accessAllowed ? 'block' : 'none';\n",
              "\n",
              "      async function convertToInteractive(key) {\n",
              "        const element = document.querySelector('#df-63bf1793-0f40-49bc-8f91-b51d8fc46181');\n",
              "        const dataTable =\n",
              "          await google.colab.kernel.invokeFunction('convertToInteractive',\n",
              "                                                    [key], {});\n",
              "        if (!dataTable) return;\n",
              "\n",
              "        const docLinkHtml = 'Like what you see? Visit the ' +\n",
              "          '<a target=\"_blank\" href=https://colab.research.google.com/notebooks/data_table.ipynb>data table notebook</a>'\n",
              "          + ' to learn more about interactive tables.';\n",
              "        element.innerHTML = '';\n",
              "        dataTable['output_type'] = 'display_data';\n",
              "        await google.colab.output.renderOutput(dataTable, element);\n",
              "        const docLink = document.createElement('div');\n",
              "        docLink.innerHTML = docLinkHtml;\n",
              "        element.appendChild(docLink);\n",
              "      }\n",
              "    </script>\n",
              "  </div>\n",
              "\n",
              "\n",
              "    <div id=\"df-26fe3e00-4f11-4a0e-b6a9-8759a4cd36bf\">\n",
              "      <button class=\"colab-df-quickchart\" onclick=\"quickchart('df-26fe3e00-4f11-4a0e-b6a9-8759a4cd36bf')\"\n",
              "                title=\"Suggest charts\"\n",
              "                style=\"display:none;\">\n",
              "\n",
              "<svg xmlns=\"http://www.w3.org/2000/svg\" height=\"24px\"viewBox=\"0 0 24 24\"\n",
              "     width=\"24px\">\n",
              "    <g>\n",
              "        <path d=\"M19 3H5c-1.1 0-2 .9-2 2v14c0 1.1.9 2 2 2h14c1.1 0 2-.9 2-2V5c0-1.1-.9-2-2-2zM9 17H7v-7h2v7zm4 0h-2V7h2v10zm4 0h-2v-4h2v4z\"/>\n",
              "    </g>\n",
              "</svg>\n",
              "      </button>\n",
              "\n",
              "<style>\n",
              "  .colab-df-quickchart {\n",
              "      --bg-color: #E8F0FE;\n",
              "      --fill-color: #1967D2;\n",
              "      --hover-bg-color: #E2EBFA;\n",
              "      --hover-fill-color: #174EA6;\n",
              "      --disabled-fill-color: #AAA;\n",
              "      --disabled-bg-color: #DDD;\n",
              "  }\n",
              "\n",
              "  [theme=dark] .colab-df-quickchart {\n",
              "      --bg-color: #3B4455;\n",
              "      --fill-color: #D2E3FC;\n",
              "      --hover-bg-color: #434B5C;\n",
              "      --hover-fill-color: #FFFFFF;\n",
              "      --disabled-bg-color: #3B4455;\n",
              "      --disabled-fill-color: #666;\n",
              "  }\n",
              "\n",
              "  .colab-df-quickchart {\n",
              "    background-color: var(--bg-color);\n",
              "    border: none;\n",
              "    border-radius: 50%;\n",
              "    cursor: pointer;\n",
              "    display: none;\n",
              "    fill: var(--fill-color);\n",
              "    height: 32px;\n",
              "    padding: 0;\n",
              "    width: 32px;\n",
              "  }\n",
              "\n",
              "  .colab-df-quickchart:hover {\n",
              "    background-color: var(--hover-bg-color);\n",
              "    box-shadow: 0 1px 2px rgba(60, 64, 67, 0.3), 0 1px 3px 1px rgba(60, 64, 67, 0.15);\n",
              "    fill: var(--button-hover-fill-color);\n",
              "  }\n",
              "\n",
              "  .colab-df-quickchart-complete:disabled,\n",
              "  .colab-df-quickchart-complete:disabled:hover {\n",
              "    background-color: var(--disabled-bg-color);\n",
              "    fill: var(--disabled-fill-color);\n",
              "    box-shadow: none;\n",
              "  }\n",
              "\n",
              "  .colab-df-spinner {\n",
              "    border: 2px solid var(--fill-color);\n",
              "    border-color: transparent;\n",
              "    border-bottom-color: var(--fill-color);\n",
              "    animation:\n",
              "      spin 1s steps(1) infinite;\n",
              "  }\n",
              "\n",
              "  @keyframes spin {\n",
              "    0% {\n",
              "      border-color: transparent;\n",
              "      border-bottom-color: var(--fill-color);\n",
              "      border-left-color: var(--fill-color);\n",
              "    }\n",
              "    20% {\n",
              "      border-color: transparent;\n",
              "      border-left-color: var(--fill-color);\n",
              "      border-top-color: var(--fill-color);\n",
              "    }\n",
              "    30% {\n",
              "      border-color: transparent;\n",
              "      border-left-color: var(--fill-color);\n",
              "      border-top-color: var(--fill-color);\n",
              "      border-right-color: var(--fill-color);\n",
              "    }\n",
              "    40% {\n",
              "      border-color: transparent;\n",
              "      border-right-color: var(--fill-color);\n",
              "      border-top-color: var(--fill-color);\n",
              "    }\n",
              "    60% {\n",
              "      border-color: transparent;\n",
              "      border-right-color: var(--fill-color);\n",
              "    }\n",
              "    80% {\n",
              "      border-color: transparent;\n",
              "      border-right-color: var(--fill-color);\n",
              "      border-bottom-color: var(--fill-color);\n",
              "    }\n",
              "    90% {\n",
              "      border-color: transparent;\n",
              "      border-bottom-color: var(--fill-color);\n",
              "    }\n",
              "  }\n",
              "</style>\n",
              "\n",
              "      <script>\n",
              "        async function quickchart(key) {\n",
              "          const quickchartButtonEl =\n",
              "            document.querySelector('#' + key + ' button');\n",
              "          quickchartButtonEl.disabled = true;  // To prevent multiple clicks.\n",
              "          quickchartButtonEl.classList.add('colab-df-spinner');\n",
              "          try {\n",
              "            const charts = await google.colab.kernel.invokeFunction(\n",
              "                'suggestCharts', [key], {});\n",
              "          } catch (error) {\n",
              "            console.error('Error during call to suggestCharts:', error);\n",
              "          }\n",
              "          quickchartButtonEl.classList.remove('colab-df-spinner');\n",
              "          quickchartButtonEl.classList.add('colab-df-quickchart-complete');\n",
              "        }\n",
              "        (() => {\n",
              "          let quickchartButtonEl =\n",
              "            document.querySelector('#df-26fe3e00-4f11-4a0e-b6a9-8759a4cd36bf button');\n",
              "          quickchartButtonEl.style.display =\n",
              "            google.colab.kernel.accessAllowed ? 'block' : 'none';\n",
              "        })();\n",
              "      </script>\n",
              "    </div>\n",
              "\n",
              "    </div>\n",
              "  </div>\n"
            ],
            "application/vnd.google.colaboratory.intrinsic+json": {
              "type": "dataframe",
              "summary": "{\n  \"name\": \"df\",\n  \"rows\": 8,\n  \"fields\": [\n    {\n      \"column\": \"ENTRIES\",\n      \"properties\": {\n        \"dtype\": \"number\",\n        \"std\": 743367701.2689768,\n        \"min\": 0.0,\n        \"max\": 2129770911.0,\n        \"num_unique_values\": 8,\n        \"samples\": [\n          40086638.71107906,\n          2507222.0,\n          197625.0\n        ],\n        \"semantic_type\": \"\",\n        \"description\": \"\"\n      }\n    },\n    {\n      \"column\": \"EXITS\",\n      \"properties\": {\n        \"dtype\": \"number\",\n        \"std\": 720575156.8588533,\n        \"min\": 0.0,\n        \"max\": 2062564696.0,\n        \"num_unique_values\": 8,\n        \"samples\": [\n          32742095.200804554,\n          1404800.0,\n          197625.0\n        ],\n        \"semantic_type\": \"\",\n        \"description\": \"\"\n      }\n    }\n  ]\n}"
            }
          },
          "metadata": {},
          "execution_count": 60
        }
      ]
    },
    {
      "cell_type": "code",
      "source": [
        "np.corrcoef(df['EXITS'], df['ENTRIES'])"
      ],
      "metadata": {
        "colab": {
          "base_uri": "https://localhost:8080/"
        },
        "id": "ZqvuG0hpKV2j",
        "outputId": "65bf5a52-3af8-4508-843a-f689347fc2ac"
      },
      "execution_count": null,
      "outputs": [
        {
          "output_type": "execute_result",
          "data": {
            "text/plain": [
              "array([[1.        , 0.78971298],\n",
              "       [0.78971298, 1.        ]])"
            ]
          },
          "metadata": {},
          "execution_count": 61
        }
      ]
    },
    {
      "cell_type": "code",
      "source": [
        "df.columns"
      ],
      "metadata": {
        "colab": {
          "base_uri": "https://localhost:8080/"
        },
        "id": "qzNHFuoIKyyB",
        "outputId": "9c2c5b50-aec8-44a7-9cda-d68c326c22c5"
      },
      "execution_count": null,
      "outputs": [
        {
          "output_type": "execute_result",
          "data": {
            "text/plain": [
              "Index(['Control Area', 'UNIT', 'SCP', 'STATION', 'LINENAME', 'DIVISION',\n",
              "       'DATE', 'TIME', 'Description', 'ENTRIES', 'EXITS'],\n",
              "      dtype='object')"
            ]
          },
          "metadata": {},
          "execution_count": 63
        }
      ]
    }
  ]
}