{
  "nbformat": 4,
  "nbformat_minor": 0,
  "metadata": {
    "colab": {
      "provenance": [],
      "collapsed_sections": [
        "Y5kulUSOSyU6"
      ],
      "authorship_tag": "ABX9TyOsGVtDVAPppBQawYBARFsZ",
      "include_colab_link": true
    },
    "kernelspec": {
      "name": "python3",
      "display_name": "Python 3"
    },
    "language_info": {
      "name": "python"
    }
  },
  "cells": [
    {
      "cell_type": "markdown",
      "metadata": {
        "id": "view-in-github",
        "colab_type": "text"
      },
      "source": [
        "<a href=\"https://colab.research.google.com/github/Jimmy-ai1/Group_3/blob/main/Group_3_task.ipynb\" target=\"_parent\"><img src=\"https://colab.research.google.com/assets/colab-badge.svg\" alt=\"Open In Colab\"/></a>"
      ]
    },
    {
      "cell_type": "markdown",
      "source": [
        "#Week 3\n",
        "Investgating the Different Datatypes"
      ],
      "metadata": {
        "id": "Y5kulUSOSyU6"
      }
    },
    {
      "cell_type": "code",
      "execution_count": null,
      "metadata": {
        "id": "KCYU7BZTuUEU"
      },
      "outputs": [],
      "source": [
        "# Saccos: Name of sacco, number of buses, fares (Rush hour, Low pick hours)\n",
        "# Routes: CBD - Mlolongo - Kitengela, CBD - Kawangware, CBD - Donholm, CBD - Ngong, Kasarani - CBD\n",
        "# Fares: 100, 80, 60"
      ]
    },
    {
      "cell_type": "code",
      "source": [
        "string = \"SuperMetro\" # Text\n",
        "integer = 110 # Numbers without decimal\n",
        "Float = 100.0 # Numbers with decimal/fractional part"
      ],
      "metadata": {
        "id": "pBnQ9iz92y_7"
      },
      "execution_count": null,
      "outputs": []
    },
    {
      "cell_type": "code",
      "source": [
        "Sacco_names =[\"SuperMetro\", \"Enabled\", \"Nangkis\", \"MTN\", \"Embassava\"]\n",
        "Popular_routes = [\"CBD - Mlolongo - Kitengela\", \"CBD - Kawangware\", \"CBD - Donholm\", \"CBD - Ngong\", \"Kasarani - CBD\"]\n",
        "Fares = [100, 80, 60]"
      ],
      "metadata": {
        "id": "if7uPQ2LxG_i"
      },
      "execution_count": null,
      "outputs": []
    },
    {
      "cell_type": "code",
      "source": [
        "# Trying out the sort function\n",
        "Sacco_names.sort()\n",
        "Sacco_names"
      ],
      "metadata": {
        "colab": {
          "base_uri": "https://localhost:8080/"
        },
        "id": "y_8rLdPo9DGB",
        "outputId": "e22b774f-78df-4f60-8449-aa0feccfc436"
      },
      "execution_count": null,
      "outputs": [
        {
          "output_type": "execute_result",
          "data": {
            "text/plain": [
              "['Embassava', 'Enabled', 'MTN', 'Nangkis', 'SuperMetro']"
            ]
          },
          "metadata": {},
          "execution_count": 6
        }
      ]
    },
    {
      "cell_type": "code",
      "source": [
        "# Printing one element from the Sacco_names list:\n",
        "Sacco_names[1]"
      ],
      "metadata": {
        "colab": {
          "base_uri": "https://localhost:8080/",
          "height": 35
        },
        "id": "9lORFqsCyeYm",
        "outputId": "fa984e25-931a-44b7-d6f9-dcdccdb19cde"
      },
      "execution_count": null,
      "outputs": [
        {
          "output_type": "execute_result",
          "data": {
            "text/plain": [
              "'Enabled'"
            ],
            "application/vnd.google.colaboratory.intrinsic+json": {
              "type": "string"
            }
          },
          "metadata": {},
          "execution_count": 7
        }
      ]
    },
    {
      "cell_type": "code",
      "source": [
        "# Adding an element to the list (Considering the difference between append and insert)\n",
        "Sacco_names.append(\"Nganya\")\n",
        "Sacco_names"
      ],
      "metadata": {
        "colab": {
          "base_uri": "https://localhost:8080/"
        },
        "id": "fZvgEWDYyuNx",
        "outputId": "fc232c2b-42b4-416f-c2a1-2c2b0cc1fd4e"
      },
      "execution_count": null,
      "outputs": [
        {
          "output_type": "execute_result",
          "data": {
            "text/plain": [
              "['Embassava', 'Enabled', 'MTN', 'Nangkis', 'SuperMetro', 'Nganya']"
            ]
          },
          "metadata": {},
          "execution_count": 8
        }
      ]
    },
    {
      "cell_type": "code",
      "source": [
        "Sacco_names.insert(1, \"Rembo\")"
      ],
      "metadata": {
        "id": "hVoB73csy-xf"
      },
      "execution_count": null,
      "outputs": []
    },
    {
      "cell_type": "code",
      "source": [
        "# Removing an element from a list\n",
        "Sacco_names.remove(\"Nganya\")\n",
        "Sacco_names"
      ],
      "metadata": {
        "colab": {
          "base_uri": "https://localhost:8080/"
        },
        "id": "_96g3S20zU1E",
        "outputId": "d0feab28-a5f3-47f6-ce00-42f900f9bd76"
      },
      "execution_count": null,
      "outputs": [
        {
          "output_type": "execute_result",
          "data": {
            "text/plain": [
              "['Embassava', 'Rembo', 'Enabled', 'MTN', 'Nangkis', 'SuperMetro']"
            ]
          },
          "metadata": {},
          "execution_count": 10
        }
      ]
    },
    {
      "cell_type": "code",
      "source": [
        "# Changing a list to a tuple\n",
        "Tuple_Saccos = tuple(Sacco_names)\n",
        "type(Tuple_Saccos)"
      ],
      "metadata": {
        "colab": {
          "base_uri": "https://localhost:8080/"
        },
        "id": "MIq-DIsY0QH0",
        "outputId": "c39fae4b-83e4-4459-a38c-aecb45f12875"
      },
      "execution_count": null,
      "outputs": [
        {
          "output_type": "execute_result",
          "data": {
            "text/plain": [
              "tuple"
            ]
          },
          "metadata": {},
          "execution_count": 11
        }
      ]
    },
    {
      "cell_type": "code",
      "source": [
        "# Changing a list to a set\n",
        "Sacco_set = set(Tuple_Saccos)\n",
        "type(Sacco_set)"
      ],
      "metadata": {
        "colab": {
          "base_uri": "https://localhost:8080/"
        },
        "id": "-KAtCLI51U5V",
        "outputId": "508f771f-0572-44ef-8329-d33b02a7ba49"
      },
      "execution_count": null,
      "outputs": [
        {
          "output_type": "execute_result",
          "data": {
            "text/plain": [
              "set"
            ]
          },
          "metadata": {},
          "execution_count": 12
        }
      ]
    },
    {
      "cell_type": "code",
      "source": [
        "# Sacco name, route it takes, fares it charges\n",
        "Individual_Sacco = {\n",
        "    \"SuperMetro\" : {\n",
        "        \"Name\": \"SuperMetro\",\n",
        "        \"Route\": [\"CBD - Mlolongo - Kitengela\", \"CBD - Kawangware\"],\n",
        "        \"Fare\": 100\n",
        "    },\n",
        "    \"Enabled\" : {\n",
        "        \"Name\": \"Enabled\",\n",
        "        \"Route\": \"CBD - Kawangware\",\n",
        "        \"Fare\": 80\n",
        "    },\n",
        "    \"Nangkis\" : {\n",
        "        \"Name\": \"Nangkis\",\n",
        "        \"Route\": \"CBD - Donholm\",\n",
        "        \"Fare\": 60\n",
        "    },\n",
        "    \"MTN\" : {\n",
        "        \"Name\": \"MTN\",\n",
        "        \"Route\": \"CBD - Ngong\",\n",
        "        \"Fare\": 100\n",
        "    },\n",
        "    \"Embassava\" : {\n",
        "        \"Name\": \"Embassava\",\n",
        "        \"Route\": \"Kasarani - CBD\",\n",
        "        \"Fare\": 80\n",
        "    }\n",
        "}\n",
        "Individual_Sacco"
      ],
      "metadata": {
        "colab": {
          "base_uri": "https://localhost:8080/"
        },
        "id": "NGasuXTh2As2",
        "outputId": "62b7ba10-fada-460c-88e2-f9b022e3bd68"
      },
      "execution_count": null,
      "outputs": [
        {
          "output_type": "execute_result",
          "data": {
            "text/plain": [
              "{'SuperMetro': {'Name': 'SuperMetro',\n",
              "  'Route': ['CBD - Mlolongo - Kitengela', 'CBD - Kawangware'],\n",
              "  'Fare': 100},\n",
              " 'Enabled': {'Name': 'Enabled', 'Route': 'CBD - Kawangware', 'Fare': 80},\n",
              " 'Nangkis': {'Name': 'Nangkis', 'Route': 'CBD - Donholm', 'Fare': 60},\n",
              " 'MTN': {'Name': 'MTN', 'Route': 'CBD - Ngong', 'Fare': 100},\n",
              " 'Embassava': {'Name': 'Embassava', 'Route': 'Kasarani - CBD', 'Fare': 80}}"
            ]
          },
          "metadata": {},
          "execution_count": 43
        }
      ]
    },
    {
      "cell_type": "code",
      "source": [
        "# Printing an element from a dictionary\n",
        "Individual_Sacco[\"Enabled\"]"
      ],
      "metadata": {
        "colab": {
          "base_uri": "https://localhost:8080/"
        },
        "id": "x4B-tGCo3M-B",
        "outputId": "c9300bbb-7f4f-43eb-da34-c70ab8523547"
      },
      "execution_count": null,
      "outputs": [
        {
          "output_type": "execute_result",
          "data": {
            "text/plain": [
              "{'Name': 'Enabled', 'Route': 'CBD - Kawangware', 'Fare': 80}"
            ]
          },
          "metadata": {},
          "execution_count": 40
        }
      ]
    },
    {
      "cell_type": "markdown",
      "source": [
        "# WEEK 4\n",
        "Loops, If statement and functions"
      ],
      "metadata": {
        "id": "xUJ3JHxA0hkn"
      }
    },
    {
      "cell_type": "code",
      "source": [
        "Sacco_names =[\"SuperMetro\", \"Enabled\", \"Nangkis\", \"MTN\", \"Embassava\"]\n",
        "Popular_routes = [\"CBD - Mlolongo - Kitengela\", \"CBD - Kawangware\", \"CBD - Donholm\", \"CBD - Ngong\", \"Kasarani - CBD\"]\n",
        "Fares = [100, 80, 60]"
      ],
      "metadata": {
        "id": "kGtXpVI10jQj"
      },
      "execution_count": null,
      "outputs": []
    },
    {
      "cell_type": "code",
      "source": [
        "# If statement - pick and off-pick hours\n",
        "# for loop - retrieve data from dictionary\n",
        "# Prompt the customer to enter their route and outputs the fare and the sacco\n",
        "# Timing - for specific saccos and differing costs\n",
        "# functions to compare costs"
      ],
      "metadata": {
        "id": "b6C9inig0pxm"
      },
      "execution_count": null,
      "outputs": []
    },
    {
      "cell_type": "code",
      "source": [
        "# Prompts the customer to enter the current time and the sacco and outputs the cost\n",
        "time = int(input(\"What is the current time? : \"))\n",
        "sacco_entered = input(\"Enter the sacco you want to board: \")\n",
        "if time < 1200 and time > 0000:\n",
        "  hour = \"morning\"\n",
        "  if sacco_entered == \"supermetro\":\n",
        "    fare = 100\n",
        "  else:\n",
        "    fare = 80\n",
        "elif time >= 1200 and time <= 1600:\n",
        "  hour = \"afternoon\"\n",
        "  if sacco_entered == \"supermetro\":\n",
        "    fare = 80\n",
        "  else:\n",
        "    fare = 60\n",
        "else:\n",
        "  hour = \"evening\"\n",
        "  if sacco_entered == \"supermetro\":\n",
        "    fare = 120\n",
        "  else:\n",
        "    fare = 100\n",
        "\n",
        "print(f\"It's currently {hour}. Please hurry up!!! The current fare is {fare}\")"
      ],
      "metadata": {
        "colab": {
          "base_uri": "https://localhost:8080/"
        },
        "id": "hebD9jR91I0e",
        "outputId": "b123d004-c9a2-4644-8cee-8f3b2d336bf3"
      },
      "execution_count": null,
      "outputs": [
        {
          "output_type": "stream",
          "name": "stdout",
          "text": [
            "What is the current time? : 1700\n",
            "Enter the sacco you want to board: supermetro\n",
            "It's currently evening. Please hurry up!!! The current fare is 120\n"
          ]
        }
      ]
    },
    {
      "cell_type": "code",
      "source": [
        "Saccos = {\n",
        "    \"SuperMetro\" : {\n",
        "        \"Name\": \"SuperMetro\",\n",
        "        \"Route\": [\"CBD - Mlolongo - Kitengela\", \"CBD - Kawangware\"],\n",
        "        \"Fare\": 100\n",
        "    },\n",
        "    \"Enabled\" : {\n",
        "        \"Name\": \"Enabled\",\n",
        "        \"Route\": [\"CBD - Kawangware\", \"CBD - Ngong\"],\n",
        "        \"Fare\": 80\n",
        "    },\n",
        "    \"Nangkis\" : {\n",
        "        \"Name\": \"Nangkis\",\n",
        "        \"Route\": [\"CBD - Donholm\", \"CBD - Westlands\"],\n",
        "        \"Fare\": 60\n",
        "    }\n",
        "}"
      ],
      "metadata": {
        "id": "z6UiqIxS6fpw"
      },
      "execution_count": null,
      "outputs": []
    },
    {
      "cell_type": "code",
      "source": [
        "# for loop to retrieve the routes that each sacco go to\n",
        "for i in Saccos:\n",
        "  name = Saccos[i][\"Name\"]\n",
        "  route = Saccos[i][\"Route\"]\n",
        "  print(f\"The routes for {name} are {route}\")\n",
        "  print()"
      ],
      "metadata": {
        "colab": {
          "base_uri": "https://localhost:8080/"
        },
        "id": "jRl1prUJ7Uyg",
        "outputId": "b0459ff9-39ea-473e-a53b-1db29e932faa"
      },
      "execution_count": null,
      "outputs": [
        {
          "output_type": "stream",
          "name": "stdout",
          "text": [
            "The routes for SuperMetro are ['CBD - Mlolongo - Kitengela', 'CBD - Kawangware']\n",
            "\n",
            "The routes for Enabled are ['CBD - Kawangware', 'CBD - Ngong']\n",
            "\n",
            "The routes for Nangkis are ['CBD - Donholm', 'CBD - Westlands']\n",
            "\n"
          ]
        }
      ]
    },
    {
      "cell_type": "code",
      "source": [
        "# While loop to reduce the number of empty seats in a matatu\n",
        "Empty_seats = 12\n",
        "while Empty_seats > 0:\n",
        "  Empty_seats -= 1\n",
        "  print(f\"The remaining empty seats are {Empty_seats}\")\n",
        "  if Empty_seats == 2:\n",
        "    break\n",
        "print()\n",
        "print(\"The remaining seats are for the Driver and Conductor\")\n",
        "print(\"The bus is full, we can now leave\")"
      ],
      "metadata": {
        "colab": {
          "base_uri": "https://localhost:8080/"
        },
        "id": "3azRu_KK_x0I",
        "outputId": "bec86af1-8b97-4a39-b970-8a8587e952ba"
      },
      "execution_count": null,
      "outputs": [
        {
          "output_type": "stream",
          "name": "stdout",
          "text": [
            "The remaining empty seats are 11\n",
            "The remaining empty seats are 10\n",
            "The remaining empty seats are 9\n",
            "The remaining empty seats are 8\n",
            "The remaining empty seats are 7\n",
            "The remaining empty seats are 6\n",
            "The remaining empty seats are 5\n",
            "The remaining empty seats are 4\n",
            "The remaining empty seats are 3\n",
            "The remaining empty seats are 2\n",
            "\n",
            "The remaining seats are for the Driver and Conductor\n",
            "The bus is full, we can now leave\n"
          ]
        }
      ]
    },
    {
      "cell_type": "code",
      "source": [
        "# While loop that reduces the number of empty seats in a bus within a specific time period\n",
        "empty_seats = 21\n",
        "muda = 0\n",
        "while empty_seats > 0:\n",
        "  empty_seats -= 1\n",
        "  muda += 3\n",
        "  print(f\" empty seats = {empty_seats}\")\n",
        "  print(f\" muda_uliopita = {muda}\")\n",
        "  print()\n",
        "  if muda == 15:\n",
        "    print(\"Too much time has elapsed. The bus will leave regardless of the number of passengers\")\n",
        "    print(f\"Full seats = {21 - empty_seats}\")\n",
        "    break"
      ],
      "metadata": {
        "colab": {
          "base_uri": "https://localhost:8080/"
        },
        "id": "qShPjWccJGB2",
        "outputId": "78610f94-ee25-4a69-9b08-5fed025fe28d"
      },
      "execution_count": null,
      "outputs": [
        {
          "output_type": "stream",
          "name": "stdout",
          "text": [
            " empty seats = 20\n",
            " muda_uliopita = 3\n",
            "\n",
            " empty seats = 19\n",
            " muda_uliopita = 6\n",
            "\n",
            " empty seats = 18\n",
            " muda_uliopita = 9\n",
            "\n",
            " empty seats = 17\n",
            " muda_uliopita = 12\n",
            "\n",
            " empty seats = 16\n",
            " muda_uliopita = 15\n",
            "\n",
            "Too much time has elapsed. The bus will leave regardless of the number of passengers\n",
            "Full seats = 5\n"
          ]
        }
      ]
    },
    {
      "cell_type": "code",
      "source": [
        "# function to determine the fare at a specific timelines\n",
        "def determine_price(time, sacco):\n",
        "    if time < 1200 and time > 0000:\n",
        "      if sacco_entered == \"supermetro\":\n",
        "        fare = 100\n",
        "      else:\n",
        "        fare = 80\n",
        "    elif time >= 1200 and time <= 1600:\n",
        "      if sacco_entered == \"supermetro\":\n",
        "        fare = 80\n",
        "      else:\n",
        "        fare = 60\n",
        "    else:\n",
        "      if sacco_entered == \"supermetro\":\n",
        "        fare = 120\n",
        "      else:\n",
        "        fare = 100\n",
        "    return(fare)"
      ],
      "metadata": {
        "id": "OCeJHvfSGUA0"
      },
      "execution_count": null,
      "outputs": []
    },
    {
      "cell_type": "code",
      "source": [
        "# function to calculate the total earnings in one trip\n",
        "def calculate_earnings(time, sacco, num_of_people):\n",
        "  determine_price(time, sacco)\n",
        "  total = num_of_people * fare\n",
        "  return(total)"
      ],
      "metadata": {
        "id": "8qfATt05CT9b"
      },
      "execution_count": null,
      "outputs": []
    },
    {
      "cell_type": "code",
      "source": [
        "calculate_earnings(1600, \"supermetro\", 20)"
      ],
      "metadata": {
        "colab": {
          "base_uri": "https://localhost:8080/"
        },
        "id": "qUC6w09cDVEt",
        "outputId": "cdeac5fd-2a75-4a58-f8d0-5fb8d335992b"
      },
      "execution_count": null,
      "outputs": [
        {
          "output_type": "execute_result",
          "data": {
            "text/plain": [
              "1600"
            ]
          },
          "metadata": {},
          "execution_count": 24
        }
      ]
    },
    {
      "cell_type": "markdown",
      "source": [
        "# WEEK 5"
      ],
      "metadata": {
        "id": "hzV4ArtPFb75"
      }
    },
    {
      "cell_type": "code",
      "source": [
        "# Importing required libraries\n",
        "import numpy as np\n",
        "from scipy import stats\n",
        "import matplotlib.pyplot as plt"
      ],
      "metadata": {
        "id": "23ndhCwPyzf3"
      },
      "execution_count": 40,
      "outputs": []
    },
    {
      "cell_type": "code",
      "source": [
        "# Fare prices for the route: CBD to Rongai for 10 unnamed saccos\n",
        "fare_prices = [80, 100, 100, 90, 120, 110, 100, 90, 95, 85]\n",
        "\n",
        "# Distance per route in kilometres\n",
        "route_distance = [12.5, 14.0, 11.3, 13.7, 15.2, 10.5, 16.0, 14.8, 13.0, 12.0]\n",
        "\n",
        "# Estimated travel times for each route in minutes\n",
        "travel_times = [45, 50, 47, 55, 60, 43, 52, 49, 46, 44]"
      ],
      "metadata": {
        "id": "EpdGb4cAFqNX"
      },
      "execution_count": 2,
      "outputs": []
    },
    {
      "cell_type": "code",
      "source": [
        "fare_prices = [80, 100, 100, 90, 120, 110, 100, 90, 95, 85]\n",
        "plt.hist(fare_prices, bins = 8, edgecolor = \"black\", color = \"red\")\n",
        "plt.xlabel(\"fare price\")\n",
        "plt.ylabel(\"frequency\")\n",
        "plt.show\n",
        "\n",
        "print(np.mean(fare_prices))\n",
        "print(np.median(fare_prices))\n",
        "print(stats.mode(fare_prices))"
      ],
      "metadata": {
        "colab": {
          "base_uri": "https://localhost:8080/",
          "height": 508
        },
        "id": "1GQ9OUv6Epl0",
        "outputId": "a4104e8f-93b6-412e-fb28-a5f927cae33b"
      },
      "execution_count": 72,
      "outputs": [
        {
          "output_type": "stream",
          "name": "stdout",
          "text": [
            "97.0\n",
            "97.5\n",
            "ModeResult(mode=np.int64(100), count=np.int64(3))\n"
          ]
        },
        {
          "output_type": "display_data",
          "data": {
            "text/plain": [
              "<Figure size 640x480 with 1 Axes>"
            ],
            "image/png": "[encoded data removed]"
          },
          "metadata": {}
        }
      ]
    },
    {
      "cell_type": "code",
      "source": [
        "# boxplot for fare_prices\n",
        "iqr = np.percentile(fare_prices, 75) - np.percentile(fare_prices, 25)\n",
        "print(iqr)\n",
        "plt.boxplot(fare_prices, showfliers=True)\n",
        "plt.style.use('ggplot')\n",
        "plt.show()"
      ],
      "metadata": {
        "colab": {
          "base_uri": "https://localhost:8080/",
          "height": 448
        },
        "id": "LUgqjG0hKmcF",
        "outputId": "9f0d471a-073b-40a6-f950-38484e6e1910"
      },
      "execution_count": 70,
      "outputs": [
        {
          "output_type": "stream",
          "name": "stdout",
          "text": [
            "10.0\n"
          ]
        },
        {
          "output_type": "display_data",
          "data": {
            "text/plain": [
              "<Figure size 640x480 with 1 Axes>"
            ],
            "image/png": "[encoded data removed]"
          },
          "metadata": {}
        }
      ]
    },
    {
      "cell_type": "code",
      "source": [
        "# Q1: What is the common fare price I would expect if I randomly pick any matatu from CBD to Rongai\n",
        "mode = stats.mode(fare_prices).mode\n",
        "print(f\"The common fare price that you would expect is {mode}\")"
      ],
      "metadata": {
        "colab": {
          "base_uri": "https://localhost:8080/"
        },
        "id": "htRRKC5MxeGk",
        "outputId": "c0403e64-a8a1-4ff4-d80a-5ffef407d486"
      },
      "execution_count": 9,
      "outputs": [
        {
          "output_type": "stream",
          "name": "stdout",
          "text": [
            "The common fare price that you would expect is 100\n"
          ]
        }
      ]
    },
    {
      "cell_type": "code",
      "source": [
        "# Q2: Are most matatus charging fair prices, or are some overpriced\n",
        "overcharged = []\n",
        "for fare in fare_prices:\n",
        "  if fare > mode:\n",
        "    overcharged.append(fare)\n",
        "count = len(overcharged)\n",
        "print(f\"Yes, most matatus are charging fair prices with only {count} overpricing\")"
      ],
      "metadata": {
        "colab": {
          "base_uri": "https://localhost:8080/"
        },
        "id": "hFarrYVkzFgS",
        "outputId": "c5a73be5-0965-4b05-f45d-ba6176e7ad0d"
      },
      "execution_count": 39,
      "outputs": [
        {
          "output_type": "stream",
          "name": "stdout",
          "text": [
            "Yes, most matatus are charging fair prices with only 2 overpricing\n"
          ]
        }
      ]
    },
    {
      "cell_type": "code",
      "source": [
        "# Q3: How consistent are the fare prices among different saccos\n",
        "stddev = np.std(fare_prices)\n",
        "print(f\"The fare prices are not consistent because the standard deviation, {stddev}, is considerably high\")"
      ],
      "metadata": {
        "colab": {
          "base_uri": "https://localhost:8080/"
        },
        "id": "L3z9pfGA2mbK",
        "outputId": "bea6f973-74ad-4715-da19-aeb848f1b2d6"
      },
      "execution_count": 15,
      "outputs": [
        {
          "output_type": "stream",
          "name": "stdout",
          "text": [
            "The fare prices are not consistent because the standard deviation, 11.224972160321824, is considerably high\n"
          ]
        }
      ]
    },
    {
      "cell_type": "code",
      "source": [
        "# Q4: Do saccos that cover longer routes tend to take more time on average\n",
        "# matrix : (route_distance, route_distance) (route_distance, travel_times) (travel_time, route_distance) (travel_time, travel_time)\n",
        "covariance = np.cov(route_distance, travel_times)[0, 1]\n",
        "if covariance > 0:\n",
        "  print(\"Yes, the average travel time increases as the route distance increases \")\n",
        "else:\n",
        "  print(\"No, the average travel time decreases as the route distance increases\")"
      ],
      "metadata": {
        "colab": {
          "base_uri": "https://localhost:8080/"
        },
        "id": "kleGTJPd3cF7",
        "outputId": "22039f99-aeef-44dc-945c-3a98c56b09f1"
      },
      "execution_count": 23,
      "outputs": [
        {
          "output_type": "stream",
          "name": "stdout",
          "text": [
            "Yes, the average travel time increases as the route distance increases \n"
          ]
        }
      ]
    },
    {
      "cell_type": "code",
      "source": [
        "# Q5: Is there a strong relationship between fare prices and route distance\n",
        "corr_1 = np.corrcoef(fare_prices, route_distance)[0, 1]\n",
        "print(\"\"\"\n",
        "No, they don't have a strong relationship, therefore,\n",
        "a change in fare prices does not gurrantee a change in route distance\n",
        "\n",
        "\"\"\")\n",
        "print(corr_1)"
      ],
      "metadata": {
        "colab": {
          "base_uri": "https://localhost:8080/"
        },
        "id": "wLdcQpIC307H",
        "outputId": "7eb50c48-253e-446d-c9f7-6f2cc7d10a13"
      },
      "execution_count": 61,
      "outputs": [
        {
          "output_type": "stream",
          "name": "stdout",
          "text": [
            "\n",
            "No, they don't have a strong relationship, therefore, \n",
            "a change in fare prices does not gurrantee a change in route distance\n",
            "\n",
            "\n",
            "0.14891173559269308\n"
          ]
        }
      ]
    },
    {
      "cell_type": "code",
      "source": [
        "plt.scatter(fare_prices, route_distance)\n",
        "plt.show()"
      ],
      "metadata": {
        "colab": {
          "base_uri": "https://localhost:8080/",
          "height": 430
        },
        "id": "iTZBdVW-JrnM",
        "outputId": "b03b2fdf-3bf4-466e-81e3-0ffdd994268d"
      },
      "execution_count": 60,
      "outputs": [
        {
          "output_type": "display_data",
          "data": {
            "text/plain": [
              "<Figure size 640x480 with 1 Axes>"
            ],
            "image/png": "[encoded data removed]"
          },
          "metadata": {}
        }
      ]
    },
    {
      "cell_type": "code",
      "source": [
        "# Q6: Does a higher cost guarantee a shorter travel time\n",
        "corr_2 = np.corrcoef(fare_prices, travel_times)[0, 1]\n",
        "print(\"There is no gurantee that the travel time will be shorter\")\n",
        "print(corr_2)"
      ],
      "metadata": {
        "colab": {
          "base_uri": "https://localhost:8080/"
        },
        "id": "wf0EVvc28aTp",
        "outputId": "2727c0d2-d1cf-41c8-a538-d078dafbf6ef"
      },
      "execution_count": 62,
      "outputs": [
        {
          "output_type": "stream",
          "name": "stdout",
          "text": [
            "There is no gurantee that the travel time will be shorter\n",
            "0.47983875584161545\n"
          ]
        }
      ]
    },
    {
      "cell_type": "code",
      "source": [
        "plt.scatter(fare_prices, travel_times)\n",
        "plt.show()"
      ],
      "metadata": {
        "colab": {
          "base_uri": "https://localhost:8080/",
          "height": 430
        },
        "id": "Y0R1aIs3KGc_",
        "outputId": "7850b806-fbb1-4278-d396-735283042aad"
      },
      "execution_count": 63,
      "outputs": [
        {
          "output_type": "display_data",
          "data": {
            "text/plain": [
              "<Figure size 640x480 with 1 Axes>"
            ],
            "image/png": "[encoded data removed]"
          },
          "metadata": {}
        }
      ]
    },
    {
      "cell_type": "code",
      "source": [],
      "metadata": {
        "id": "w7TO_XZUNe33"
      },
      "execution_count": null,
      "outputs": []
    }
  ]
}