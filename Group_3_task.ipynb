{
  "nbformat": 4,
  "nbformat_minor": 0,
  "metadata": {
    "colab": {
      "provenance": [],
      "authorship_tag": "ABX9TyN6Ho33UVGjVjyRahLq6qcu",
      "include_colab_link": true
    },
    "kernelspec": {
      "name": "python3",
      "display_name": "Python 3"
    },
    "language_info": {
      "name": "python"
    }
  },
  "cells": [
    {
      "cell_type": "markdown",
      "metadata": {
        "id": "view-in-github",
        "colab_type": "text"
      },
      "source": [
        "<a href=\"https://colab.research.google.com/github/Jimmy-ai1/Group_3/blob/main/Group_3_task.ipynb\" target=\"_parent\"><img src=\"https://colab.research.google.com/assets/colab-badge.svg\" alt=\"Open In Colab\"/></a>"
      ]
    },
    {
      "cell_type": "markdown",
      "source": [
        "Results of the research we undertook:"
      ],
      "metadata": {
        "id": "q_xXOlvRxMFA"
      }
    },
    {
      "cell_type": "code",
      "execution_count": null,
      "metadata": {
        "id": "KCYU7BZTuUEU"
      },
      "outputs": [],
      "source": [
        "# Saccos: Name of sacco, number of buses, fares (Rush hour, Low pick hours)\n",
        "# Routes: CBD - Mlolongo - Kitengela, CBD - Kawangware, CBD - Donholm, CBD - Ngong, Kasarani - CBD\n",
        "# Fares: 100, 80, 60"
      ]
    },
    {
      "cell_type": "code",
      "source": [
        "string = \"SuperMetro\" # Text\n",
        "integer = 110 # Numbers without decimal\n",
        "Float = 100.0 # Numbers with decimal/fractional part"
      ],
      "metadata": {
        "id": "pBnQ9iz92y_7"
      },
      "execution_count": 13,
      "outputs": []
    },
    {
      "cell_type": "code",
      "source": [
        "Sacco_names =[\"SuperMetro\", \"Enabled\", \"Nangkis\", \"MTN\", \"Embassava\"]\n",
        "Popular_routes = [\"CBD - Mlolongo - Kitengela\", \"CBD - Kawangware\", \"CBD - Donholm\", \"CBD - Ngong\", \"Kasarani - CBD\"]\n",
        "Fares = [100, 80, 60]"
      ],
      "metadata": {
        "id": "if7uPQ2LxG_i"
      },
      "execution_count": 5,
      "outputs": []
    },
    {
      "cell_type": "code",
      "source": [
        "# Trying out the sort function\n",
        "Sacco_names.sort()\n",
        "Sacco_names"
      ],
      "metadata": {
        "colab": {
          "base_uri": "https://localhost:8080/"
        },
        "id": "y_8rLdPo9DGB",
        "outputId": "e22b774f-78df-4f60-8449-aa0feccfc436"
      },
      "execution_count": 6,
      "outputs": [
        {
          "output_type": "execute_result",
          "data": {
            "text/plain": [
              "['Embassava', 'Enabled', 'MTN', 'Nangkis', 'SuperMetro']"
            ]
          },
          "metadata": {},
          "execution_count": 6
        }
      ]
    },
    {
      "cell_type": "code",
      "source": [
        "# Printing one element from the Sacco_names list:\n",
        "Sacco_names[1]"
      ],
      "metadata": {
        "colab": {
          "base_uri": "https://localhost:8080/",
          "height": 35
        },
        "id": "9lORFqsCyeYm",
        "outputId": "fa984e25-931a-44b7-d6f9-dcdccdb19cde"
      },
      "execution_count": 7,
      "outputs": [
        {
          "output_type": "execute_result",
          "data": {
            "text/plain": [
              "'Enabled'"
            ],
            "application/vnd.google.colaboratory.intrinsic+json": {
              "type": "string"
            }
          },
          "metadata": {},
          "execution_count": 7
        }
      ]
    },
    {
      "cell_type": "code",
      "source": [
        "# Adding an element to the list (Considering the difference between append and insert)\n",
        "Sacco_names.append(\"Nganya\")\n",
        "Sacco_names"
      ],
      "metadata": {
        "colab": {
          "base_uri": "https://localhost:8080/"
        },
        "id": "fZvgEWDYyuNx",
        "outputId": "fc232c2b-42b4-416f-c2a1-2c2b0cc1fd4e"
      },
      "execution_count": 8,
      "outputs": [
        {
          "output_type": "execute_result",
          "data": {
            "text/plain": [
              "['Embassava', 'Enabled', 'MTN', 'Nangkis', 'SuperMetro', 'Nganya']"
            ]
          },
          "metadata": {},
          "execution_count": 8
        }
      ]
    },
    {
      "cell_type": "code",
      "source": [
        "Sacco_names.insert(1, \"Rembo\")"
      ],
      "metadata": {
        "id": "hVoB73csy-xf"
      },
      "execution_count": 9,
      "outputs": []
    },
    {
      "cell_type": "code",
      "source": [
        "# Removing an element from a list\n",
        "Sacco_names.remove(\"Nganya\")\n",
        "Sacco_names"
      ],
      "metadata": {
        "colab": {
          "base_uri": "https://localhost:8080/"
        },
        "id": "_96g3S20zU1E",
        "outputId": "d0feab28-a5f3-47f6-ce00-42f900f9bd76"
      },
      "execution_count": 10,
      "outputs": [
        {
          "output_type": "execute_result",
          "data": {
            "text/plain": [
              "['Embassava', 'Rembo', 'Enabled', 'MTN', 'Nangkis', 'SuperMetro']"
            ]
          },
          "metadata": {},
          "execution_count": 10
        }
      ]
    },
    {
      "cell_type": "code",
      "source": [
        "# Changing a list to a tuple\n",
        "Tuple_Saccos = tuple(Sacco_names)\n",
        "type(Tuple_Saccos)"
      ],
      "metadata": {
        "colab": {
          "base_uri": "https://localhost:8080/"
        },
        "id": "MIq-DIsY0QH0",
        "outputId": "c39fae4b-83e4-4459-a38c-aecb45f12875"
      },
      "execution_count": 11,
      "outputs": [
        {
          "output_type": "execute_result",
          "data": {
            "text/plain": [
              "tuple"
            ]
          },
          "metadata": {},
          "execution_count": 11
        }
      ]
    },
    {
      "cell_type": "code",
      "source": [
        "# Changing a list to a set\n",
        "Sacco_set = set(Tuple_Saccos)\n",
        "type(Sacco_set)"
      ],
      "metadata": {
        "colab": {
          "base_uri": "https://localhost:8080/"
        },
        "id": "-KAtCLI51U5V",
        "outputId": "508f771f-0572-44ef-8329-d33b02a7ba49"
      },
      "execution_count": 12,
      "outputs": [
        {
          "output_type": "execute_result",
          "data": {
            "text/plain": [
              "set"
            ]
          },
          "metadata": {},
          "execution_count": 12
        }
      ]
    },
    {
      "cell_type": "code",
      "source": [
        "# Sacco name, route it takes, fares it charges\n",
        "Individual_Sacco = {\n",
        "    \"SuperMetro\" : {\n",
        "        \"Name\": \"SuperMetro\",\n",
        "        \"Route\": [\"CBD - Mlolongo - Kitengela\", \"CBD - Kawangware\"],\n",
        "        \"Fare\": 100\n",
        "    },\n",
        "    \"Enabled\" : {\n",
        "        \"Name\": \"Enabled\",\n",
        "        \"Route\": \"CBD - Kawangware\",\n",
        "        \"Fare\": 80\n",
        "    },\n",
        "    \"Nangkis\" : {\n",
        "        \"Name\": \"Nangkis\",\n",
        "        \"Route\": \"CBD - Donholm\",\n",
        "        \"Fare\": 60\n",
        "    },\n",
        "    \"MTN\" : {\n",
        "        \"Name\": \"MTN\",\n",
        "        \"Route\": \"CBD - Ngong\",\n",
        "        \"Fare\": 100\n",
        "    },\n",
        "    \"Embassava\" : {\n",
        "        \"Name\": \"Embassava\",\n",
        "        \"Route\": \"Kasarani - CBD\",\n",
        "        \"Fare\": 80\n",
        "    }\n",
        "}\n",
        "Individual_Sacco"
      ],
      "metadata": {
        "colab": {
          "base_uri": "https://localhost:8080/"
        },
        "id": "NGasuXTh2As2",
        "outputId": "62b7ba10-fada-460c-88e2-f9b022e3bd68"
      },
      "execution_count": null,
      "outputs": [
        {
          "output_type": "execute_result",
          "data": {
            "text/plain": [
              "{'SuperMetro': {'Name': 'SuperMetro',\n",
              "  'Route': ['CBD - Mlolongo - Kitengela', 'CBD - Kawangware'],\n",
              "  'Fare': 100},\n",
              " 'Enabled': {'Name': 'Enabled', 'Route': 'CBD - Kawangware', 'Fare': 80},\n",
              " 'Nangkis': {'Name': 'Nangkis', 'Route': 'CBD - Donholm', 'Fare': 60},\n",
              " 'MTN': {'Name': 'MTN', 'Route': 'CBD - Ngong', 'Fare': 100},\n",
              " 'Embassava': {'Name': 'Embassava', 'Route': 'Kasarani - CBD', 'Fare': 80}}"
            ]
          },
          "metadata": {},
          "execution_count": 43
        }
      ]
    },
    {
      "cell_type": "code",
      "source": [
        "# Printing an element from a dictionary\n",
        "Individual_Sacco[\"Enabled\"]"
      ],
      "metadata": {
        "colab": {
          "base_uri": "https://localhost:8080/"
        },
        "id": "x4B-tGCo3M-B",
        "outputId": "c9300bbb-7f4f-43eb-da34-c70ab8523547"
      },
      "execution_count": null,
      "outputs": [
        {
          "output_type": "execute_result",
          "data": {
            "text/plain": [
              "{'Name': 'Enabled', 'Route': 'CBD - Kawangware', 'Fare': 80}"
            ]
          },
          "metadata": {},
          "execution_count": 40
        }
      ]
    },
    {
      "cell_type": "code",
      "source": [
        "Sacco_names"
      ],
      "metadata": {
        "colab": {
          "base_uri": "https://localhost:8080/"
        },
        "id": "KUYTc19W9l5l",
        "outputId": "a687295e-9e5e-4efd-ef8b-c3b2ba083eb2"
      },
      "execution_count": null,
      "outputs": [
        {
          "output_type": "execute_result",
          "data": {
            "text/plain": [
              "['Embassava',\n",
              " 'Enabled',\n",
              " 'MTN',\n",
              " 'Nangkis',\n",
              " 'Nganya',\n",
              " 'Nganya',\n",
              " 'Rembo',\n",
              " 'SuperMetro']"
            ]
          },
          "metadata": {},
          "execution_count": 50
        }
      ]
    },
    {
      "cell_type": "code",
      "source": [
        "# Data Cleaning\n",
        "Sacco_set = set(Sacco_names)\n",
        "Sacco_names = list(Sacco_set)\n",
        "Sacco_names\n"
      ],
      "metadata": {
        "colab": {
          "base_uri": "https://localhost:8080/"
        },
        "id": "GvMPlJCh9sLD",
        "outputId": "9b5aa479-6ca7-4e31-f849-2229a625089a"
      },
      "execution_count": null,
      "outputs": [
        {
          "output_type": "execute_result",
          "data": {
            "text/plain": [
              "['SuperMetro',\n",
              " 'Nganya',\n",
              " 'Rembo',\n",
              " 'MTN',\n",
              " 'Forward',\n",
              " 'Embassava',\n",
              " 'Enabled',\n",
              " 'Nangkis']"
            ]
          },
          "metadata": {},
          "execution_count": 53
        }
      ]
    },
    {
      "cell_type": "code",
      "source": [
        "Sacco_names.append(\"Forward\")\n",
        "Sacco_names"
      ],
      "metadata": {
        "colab": {
          "base_uri": "https://localhost:8080/"
        },
        "id": "E_XPs3DG-Fzl",
        "outputId": "54eda4e1-f80f-4858-b78d-9411c269cfb5"
      },
      "execution_count": null,
      "outputs": [
        {
          "output_type": "execute_result",
          "data": {
            "text/plain": [
              "['SuperMetro',\n",
              " 'Nganya',\n",
              " 'Rembo',\n",
              " 'MTN',\n",
              " 'Embassava',\n",
              " 'Enabled',\n",
              " 'Nangkis',\n",
              " 'Forward']"
            ]
          },
          "metadata": {},
          "execution_count": 52
        }
      ]
    },
    {
      "cell_type": "code",
      "source": [
        "# Name, where it grows, price\n",
        "Fruit_names = [\"Mango\", \"Apple\", \"Banana\", \"Orange\"]\n",
        "Places = [\"Machakos\", \"Kiambu\", \"Kisii\", \"Kitui\"]\n",
        "Price = [20, 30, 50, 10]\n",
        "Colour = [\"Yellow\", \"Red/Green\", \"Yellow\", \"Orange\"]\n",
        "\n",
        "Fruits_Dictionary = {\n",
        "    \"Mango\":{\n",
        "        \"Where\" : \"Machakos\",\n",
        "        \"Price\" : 20,\n",
        "        \"Colour\" : \"Yellow\"\n",
        "    },\n",
        "    \"Apple\":{\n",
        "        \"Where\" : \"Kiambu\",\n",
        "        \"Price\" : 30,\n",
        "        \"Colour\" : \"Red/Green\"\n",
        "    },\n",
        "    \"Banana\":{\n",
        "        \"Where\" : \"Kisii\",\n",
        "        \"Price\" : 50,\n",
        "        \"Colour\" : \"Yellow\"\n",
        "    },\n",
        "    \"Orange\":{\n",
        "        \"Where\" : \"Kitui\",\n",
        "        \"Price\" : 10,\n",
        "        \"Colour\" : \"Orange\"\n",
        "    }\n",
        "}\n",
        "Fruits_Dictionary\n"
      ],
      "metadata": {
        "colab": {
          "base_uri": "https://localhost:8080/"
        },
        "id": "7Ukhw8sC_JDM",
        "outputId": "62ee55b2-ca1f-430a-b726-2e0fca558512"
      },
      "execution_count": null,
      "outputs": [
        {
          "output_type": "execute_result",
          "data": {
            "text/plain": [
              "{'Mango': {'Where': 'Machakos', 'Price': 20, 'Colour': 'Yellow'},\n",
              " 'Apple': {'Where': 'Kiambu', 'Price': 30, 'Colour': 'Red/Green'},\n",
              " 'Banana': {'Where': 'Kisii', 'Price': 50, 'Colour': 'Yellow'},\n",
              " 'Orange': {'Where': 'Kitui', 'Price': 10, 'Colour': 'Orange'}}"
            ]
          },
          "metadata": {},
          "execution_count": 54
        }
      ]
    }
  ]
}